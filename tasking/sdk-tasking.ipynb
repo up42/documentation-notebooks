{
 "cells": [
  {
   "cell_type": "markdown",
   "metadata": {},
   "source": [
    "# Create a tasking order\n",
    "\n",
    "## Step 1. Set up the notebook\n",
    "\n",
    "### 1. Install dependencies"
   ]
  },
  {
   "cell_type": "code",
   "execution_count": null,
   "metadata": {},
   "outputs": [],
   "source": [
    "!pip install up42-py --upgrade -q\n",
    "\n",
    "import up42, geojson, pathlib\n",
    "import pandas as pd\n",
    "from dataclasses import asdict"
   ]
  },
  {
   "cell_type": "markdown",
   "metadata": {},
   "source": [
    "### 2. Authenticate\n",
    "\n",
    "Create a `credentials.json` file in a directory named `.up42` under your home directory by running the cell below. The path to the file will be `~/.up42/credentials.json`."
   ]
  },
  {
   "cell_type": "code",
   "execution_count": null,
   "metadata": {},
   "outputs": [],
   "source": [
    "# Define the credentials file path if it doesn't exist\n",
    "credentials_file_path = pathlib.Path.home().joinpath(\".up42/credentials.json\")\n",
    "credentials_file_path.parent.mkdir(parents=True, exist_ok=True)\n",
    "credentials_file_path.touch(exist_ok=True)\n",
    "\n",
    "# Print the path to the file\n",
    "print(f\"Credentials file is located at: {credentials_file_path}\")"
   ]
  },
  {
   "cell_type": "markdown",
   "metadata": {},
   "source": [
    "1. Click the link above to the created file and paste the following code:\n",
    "    ```\n",
    "    {\n",
    "        \"username\": \"<your-email-address>\",\n",
    "        \"password\": \"<your-password>\"\n",
    "    }\n",
    "    ```\n",
    "2. Retrieve the email address and password used for logging into the console. Use them as values for `username` and `password`.\n",
    "3. Save the `credentials.json` file.\n",
    "4. Check that the authentication was successful as follows:"
   ]
  },
  {
   "cell_type": "code",
   "execution_count": null,
   "metadata": {},
   "outputs": [],
   "source": [
    "up42.authenticate(cfg_file=credentials_file_path)"
   ]
  },
  {
   "cell_type": "markdown",
   "metadata": {},
   "source": [
    "## Step 2. Get access\n",
    "\n",
    "### 1. Select a tasking collection\n",
    "\n",
    "Choose a tasking collection and get a data product associated with it."
   ]
  },
  {
   "cell_type": "code",
   "execution_count": null,
   "metadata": {},
   "outputs": [],
   "source": [
    "# Fetch all collections\n",
    "tasking_collections = list(up42.ProductGlossary.get_collections(collection_type=up42.CollectionType.TASKING))\n",
    "\n",
    "# Define output\n",
    "def print_product_info(product):\n",
    "    info = asdict(product)\n",
    "    description = info.get('description', '').replace('\\n', '\\\\n')\n",
    "    print(f\"Name: {info.get('name', '')}\")\n",
    "    print(f\"Title: {info.get('title', '')}\")\n",
    "    print(f\"Description: {description}\")\n",
    "    print(f\"ID: {info.get('id', '')}\")\n",
    "    print(f\"EULA ID: {info.get('eula_id', '')}\\n\")\n",
    "\n",
    "# Print information for all data products\n",
    "for collection in tasking_collections:\n",
    "    for product in collection.data_products:\n",
    "        print_product_info(product)"
   ]
  },
  {
   "cell_type": "markdown",
   "metadata": {},
   "source": [
    "Choose a data product."
   ]
  },
  {
   "cell_type": "code",
   "execution_count": null,
   "metadata": {},
   "outputs": [],
   "source": [
    "# The following value is the data product name for Maxar 30 cm\n",
    "data_product_name = \"maxar-30cm-tasking\"\n",
    "\n",
    "# Retrieve the associated data product ID\n",
    "data_product_id = next((p.id for c in tasking_collections for p in c.data_products if p.name == data_product_name), None)"
   ]
  },
  {
   "cell_type": "markdown",
   "metadata": {},
   "source": [
    "### 2. Request access\n",
    "\n",
    "If you want to order the chosen collection for the first time, you need to [request access to it](https://docs.up42.com/getting-started/restrictions#request-access).\n",
    "\n",
    "An email from the Customer Success team usually takes up to 3 days. You can review your access request status on the [Access requests](https://console.up42.com/settings/access) page."
   ]
  },
  {
   "cell_type": "markdown",
   "metadata": {},
   "source": [
    "### 3. Accept the EULA\n",
    "\n",
    "If you want to order the chosen collection for the first time, you need to accept its [end-user license agreement (EULA)](https://docs.up42.com/getting-started/account/eulas)."
   ]
  },
  {
   "cell_type": "markdown",
   "metadata": {},
   "source": [
    "## Step 3. Create an order\n",
    "\n",
    "### 1. Fill out an order form\n",
    "\n",
    "Get detailed information about the [parameters](https://docs.up42.com/data/tasking/order/form) needed to create an order for the chosen data product."
   ]
  },
  {
   "cell_type": "code",
   "execution_count": null,
   "metadata": {},
   "outputs": [],
   "source": [
    "# Create a dictionary of all data product names and their schemas\n",
    "product_schemas = {\n",
    "    product.name: product.schema\n",
    "    for collection in tasking_collections\n",
    "    for product in collection.data_products\n",
    "}\n",
    "\n",
    "# Look up the schema for the selected data product\n",
    "schema = product_schemas.get(data_product_name)\n",
    "schema"
   ]
  },
  {
   "cell_type": "markdown",
   "metadata": {},
   "source": [
    "Before creating an order, find out how order parameters affect the [timeframe of your tasking order](https://docs.up42.com/data/tasking/timeframes/acquisition).\n",
    "\n",
    "Specify the geometry and use the required request body schema format for the chosen data product."
   ]
  },
  {
   "cell_type": "code",
   "execution_count": null,
   "metadata": {},
   "outputs": [],
   "source": [
    "aoi_geometry = {\n",
    "    \"type\": \"Polygon\",\n",
    "    \"coordinates\": (\n",
    "        (\n",
    "            (13.306810340794902, 52.468797326826575),\n",
    "            (13.306810340794902, 52.56290967317342),\n",
    "            (13.447469659205202, 52.56290967317342),\n",
    "            (13.447469659205202, 52.468797326826575),\n",
    "            (13.306810340794902, 52.468797326826575),\n",
    "        ),\n",
    "    ),\n",
    "}\n",
    "\n",
    "features = geojson.FeatureCollection(features=[geojson.Feature(geometry=aoi_geometry)])\n",
    "\n",
    "order_template = up42.BatchOrderTemplate(\n",
    "    data_product_id=data_product_id,\n",
    "    display_name=f\"My tasking order for Maxar 30 cm\",\n",
    "    features=features,\n",
    "    params={\n",
    "        \"acquisitionStart\": \"2026-01-17T22:00:00.000Z\",\n",
    "        \"acquisitionEnd\": \"2026-05-17T22:00:00.000Z\",\n",
    "        \"acquisitionMode\": \"mono\",\n",
    "        \"maxCloudCover\": 25,\n",
    "        \"maxIncidenceAngle\": 10,\n",
    "        \"geometricProcessing\": \"georectified\",\n",
    "        \"pixelCoding\": \"16bit\",\n",
    "        \"spectralBands\": \"bundle_8_band\",\n",
    "        \"priority\": \"standard\",\n",
    "        \"radiometricProcessing\": \"toa\",\n",
    "    },\n",
    "    tags=[\"project-maxar\", \"optical\"]\n",
    ")"
   ]
  },
  {
   "cell_type": "markdown",
   "metadata": {},
   "source": [
    "Check the parameters by printing them."
   ]
  },
  {
   "cell_type": "code",
   "execution_count": null,
   "metadata": {},
   "outputs": [],
   "source": [
    "print(\"\\nOrder parameters:\")\n",
    "for key, value in order_template.params.items():\n",
    "    print(f\"    - {key}: {value}\")"
   ]
  },
  {
   "cell_type": "markdown",
   "metadata": {},
   "source": [
    "### 2. Get a cost estimate\n",
    "\n",
    "Get a cost estimation before creating an order."
   ]
  },
  {
   "cell_type": "code",
   "execution_count": null,
   "metadata": {},
   "outputs": [],
   "source": [
    "# Estimate the cost\n",
    "estimate = order_template.estimate\n",
    "\n",
    "# Define output\n",
    "print(f\"Total credits: {estimate.credits}\")\n",
    "print(f\"Total size: {estimate.size} {estimate.unit}\")\n",
    "print(\"Geometry items:\")\n",
    "for item in estimate.items:\n",
    "    print(f\"    - Index: {item.index}\")\n",
    "    print(f\"      Credits: {item.credits}\")\n",
    "    print(f\"      Size: {item.size} {item.unit}\")"
   ]
  },
  {
   "cell_type": "markdown",
   "metadata": {},
   "source": [
    "The response returns the overall credit amount that will be deducted from your credit balance if you decide to proceed with the ordering."
   ]
  },
  {
   "cell_type": "markdown",
   "metadata": {},
   "source": [
    "### 3. Create an order\n",
    "\n",
    "Create an order with the requested parameters."
   ]
  },
  {
   "cell_type": "code",
   "execution_count": null,
   "metadata": {},
   "outputs": [],
   "source": [
    "# Create orders defined in the template\n",
    "# If your order_template has several separate AOIs that result in several orders, this will create all of them\n",
    "order_references = order_template.place()\n",
    "order = order_references[0].order\n",
    "order"
   ]
  },
  {
   "cell_type": "markdown",
   "metadata": {},
   "source": [
    "If you've defined an AOI with multiple geometries, each geometry will create a separate order. Order names will be suffixed with incrementing numbers: `Order 1`, `Order 2`, etc."
   ]
  },
  {
   "cell_type": "markdown",
   "metadata": {},
   "source": [
    "## Step 4. Review feasibility study options\n",
    "\n",
    "### 1. Review options\n",
    "\n",
    "Depending on the collection and parameter combination, your order might or might not require a [feasibility study](https://docs.up42.com/data/tasking/timeframes/feasibility).\n",
    "\n",
    "* **If a feasibility study isn’t required**\n",
    "\n",
    "    The order is considered feasible within the specified parameters and will move to the activation request stage.\n",
    "\n",
    "* **If a feasibility study is required**\n",
    "\n",
    "    After an order is placed, the Operations team will conduct a feasibility study. They will evaluate the tasking parameters with the provider, and then will present the following assessments:\n",
    "\n",
    "    * The order is possible with the given parameters.\n",
    "    * The order requires modifications with suitable options proposed.\n",
    "\n",
    "You will receive an email notifying you when your order feasibility has been assessed. Using your order ID, review the proposed feasibility options."
   ]
  },
  {
   "cell_type": "code",
   "execution_count": null,
   "metadata": {},
   "outputs": [],
   "source": [
    "tasking = up42.initialize_tasking()\n",
    "tasking.get_feasibility(order_id=order.id)"
   ]
  },
  {
   "cell_type": "markdown",
   "metadata": {},
   "source": [
    "If none of the options are suitable, [contact](https://up42.com/company/contact-ordering) the Operations team."
   ]
  },
  {
   "cell_type": "markdown",
   "metadata": {},
   "source": [
    "### 2. Accept an option\n",
    "\n",
    "You can't modify your order after accepting an option."
   ]
  },
  {
   "cell_type": "code",
   "execution_count": null,
   "metadata": {},
   "outputs": [],
   "source": [
    "tasking.choose_feasibility(\n",
    "    feasibility_id=\"3bf00b63-7188-4b04-aa27-d78e4cd32c01\",\n",
    "    accepted_option_id=\"033b4a5a-c492-4eba-915e-2000a0a84049\"\n",
    ")"
   ]
  },
  {
   "cell_type": "markdown",
   "metadata": {},
   "source": [
    "## Step 5. Activate an order\n",
    "\n",
    "After accepting a feasibility study option, you will receive a price quote for your order. Using your order ID, review the received quotation."
   ]
  },
  {
   "cell_type": "code",
   "execution_count": null,
   "metadata": {},
   "outputs": [],
   "source": [
    "quotations = list(up42.Quotation.all(order_id=order_id))\n",
    "\n",
    "# First, check if any quotations were found at all\n",
    "if not quotations:\n",
    "    print(\"No quotations found for this order.\")\n",
    "else:\n",
    "    count = len(quotations)\n",
    "    print(f\"Found {count} quotation(s)\")\n",
    "    print(\"----------------------------\")\n",
    "\n",
    "    # Loop through all found quotations and print their details\n",
    "    for i, quotation in enumerate(quotations):\n",
    "        print(f\"Quotation ID: {quotation.id}\")\n",
    "        print(f\"Order ID:     {quotation.order_id}\")\n",
    "        print(f\"Status:       {quotation.decision}\")\n",
    "        print(f\"Price:        {quotation.credits_price:,} credits\")\n",
    "\n",
    "        if i < count - 1:\n",
    "            print(\"---\")"
   ]
  },
  {
   "cell_type": "markdown",
   "metadata": {},
   "source": [
    "To activate your order, accept the quotation. Once you accept the tasking quotation, the credits for that order will be deducted. The transaction can’t be reversed."
   ]
  },
  {
   "cell_type": "code",
   "execution_count": null,
   "metadata": {},
   "outputs": [],
   "source": [
    "# Select a specific quotation by its ID\n",
    "quotation_id = \"ea36dee9-fed6-457e-8400-2c20ebd30f44\"\n",
    "selected_quotation = next((q for q in quotations if q.id == quotation_id), None)\n",
    "\n",
    "selected_quotation.accept()\n",
    "selected_quotation.save()\n",
    "\n",
    "# Or, to reject:\n",
    "# selected_quotation.reject()\n",
    "# selected_quotation.save()"
   ]
  },
  {
   "cell_type": "markdown",
   "metadata": {},
   "source": [
    "## Step 6. Monitor orders\n",
    "\n",
    "Check the [status](https://docs.up42.com/developers/api-tasking#order-statuses) of your order."
   ]
  },
  {
   "cell_type": "code",
   "execution_count": null,
   "metadata": {},
   "outputs": [],
   "source": [
    "order.status"
   ]
  },
  {
   "cell_type": "markdown",
   "metadata": {},
   "source": [
    "## Step 7. Download assets\n",
    "\n",
    "The following statuses mean you can download assets from storage:\n",
    "- `BEING_FULFILLED`: Some order assets might have been delivered.\n",
    "- `FULFILLED`: All order assets have been delivered."
   ]
  }
 ],
 "metadata": {
  "colab": {
   "provenance": []
  },
  "kernelspec": {
   "display_name": "Python 3",
   "language": "python",
   "name": "python3"
  },
  "language_info": {
   "codemirror_mode": {
    "name": "ipython",
    "version": 3
   },
   "file_extension": ".py",
   "mimetype": "text/x-python",
   "name": "python",
   "nbconvert_exporter": "python",
   "pygments_lexer": "ipython3",
   "version": "3.9.6"
  }
 },
 "nbformat": 4,
 "nbformat_minor": 4
}
