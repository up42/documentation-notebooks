{
  "cells": [
    {
      "cell_type": "markdown",
      "metadata": {},
      "source": [
        "# Create a tasking order\n",
        "\n",
        "- <a href=\"#step-1\">Step 1. Set up the notebook</a>\n",
        "- <a href=\"#step-2\">Step 2. Get access</a>\n",
        "- <a href=\"#step-3\">Step 3. Create an order</a>\n",
        "- <a href=\"#step-4\">Step 4. Review feasibility study options</a>\n",
        "- <a href=\"#step-5\">Step 5. Activate your order</a>\n",
        "- <a href=\"#step-6\">Step 6. Monitor orders</a>\n",
        "- <a href=\"#step-7\">Step 7. Download assets</a>\n",
        "\n",
        "## <a id=\"step-1\"></a> Step 1. Set up the notebook\n",
        "\n",
        "### 1. Install dependencies"
      ]
    },
    {
      "cell_type": "code",
      "execution_count": null,
      "metadata": {},
      "outputs": [],
      "source": [
        "!pip install up42-py --upgrade -q\n",
        "\n",
        "import up42, geojson, pathlib\n",
        "import pandas as pd"
      ]
    },
    {
      "cell_type": "markdown",
      "metadata": {},
      "source": [
        "### 2. Authenticate\n",
        "\n",
        "Create a `credentials.json` file in a directory named `.up42` under your home directory by running the cell below. The path to the file will be `~/.up42/credentials.json`."
      ]
    },
    {
      "cell_type": "code",
      "execution_count": null,
      "metadata": {},
      "outputs": [],
      "source": [
        "# Define the credentials file path if it doesn't exist\n",
        "credentials_file_path = pathlib.Path.home().joinpath(\".up42/credentials.json\")\n",
        "credentials_file_path.parent.mkdir(parents=True, exist_ok=True)\n",
        "credentials_file_path.touch(exist_ok=True)\n",
        "\n",
        "# Print the path to the file\n",
        "print(f\"Credentials file is located at: {credentials_file_path}\")"
      ]
    },
    {
      "cell_type": "markdown",
      "metadata": {},
      "source": [
        "1. Click the link above to the created file and paste the following code:\n",
        "    ```\n",
        "    {\n",
        "        \"username\": \"<your-email-address>\",\n",
        "        \"password\": \"<your-password>\"\n",
        "    }\n",
        "    ```\n",
        "2. Retrieve the email address and password used for logging into the console. Use them as values for `username` and `password`.\n",
        "3. Save the `credentials.json` file.\n",
        "4. Check that the authentication was successful as follows:"
      ]
    },
    {
      "cell_type": "code",
      "execution_count": null,
      "metadata": {},
      "outputs": [],
      "source": [
        "up42.authenticate(cfg_file=credentials_file_path)"
      ]
    },
    {
      "cell_type": "markdown",
      "metadata": {},
      "source": [
        "## <a id=\"step-2\"></a> Step 2. Get access\n",
        "\n",
        "### 1. Select a tasking collection\n",
        "\n",
        "Choose a tasking collection and get its `data_product_id` for ordering."
      ]
    },
    {
      "cell_type": "code",
      "execution_count": null,
      "metadata": {},
      "outputs": [],
      "source": [
        "tasking_collections = up42.CollectionType.TASKING\n",
        "sort_by_name = up42.CollectionSorting.name\n",
        "data_collections = up42.ProductGlossary.get_collections(\n",
        "    collection_type=tasking_collections,\n",
        "    sort_by=sort_by_name\n",
        ")\n",
        "pd.DataFrame({\"collection\": c.name, \"product\": d.name} for c in data_collections for d in c.data_products)"
      ]
    },
    {
      "cell_type": "markdown",
      "metadata": {},
      "source": [
        "Choose a data product and copy its ID."
      ]
    },
    {
      "cell_type": "code",
      "execution_count": null,
      "metadata": {},
      "outputs": [],
      "source": [
        "# The following value is the product id for Beijing-3N — Custom:\n",
        "data_product_id = \"306153d7-7c44-4621-9200-379c7f6cd649\""
      ]
    },
    {
      "cell_type": "markdown",
      "metadata": {},
      "source": [
        "### 2. Request access\n",
        "\n",
        "If you want to order the chosen collection for the first time, you need to [request access to it](https://docs.up42.com/getting-started/restrictions#request-access).\n",
        "\n",
        "An email from the Customer Success team usually takes up to 3 days. You can review your access request status on the [Access requests](https://console.up42.com/settings/access) page."
      ]
    },
    {
      "cell_type": "markdown",
      "metadata": {},
      "source": [
        "### 3. Accept the EULA\n",
        "\n",
        "If you want to order the chosen collection for the first time, you need to accept its [end-user license agreement (EULA)](https://docs.up42.com/getting-started/account/eulas)."
      ]
    },
    {
      "cell_type": "markdown",
      "metadata": {},
      "source": [
        "## <a id=\"step-3\"></a> Step 3. Create an order\n",
        "\n",
        "### 1. Fill out an order form\n",
        "\n",
        "Get detailed information about the parameters needed to create an order for the chosen data product."
      ]
    },
    {
      "cell_type": "code",
      "execution_count": null,
      "metadata": {},
      "outputs": [],
      "source": [
        "data_product_id.schema"
      ]
    },
    {
      "cell_type": "markdown",
      "metadata": {},
      "source": [
        "Before creating an order, find out how order parameters affect the [timeframe of your tasking order](https://docs.up42.com/data/tasking/acquisition).\n",
        "\n",
        "Specify the geometry and use the required request body schema format for the chosen data product."
      ]
    },
    {
      "cell_type": "code",
      "execution_count": 7,
      "metadata": {},
      "outputs": [],
      "source": [
        "aoi_geometry = {\n",
        "    \"type\": \"Polygon\",\n",
        "    \"coordinates\": (\n",
        "        (\n",
        "            (13.375966, 52.515068),\n",
        "            (13.375966, 52.516639),\n",
        "            (13.378314, 52.516639),\n",
        "            (13.378314, 52.515068),\n",
        "            (13.375966, 52.515068),\n",
        "        ),\n",
        "    ),\n",
        "}\n",
        "\n",
        "features = geojson.FeatureCollection(features=[geojson.Feature(geometry=aoi_geometry)])\n",
        "\n",
        "order_template = up42.BatchOrderTemplate(\n",
        "    data_product_id=data_product_id,\n",
        "    display_name=f\"My tasking order-{date.today()}\",\n",
        "    features=features,\n",
        "    params={\n",
        "        \"acquisitionStart\": \"2025-01-01\",\n",
        "        \"acquisitionEnd\": \"2025-02-20\",\n",
        "        \"acquisitionMode\": \"mono\",\n",
        "        \"maxCloudCover\": 10,\n",
        "        \"maxIncidenceAngle\": 10,\n",
        "        \"geometricProcessing\": \"georectified\",\n",
        "        \"pixelCoding\": \"16bit\",\n",
        "        \"spectralBands\": \"pansharpened_3_band_true_color\",\n",
        "        \"priority\": \"standard\",\n",
        "        \"radiometricProcessing\": \"toa\",\n",
        "    },\n",
        "    tags=[\"project-7\", \"optical\"]\n",
        ")"
      ]
    },
    {
      "cell_type": "markdown",
      "metadata": {},
      "source": [
        "Check the parameters by printing them."
      ]
    },
    {
      "cell_type": "code",
      "execution_count": null,
      "metadata": {},
      "outputs": [],
      "source": [
        "order_template"
      ]
    },
    {
      "cell_type": "markdown",
      "metadata": {},
      "source": [
        "### 2. Get a cost estimate\n",
        "\n",
        "Get a cost estimation before creating an order."
      ]
    },
    {
      "cell_type": "code",
      "execution_count": null,
      "metadata": {},
      "outputs": [],
      "source": [
        "order_template.estimate"
      ]
    },
    {
      "cell_type": "markdown",
      "metadata": {},
      "source": [
        "The response returns the overall credit amount that will be deducted from your credit balance if you decide to proceed with the ordering."
      ]
    },
    {
      "cell_type": "markdown",
      "metadata": {},
      "source": [
        "### 3. Create an order\n",
        "\n",
        "Create an order with the requested parameters."
      ]
    },
    {
      "cell_type": "code",
      "execution_count": 10,
      "metadata": {},
      "outputs": [],
      "source": [
        "order_references = order_template.place()\n",
        "order = order_references[0].order\n",
        "order"
      ]
    },
    {
      "cell_type": "markdown",
      "metadata": {},
      "source": [
        "If you've defined an AOI with multiple geometries, each geometry will create a separate order. Order names will be suffixed with incrementing numbers: `Order 1`, `Order 2`, etc.\n",
        "\n",
        "Once the order is created, you will get a response like this:\n",
        "```\n",
        "2023-07-13 13:22:10,677 - Order is PLACED\n",
        "2023-07-13 13:22:10,677 - Order your-order-id is now PLACED.\n",
        "```"
      ]
    },
    {
      "cell_type": "markdown",
      "metadata": {},
      "source": [
        "## <a id=\"step-4\"></a> Step 4. Review feasibility study options\n",
        "\n",
        "### 1. Review options\n",
        "\n",
        "After an order is created, the Operations team will conduct a [feasibility study](https://docs.up42.com/data/tasking/timeframes/feasibility). They will evaluate the tasking parameters with the provider, and then will present the following assessments:\n",
        "\n",
        "- The order is possible with the given parameters.\n",
        "- The order requires modifications with suitable options proposed.\n",
        "\n",
        "You will receive an email notifying you when your order feasibility has been assessed. Using your order ID, review the proposed feasibility options."
      ]
    },
    {
      "cell_type": "code",
      "execution_count": 11,
      "metadata": {},
      "outputs": [],
      "source": [
        "tasking.get_feasibility(order_id=\"68567134-27ad-7bd7-4b65-d61adb11fc78\")"
      ]
    },
    {
      "cell_type": "markdown",
      "metadata": {},
      "source": [
        "If none of the options are suitable, [contact](https://up42.com/company/contact-ordering) the Operations team."
      ]
    },
    {
      "cell_type": "markdown",
      "metadata": {},
      "source": [
        "### 2. Accept an option\n",
        "\n",
        "You can't modify your order after accepting an option."
      ]
    },
    {
      "cell_type": "code",
      "execution_count": 12,
      "metadata": {},
      "outputs": [],
      "source": [
        "tasking.choose_feasibility(\n",
        "    feasibility_id=\"68567134-27ad-7bd7-4b65-d61adb11fc78\",\n",
        "    accepted_option_id=\"a0d443a2-41e8-4995-8b54-a5cc4c448227\"\n",
        ")"
      ]
    },
    {
      "cell_type": "markdown",
      "metadata": {},
      "source": [
        "## <a id=\"step-5\"></a> Step 5. Activate an order\n",
        "\n",
        "After accepting a feasibility study option, you will receive a price quote for your order. Using your order ID, review the received quotation."
      ]
    },
    {
      "cell_type": "code",
      "execution_count": 13,
      "metadata": {},
      "outputs": [],
      "source": [
        "quotation = up42.Quotation(order_id=\"68567134-27ad-7bd7-4b65-d61adb11fc78\", )"
      ]
    },
    {
      "cell_type": "markdown",
      "metadata": {},
      "source": [
        "To activate your order, accept the quotation. Once you accept the tasking quotation, the credits for that order will be deducted. The transaction can’t be reversed."
      ]
    },
    {
      "cell_type": "code",
      "execution_count": 14,
      "metadata": {},
      "outputs": [],
      "source": [
        "quotation.accept()\n",
        "quotation.save()"
      ]
    },
    {
      "cell_type": "markdown",
      "metadata": {},
      "source": [
        "## <a id=\"step-6\"></a> Step 6. Monitor orders\n",
        "\n",
        "Check the [status](https://docs.up42.com/developers/api-tasking#order-statuses) of your order."
      ]
    },
    {
      "cell_type": "code",
      "execution_count": 15,
      "metadata": {},
      "outputs": [],
      "source": [
        "order.status"
      ]
    },
    {
      "cell_type": "markdown",
      "metadata": {},
      "source": [
        "You can also track the order status until the order is completed."
      ]
    },
    {
      "cell_type": "code",
      "execution_count": 16,
      "metadata": {},
      "outputs": [],
      "source": [
        "order.track()"
      ]
    },
    {
      "cell_type": "markdown",
      "metadata": {},
      "source": [
        "## <a id=\"step-7\"></a> Step 7. Download assets\n",
        "\n",
        "The following statuses mean you can download assets from storage:\n",
        "- `BEING_FULFILLED`: Some order assets might have been delivered. [Download](https://github.com/up42/documentation-notebooks/blob/main/storage/sdk-storage-assets.ipynb) these assets using the `Storage` class.\n",
        "- `FULFILLED`: All order assets have been delivered. [Download](https://github.com/up42/documentation-notebooks/blob/main/storage/sdk-order-assets.ipynb) these assets using the `Order` class."
      ]
    }
  ],
  "metadata": {
    "colab": {
      "provenance": []
    },
    "kernelspec": {
      "display_name": "Python 3",
      "name": "python3"
    },
    "language_info": {
      "codemirror_mode": {
        "name": "ipython",
        "version": 3
      },
      "file_extension": ".py",
      "mimetype": "text/x-python",
      "name": "python",
      "nbconvert_exporter": "python",
      "pygments_lexer": "ipython3",
      "version": "3.11.3"
    },
    "orig_nbformat": 4
  },
  "nbformat": 4,
  "nbformat_minor": 0
}
