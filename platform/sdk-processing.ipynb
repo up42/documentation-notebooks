{
 "cells": [
  {
   "cell_type": "markdown",
   "metadata": {},
   "source": [
    "# Running Processing Jobs\n",
    "\n",
    "A processing job serves as a method to enhance the utilization of ordered geospatial data by employing advanced processing algorithms. This process transforms the data into an analytics-ready state or extracts information for subsequent insight derivation.\n",
    "\n",
    "- <a href=\"#setup\">Set up the notebook</a>\n",
    "- <a href=\"#single-input\">Run Single Input Process</a>\n",
    "- <a href=\"#job-list\">View Jobs</a>\n",
    "- <a href=\"#two-input\">Run Two Input Process</a>"
   ]
  },
  {
   "cell_type": "markdown",
   "metadata": {},
   "source": [
    "## <a id=\"setup\"></a> Set up the notebook"
   ]
  },
  {
   "cell_type": "markdown",
   "metadata": {},
   "source": [
    "### 1. Install prerequisites"
   ]
  },
  {
   "cell_type": "code",
   "execution_count": null,
   "metadata": {},
   "outputs": [],
   "source": [
    "#!pip install up42-py\n",
    "import up42, os\n",
    "from up42 import processing_templates as templates\n",
    "from up42 import processing as processes"
   ]
  },
  {
   "cell_type": "markdown",
   "metadata": {},
   "source": [
    "### 2. Authenticate\n",
    "\n",
    "Create a `credentials.json` file in a directory named `.up42` under your home directory by running the cell below. The path to the file will be `~/.up42/credentials.json`."
   ]
  },
  {
   "cell_type": "code",
   "execution_count": null,
   "metadata": {},
   "outputs": [],
   "source": [
    "# Define the directory path\n",
    "up42_directory = os.path.expanduser(\"~/.up42\")\n",
    "\n",
    "# Create the directory if it doesn't exist\n",
    "if not os.path.exists(up42_directory):\n",
    "    os.makedirs(up42_directory)\n",
    "\n",
    "# Specify the file path\n",
    "credentials_file_path = os.path.join(up42_directory, \"credentials.json\")\n",
    "\n",
    "# Check if the file already exists before creating it\n",
    "if not os.path.exists(credentials_file_path):\n",
    "    # Create an empty credentials.json file\n",
    "    with open(credentials_file_path, \"w\") as credentials_file:\n",
    "        print(f\"The file {credentials_file_path} has been created.\")\n",
    "        pass\n",
    "else:\n",
    "    print(f\"The file {credentials_file_path} already exists.\")"
   ]
  },
  {
   "cell_type": "markdown",
   "metadata": {},
   "source": [
    "1. Click the link above to the created file and paste the following code:\n",
    "    ```json\n",
    "    {\n",
    "        \"username\": \"<your-email-address>\",\n",
    "        \"password\": \"<your-password>\"\n",
    "    }\n",
    "    ```\n",
    "2. Retrieve the email address and password used for logging into the console. Use them as values for username and password.\n",
    "3. Save the `credentials.json` file.\n",
    "4. Check that the authentication was successful as follows:"
   ]
  },
  {
   "cell_type": "code",
   "execution_count": null,
   "metadata": {},
   "outputs": [],
   "source": [
    "up42.authenticate(cfg_file=credentials_file_path)"
   ]
  },
  {
   "cell_type": "markdown",
   "metadata": {},
   "source": [
    "## <a id=\"single-input\"></a> Run Single Input Process\n",
    "\n",
    "Execute Jobs with one STAC input such as Pansharpening"
   ]
  },
  {
   "cell_type": "markdown",
   "metadata": {},
   "source": [
    "### 1. Initialize a specific STAC Item\n",
    "\n",
    "A better scenario would be to have the asset_id OR STAC item_id already in mind.",
    "\n",
    "The input to the Template is a STAC Item object. Therefore, it should be from an asset delivery that is CNAM-compatible"
   ]
  },
  {
   "cell_type": "code",
   "execution_count": null,
   "metadata": {},
   "outputs": [],
   "source": [
    "asset_id = \"\"\n",
    "stac_item = up42.initialize_asset(asset_id).stac_items[0]"
   ]
  },
  {
   "cell_type": "markdown",
   "metadata": {},
   "source": [
    "### 2. Prepare the parameters"
   ]
  },
  {
   "cell_type": "code",
   "execution_count": null,
   "metadata": {},
   "outputs": [],
   "source": [
    "title = \"Example_Pansharpen_SDK\"\n",
    "expected_cost = 100 #MODIFY"
   ]
  },
  {
   "cell_type": "markdown",
   "metadata": {},
   "source": [
    "### 3. Create a Job Template"
   ]
  },
  {
   "cell_type": "code",
   "execution_count": null,
   "metadata": {},
   "outputs": [],
   "source": [
    "template = templates.Pansharpening(\n",
    "    title=title,\n",
    "    item=stac_item\n",
    ")\n",
    "print(template)"
   ]
  },
  {
   "cell_type": "markdown",
   "metadata": {},
   "source": [
    "### 4. Validate the Job"
   ]
  },
  {
   "cell_type": "code",
   "execution_count": null,
   "metadata": {},
   "outputs": [],
   "source": [
    "if not template.is_valid:\n",
    "    print(template.errors)"
   ]
  },
  {
   "cell_type": "markdown",
   "metadata": {},
   "source": [
    "### 5. Get the Job Pricing"
   ]
  },
  {
   "cell_type": "code",
   "execution_count": null,
   "metadata": {},
   "outputs": [],
   "source": [
    "print(template.cost)\n",
    "assert template.cost.credits <= expected_cost"
   ]
  },
  {
   "cell_type": "markdown",
   "metadata": {},
   "source": [
    "### 6. Execute & Track the Job"
   ]
  },
  {
   "cell_type": "code",
   "execution_count": null,
   "metadata": {},
   "outputs": [],
   "source": [
    "job = template.execute()\n",
    "job.track(wait=30, retries=6)\n",
    "\n",
    "print(job.status)\n",
    "print(job.collection_url)"
   ]
  },
  {
   "cell_type": "markdown",
   "metadata": {},
   "source": [
    "## <a id=\"job-list\"></a> View Jobs\n",
    "\n",
    "Retrieve all jobs or a specific job available to user, with additional filtering capabilities"
   ]
  },
  {
   "cell_type": "markdown",
   "metadata": {},
   "source": [
    "### 1. Get All Jobs"
   ]
  },
  {
   "cell_type": "markdown",
   "metadata": {},
   "source": [
    "Set up parameters for filtering jobs"
   ]
  },
  {
   "cell_type": "code",
   "execution_count": null,
   "metadata": {},
   "outputs": [],
   "source": [
    "workspace_id = \"\" #FILL IN\n",
    "process_filter = [\n",
    "    templates.Pansharpening.process_id,\n",
    "    templates.DetectionChangeSpacept.process_id,\n",
    "]\n",
    "status_filter = [\n",
    "    processes.JobStatus.CAPTURED, \n",
    "    processes.JobStatus.RELEASED\n",
    "]\n",
    "sort_filter = processes.JobSorting.credits.asc"
   ]
  },
  {
   "cell_type": "markdown",
   "metadata": {},
   "source": [
    "Call the get jobs method, returning a generator object"
   ]
  },
  {
   "cell_type": "code",
   "execution_count": null,
   "metadata": {},
   "outputs": [],
   "source": [
    "jobs = processes.Job.all(\n",
    "#    process_id=process_filter\n",
    "#    workspace_id=workspace_id,\n",
    "#    sort_by=status_filter,\n",
    "#    min_duration=min_duration,\n",
    "#    max_duration=max_duration,\n",
    ")\n",
    "for i in jobs:  \n",
    "    print(i)"
   ]
  },
  {
   "cell_type": "markdown",
   "metadata": {},
   "source": [
    "### 2. Get a Specific Job"
   ]
  },
  {
   "cell_type": "code",
   "execution_count": null,
   "metadata": {},
   "outputs": [],
   "source": [
    "queried_job = processes.Job.get(job.id)\n",
    "print(queried_job)"
   ]
  },
  {
   "cell_type": "markdown",
   "metadata": {},
   "source": [
    "## <a id=\"two-input\"></a> Run Two Input Process\n",
    "\n",
    "Execute Jobs with two STAC input such as Change Detection"
   ]
  },
  {
   "cell_type": "code",
   "execution_count": null,
   "metadata": {},
   "outputs": [],
   "source": [
    "stac_item_id1= \"\" #FILL IN\n",
    "stac_item_id2= \"\" #FILL IN\n",
    "\n",
    "stac_item1 = pystac.get_item(stac_item_id1).to_dict()\n",
    "stac_item2 = pystac.get_item(stac_item_id2).to_dict()\n",
    "\n",
    "template = templates.HypervergePleiadesChangeDetection(\n",
    "    title=\"SDK Detection Change Example\", \n",
    "    items=[stac_item1, stac_item2]\n",
    ")"
   ]
  },
  {
   "cell_type": "markdown",
   "metadata": {},
   "source": [
    "And you would validate and execute the template in a similar manner to the first example"
   ]
  }
 ],
 "metadata": {
  "colab": {
   "provenance": []
  },
  "kernelspec": {
   "display_name": "Python 3 (ipykernel)",
   "language": "python",
   "name": "python3"
  },
  "language_info": {
   "codemirror_mode": {
    "name": "ipython",
    "version": 3
   },
   "file_extension": ".py",
   "mimetype": "text/x-python",
   "name": "python",
   "nbconvert_exporter": "python",
   "pygments_lexer": "ipython3",
   "version": "3.9.12"
  }
 },
 "nbformat": 4,
 "nbformat_minor": 4
}
