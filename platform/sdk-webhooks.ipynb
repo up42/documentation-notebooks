{
 "cells": [
  {
   "cell_type": "markdown",
   "metadata": {},
   "source": [
    "# Create and manage webhooks\n",
    "\n",
    "A webhook is a method for sending event notifications from one application to another. When something happens in a source system indicated by an event, the webhook transmits an event notification via HTTPS to a specific URL.\n",
    "\n",
    "- <a href=\"#setup\">Set up the notebook</a>\n",
    "- <a href=\"#creation\">Create and test a webhook</a>\n",
    "- <a href=\"#webhook-list\">View all webhooks</a>\n",
    "- <a href=\"#editing\">Edit a webhook</a>\n",
    "- <a href=\"#deletion\">Delete a webhook</a>\n",
    "\n",
    "## <a id=\"setup\"></a> Set up the notebook\n",
    "\n",
    "### 1. Install prerequisites"
   ]
  },
  {
   "cell_type": "code",
   "execution_count": 1,
   "metadata": {},
   "outputs": [],
   "source": [
    "!pip install up42-py\n",
    "\n",
    "import up42, os"
   ]
  },
  {
   "cell_type": "markdown",
   "metadata": {},
   "source": [
    "### 2. Authenticate\n",
    "\n",
    "Create a `credentials.json` file in a directory named `.up42` under your home directory by running the cell below. The path to the file will be `~/.up42/credentials.json`."
   ]
  },
  {
   "cell_type": "code",
   "execution_count": 2,
   "metadata": {
    "ExecuteTime": {
     "end_time": "2024-06-21T09:16:12.709499Z",
     "start_time": "2024-06-21T09:16:12.706687Z"
    }
   },
   "outputs": [
    {
     "name": "stdout",
     "output_type": "stream",
     "text": [
      "The file /Users/max.mustermann/.up42/credentials.json already exists.\n"
     ]
    }
   ],
   "source": [
    "# Define the directory path\n",
    "up42_directory = os.path.expanduser(\"~/.up42\")\n",
    "\n",
    "# Create the directory if it doesn't exist\n",
    "if not os.path.exists(up42_directory):\n",
    "    os.makedirs(up42_directory)\n",
    "\n",
    "# Specify the file path\n",
    "credentials_file_path = os.path.join(up42_directory, \"credentials.json\")\n",
    "\n",
    "# Check if the file already exists before creating it\n",
    "if not os.path.exists(credentials_file_path):\n",
    "    # Create an empty credentials.json file\n",
    "    with open(credentials_file_path, \"w\") as credentials_file:\n",
    "        print(f\"The file {credentials_file_path} has been created.\")\n",
    "        pass\n",
    "else:\n",
    "    print(f\"The file {credentials_file_path} already exists.\")"
   ]
  },
  {
   "cell_type": "markdown",
   "metadata": {},
   "source": [
    "1. Click the link above to the created file and paste the following code:\n",
    "    ```json\n",
    "    {\n",
    "        \"username\": \"<your-email-address>\",\n",
    "        \"password\": \"<your-password>\"\n",
    "    }\n",
    "    ```\n",
    "2. Retrieve the email address and password used for logging into the console. Use them as values for username and password.\n",
    "3. Save the `credentials.json` file.\n",
    "4. Check that the authentication was successful as follows:"
   ]
  },
  {
   "cell_type": "code",
   "execution_count": 3,
   "metadata": {
    "ExecuteTime": {
     "end_time": "2024-06-21T09:23:43.393366Z",
     "start_time": "2024-06-21T09:16:12.710455Z"
    }
   },
   "outputs": [
    {
     "name": "stderr",
     "output_type": "stream",
     "text": [
      "2024-06-24 15:20:24,738 - Authentication with UP42 successful!\n"
     ]
    }
   ],
   "source": [
    "up42.authenticate(cfg_file=credentials_file_path)"
   ]
  },
  {
   "cell_type": "markdown",
   "metadata": {},
   "source": [
    "## <a id=\"creation\"></a> Create and test a webhook\n",
    "\n",
    "### 1. Select webhook events\n",
    "\n",
    "Get a list of notification events you can subscribe to."
   ]
  },
  {
   "cell_type": "code",
   "execution_count": 4,
   "metadata": {
    "ExecuteTime": {
     "end_time": "2024-06-21T09:23:43.543145Z",
     "start_time": "2024-06-21T09:23:43.410498Z"
    }
   },
   "outputs": [],
   "source": [
    "up42.Webhook.get_webhook_events()"
   ]
  },
  {
   "cell_type": "markdown",
   "metadata": {},
   "source": [
    "Choose events and copy their names."
   ]
  },
  {
   "cell_type": "code",
   "execution_count": 5,
   "metadata": {
    "ExecuteTime": {
     "end_time": "2024-06-21T09:23:43.561592Z",
     "start_time": "2024-06-21T09:23:43.549545Z"
    }
   },
   "outputs": [],
   "source": [
    "selected_events = [\"order.status\"]"
   ]
  },
  {
   "cell_type": "markdown",
   "metadata": {},
   "source": [
    "### 2. Create and save a webhook"
   ]
  },
  {
   "cell_type": "code",
   "execution_count": 6,
   "metadata": {
    "ExecuteTime": {
     "end_time": "2024-06-21T09:23:44.243877Z",
     "start_time": "2024-06-21T09:23:43.563187Z"
    }
   },
   "outputs": [
    {
     "name": "stderr",
     "output_type": "stream",
     "text": [
      "2024-06-24 15:22:01,589 - Created webhook Webhook(url='https://receiving-url.com', name='A webhook for order updates', events=['order.status'], active=True, secret=None, id='a0d443a2-41e8-4995-8b54-a5cc4c448227', created_at='2024-06-24T13:22:01.467259794Z', updated_at='2024-06-24T13:22:01.467259794Z')\n"
     ]
    }
   ],
   "source": [
    "webhook = up42.Webhook(\n",
    "    name=\"A webhook for order updates\",\n",
    "    url=\"https://receiving-url.com\",\n",
    "    events=selected_events,\n",
    "    active=True\n",
    ")\n",
    "webhook.save()\n",
    "\n",
    "created_webhook_id = webhook.id"
   ]
  },
  {
   "cell_type": "markdown",
   "metadata": {},
   "source": [
    "### 3. Test an existing webhook"
   ]
  },
  {
   "cell_type": "code",
   "execution_count": 7,
   "metadata": {},
   "outputs": [],
   "source": [
    "webhook = up42.Webhook.get(webhook_id=created_webhook_id)\n",
    "\n",
    "webhook.trigger_test_events()"
   ]
  },
  {
   "cell_type": "markdown",
   "metadata": {},
   "source": [
    "## <a id=\"webhook-list\"></a> View all webhooks"
   ]
  },
  {
   "cell_type": "code",
   "execution_count": 8,
   "metadata": {},
   "outputs": [],
   "source": [
    "up42.Webhook.all()"
   ]
  },
  {
   "cell_type": "markdown",
   "metadata": {},
   "source": [
    "## <a id=\"editing\"></a> Edit a webhook\n",
    "\n",
    "Specify the ID of the webhook you want to update."
   ]
  },
  {
   "cell_type": "code",
   "execution_count": 9,
   "metadata": {
    "ExecuteTime": {
     "end_time": "2024-06-21T09:25:03.756075Z",
     "start_time": "2024-06-21T09:25:03.752743Z"
    }
   },
   "outputs": [],
   "source": [
    "webhook_for_updating = \"e869bb26-13cc-4d9e-bc51-92ee8052c0ff\""
   ]
  },
  {
   "cell_type": "markdown",
   "metadata": {},
   "source": [
    "If you don't have a webhook ID, retrieve all webhooks from your workspace and their IDs."
   ]
  },
  {
   "cell_type": "code",
   "execution_count": 10,
   "metadata": {},
   "outputs": [],
   "source": [
    "webhooks = up42.Webhook.all()\n",
    "\n",
    "for webhook in webhooks:\n",
    "    print(webhook)"
   ]
  },
  {
   "cell_type": "markdown",
   "metadata": {},
   "source": [
    "Update the selected webhook by specifying new parameters."
   ]
  },
  {
   "cell_type": "code",
   "execution_count": 11,
   "metadata": {
    "ExecuteTime": {
     "end_time": "2024-06-21T09:25:18.884929Z",
     "start_time": "2024-06-21T09:25:18.488010Z"
    }
   },
   "outputs": [
    {
     "name": "stderr",
     "output_type": "stream",
     "text": [
      "2024-06-24 15:27:15,972 - Updated webhook Webhook(url='https://new-receiving-url.com', name='A new name', events=['order.status'], active=True, secret='RFZTJnNAChqZKNmo', id='a0d443a2-41e8-4995-8b54-a5cc4c448227', created_at='2024-04-11T08:46:44.25611Z', updated_at='2024-06-24T13:27:15.912250497Z')\n"
     ]
    }
   ],
   "source": [
    "webhook = up42.Webhook.get(webhook_id=webhook_for_updating)\n",
    "webhook.name = \"A new name\"\n",
    "webhook.url = \"https://new-receiving-url.com\"\n",
    "webhook.events = [\"order.status\"]\n",
    "webhook.active = True\n",
    "webhook.secret = \"RFZTJnNAChqZKNmo\"\n",
    "webhook.save()"
   ]
  },
  {
   "cell_type": "markdown",
   "metadata": {},
   "source": [
    "## <a id=\"deletion\"></a> Delete a webhook\n",
    "\n",
    "Specify the ID of the webhook you want to delete."
   ]
  },
  {
   "cell_type": "code",
   "execution_count": 12,
   "metadata": {
    "ExecuteTime": {
     "end_time": "2024-06-21T09:25:56.904143Z",
     "start_time": "2024-06-21T09:25:56.902163Z"
    }
   },
   "outputs": [],
   "source": [
    "webhook_for_deletion = \"a0d443a2-41e8-4995-8b54-a5cc4c448227\""
   ]
  },
  {
   "cell_type": "markdown",
   "metadata": {},
   "source": [
    "If you don't have a webhook ID, retrieve all webhooks from your workspace and their IDs."
   ]
  },
  {
   "cell_type": "code",
   "execution_count": 13,
   "metadata": {},
   "outputs": [],
   "source": [
    "webhooks = up42.Webhook.all()\n",
    "\n",
    "for webhook in webhooks:\n",
    "    print(webhook)"
   ]
  },
  {
   "cell_type": "markdown",
   "metadata": {},
   "source": [
    "Delete the selected webhook."
   ]
  },
  {
   "cell_type": "code",
   "execution_count": 14,
   "metadata": {
    "ExecuteTime": {
     "end_time": "2024-06-21T09:26:07.261153Z",
     "start_time": "2024-06-21T09:26:06.948548Z"
    }
   },
   "outputs": [
    {
     "name": "stderr",
     "output_type": "stream",
     "text": [
      "2024-06-24 15:27:45,638 - Successfully deleted Webhook: a0d443a2-41e8-4995-8b54-a5cc4c448227\n"
     ]
    }
   ],
   "source": [
    "webhook = up42.Webhook.get(webhook_id=webhook_for_deletion)\n",
    "webhook.delete()"
   ]
  }
 ],
 "metadata": {
  "colab": {
   "provenance": []
  },
  "kernelspec": {
   "display_name": "Python 3 (ipykernel)",
   "language": "python",
   "name": "python3"
  },
  "language_info": {
   "codemirror_mode": {
    "name": "ipython",
    "version": 3
   },
   "file_extension": ".py",
   "mimetype": "text/x-python",
   "name": "python",
   "nbconvert_exporter": "python",
   "pygments_lexer": "ipython3",
   "version": "3.11.3"
  },
  "orig_nbformat": 4
 },
 "nbformat": 4,
 "nbformat_minor": 0
}
