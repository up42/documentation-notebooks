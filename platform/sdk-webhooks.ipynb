{
 "cells": [
  {
   "cell_type": "markdown",
   "metadata": {},
   "source": [
    "# Create and manage webhooks\n",
    "\n",
    "A webhook is a method for sending event notifications from one application to another. When something happens in a source system indicated by an event, the webhook transmits an event notification via HTTPS to a specific URL.\n",
    "\n",
    "- <a href=\"#setup\">Set up the notebook</a>\n",
    "- <a href=\"#creation\">Create and test a webhook</a>\n",
    "- <a href=\"#webhook-list\">View webhooks</a>\n",
    "- <a href=\"#editing\">Edit a webhook</a>\n",
    "- <a href=\"#deletion\">Delete a webhook</a>\n",
    "\n",
    "## <a id=\"setup\"></a> Set up the notebook\n",
    "\n",
    "### 1. Install prerequisites"
   ]
  },
  {
   "cell_type": "code",
   "execution_count": null,
   "metadata": {},
   "outputs": [],
   "source": [
    "!pip install up42-py\n",
    "\n",
    "import up42"
   ]
  },
  {
   "cell_type": "markdown",
   "metadata": {},
   "source": [
    "### 2. Authenticate\n",
    "\n",
    "Create a `credentials.json` file in a directory named `.up42` under your home directory by running the cell below. The path to the file will be `~/.up42/credentials.json`\n"
   ]
  },
  {
   "cell_type": "code",
   "execution_count": 2,
   "metadata": {
    "ExecuteTime": {
     "end_time": "2024-06-21T09:16:12.709499Z",
     "start_time": "2024-06-21T09:16:12.706687Z"
    }
   },
   "outputs": [],
   "source": [
    "import pathlib\n",
    "up42_home = pathlib.Path.home() / \".up42/\"\n",
    "up42_home.mkdir(exist_ok=True)\n",
    "credentials_path = up42_home / \"credentials.json\"\n",
    "credentials_path.touch(exist_ok=True)"
   ]
  },
  {
   "cell_type": "markdown",
   "metadata": {},
   "source": [
    "1. Open the created file and paste the following code:\n",
    "    ```json\n",
    "    {\n",
    "        \"username\": \"<your-email-address>\",\n",
    "        \"password\": \"<your-password>\"\n",
    "    }\n",
    "    ```\n",
    "2. Retrieve the email address and password used for logging into the console. Use them as values for username and password.\n",
    "3. Save the `credentials.json` file.\n",
    "4. Check that the authentication was successful as follows:"
   ]
  },
  {
   "cell_type": "code",
   "execution_count": 3,
   "metadata": {
    "ExecuteTime": {
     "end_time": "2024-06-21T09:23:43.393366Z",
     "start_time": "2024-06-21T09:16:12.710455Z"
    }
   },
   "outputs": [
    {
     "name": "stderr",
     "output_type": "stream",
     "text": [
      "2024-06-21 11:19:58,145 - Authentication with UP42 successful!\n"
     ]
    }
   ],
   "source": [
    "up42.authenticate(cfg_file=credentials_path)"
   ]
  },
  {
   "cell_type": "markdown",
   "metadata": {},
   "source": [
    "## <a id=\"creation\"></a> Create and test a webhook\n",
    "\n",
    "### 1. Select webhook events\n",
    "\n",
    "Get a list of notification events you can subscribe to."
   ]
  },
  {
   "cell_type": "code",
   "execution_count": 4,
   "metadata": {
    "ExecuteTime": {
     "end_time": "2024-06-21T09:23:43.543145Z",
     "start_time": "2024-06-21T09:23:43.410498Z"
    }
   },
   "outputs": [
    {
     "data": {
      "text/plain": "[{'name': 'job.status',\n  'title': 'Job Status Updates',\n  'category': 'job',\n  'description': 'Sent when job/task status is updated',\n  'documentation': 'https://docs.up42.com/developers/'},\n {'name': 'order.status',\n  'title': 'Order Status Updates',\n  'category': 'order',\n  'description': 'Sent when order status is updated',\n  'documentation': 'https://docs.up42.com/developers/'}]"
     },
     "execution_count": 4,
     "metadata": {},
     "output_type": "execute_result"
    }
   ],
   "source": [
    "up42.Webhook.get_webhook_events()"
   ]
  },
  {
   "cell_type": "markdown",
   "metadata": {},
   "source": [
    "Choose events and copy their names."
   ]
  },
  {
   "cell_type": "code",
   "execution_count": 5,
   "metadata": {
    "ExecuteTime": {
     "end_time": "2024-06-21T09:23:43.561592Z",
     "start_time": "2024-06-21T09:23:43.549545Z"
    }
   },
   "outputs": [],
   "source": [
    "selected_events = [\"order.status\", \"job.status\"]"
   ]
  },
  {
   "cell_type": "markdown",
   "metadata": {},
   "source": [
    "### 2. Create and save a webhook"
   ]
  },
  {
   "cell_type": "code",
   "execution_count": 6,
   "metadata": {
    "ExecuteTime": {
     "end_time": "2024-06-21T09:23:44.243877Z",
     "start_time": "2024-06-21T09:23:43.563187Z"
    }
   },
   "outputs": [
    {
     "name": "stderr",
     "output_type": "stream",
     "text": [
      "2024-06-21 11:23:44,237 - Created webhook Webhook(url='https://receiving-url.com', name='A webhook for order updates', events=['order.status', 'job.status'], active=True, secret=None, id='28830b30-5bcd-4d15-9f29-4df6eaf94a56', created_at='2024-06-21T09:23:45.372505955Z', updated_at='2024-06-21T09:23:45.372505955Z')\n"
     ]
    }
   ],
   "source": [
    "webhook = up42.Webhook(\n",
    "    name=\"A webhook for order updates\",\n",
    "    url=\"https://receiving-url.com\",\n",
    "    events=selected_events,\n",
    "    active=True\n",
    ")\n",
    "webhook.save()\n",
    "\n",
    "created_webhook_id = webhook.id"
   ]
  },
  {
   "cell_type": "markdown",
   "metadata": {},
   "source": [
    "### 3. Retrieve and test an existing webhook"
   ]
  },
  {
   "cell_type": "code",
   "execution_count": null,
   "metadata": {},
   "outputs": [],
   "source": [
    "webhook = up42.Webhook.get(webhook_id=created_webhook_id)\n",
    "\n",
    "webhook.trigger_test_events()"
   ]
  },
  {
   "cell_type": "markdown",
   "metadata": {},
   "source": [
    "## <a id=\"webhook-list\"></a> View webhooks"
   ]
  },
  {
   "cell_type": "code",
   "execution_count": null,
   "metadata": {},
   "outputs": [],
   "source": [
    "up42.Webhook.all()"
   ]
  },
  {
   "cell_type": "markdown",
   "metadata": {},
   "source": [
    "## <a id=\"editing\"></a> Edit a webhook\n",
    "\n",
    "Specify the ID of the webhook you want to update."
   ]
  },
  {
   "cell_type": "code",
   "execution_count": 9,
   "metadata": {
    "ExecuteTime": {
     "end_time": "2024-06-21T09:25:03.756075Z",
     "start_time": "2024-06-21T09:25:03.752743Z"
    }
   },
   "outputs": [],
   "source": [
    "webhook_for_updating = \"e869bb26-13cc-4d9e-bc51-92ee8052c0ff\""
   ]
  },
  {
   "cell_type": "markdown",
   "metadata": {},
   "source": [
    "If you don't have a webhook ID, retrieve all webhooks from your workspace and their IDs."
   ]
  },
  {
   "cell_type": "code",
   "execution_count": null,
   "metadata": {},
   "outputs": [],
   "source": [
    "webhooks = up42.Webhook.all()\n",
    "\n",
    "for webhook in webhooks:\n",
    "    print(webhook)"
   ]
  },
  {
   "cell_type": "markdown",
   "metadata": {},
   "source": [
    "Update the selected webhook by specifying new parameters."
   ]
  },
  {
   "cell_type": "code",
   "execution_count": 11,
   "metadata": {
    "ExecuteTime": {
     "end_time": "2024-06-21T09:25:18.884929Z",
     "start_time": "2024-06-21T09:25:18.488010Z"
    }
   },
   "outputs": [
    {
     "name": "stderr",
     "output_type": "stream",
     "text": [
      "2024-06-21 11:25:18,883 - Updated webhook Webhook(url='https://new-receiving-url.com', name='A new name', events=['order.status'], active=True, secret='RFZTJnNAChqZKNmo', id='e869bb26-13cc-4d9e-bc51-92ee8052c0ff', created_at='2024-06-20T14:00:05.753791Z', updated_at='2024-06-20T14:00:05.753791Z')\n"
     ]
    }
   ],
   "source": [
    "webhook = up42.Webhook.get(webhook_id=webhook_for_updating)\n",
    "webhook.name = \"A new name\" \n",
    "webhook.url = \"https://new-receiving-url.com\"\n",
    "webhook.events = [\"order.status\"]\n",
    "webhook.active = True\n",
    "webhook.secret = \"RFZTJnNAChqZKNmo\"\n",
    "# or\n",
    "import dataclasses\n",
    "webhook = dataclasses.replace(\n",
    "    webhook,\n",
    "    name=\"A new name\", \n",
    "    url=\"https://new-receiving-url.com\",\n",
    "    events=[\"order.status\"],\n",
    "    active=True,\n",
    "    secret=\"RFZTJnNAChqZKNmo\"\n",
    ")\n",
    "webhook.save()"
   ]
  },
  {
   "cell_type": "markdown",
   "metadata": {},
   "source": [
    "## <a id=\"deletion\"></a> Delete a webhook\n",
    "\n",
    "Specify the ID of the webhook you want to delete."
   ]
  },
  {
   "cell_type": "code",
   "execution_count": 12,
   "metadata": {
    "ExecuteTime": {
     "end_time": "2024-06-21T09:25:56.904143Z",
     "start_time": "2024-06-21T09:25:56.902163Z"
    }
   },
   "outputs": [],
   "source": [
    "webhook_for_deletion = \"abe53347-9f9e-4a86-a364-d881a9e1c57c\""
   ]
  },
  {
   "cell_type": "markdown",
   "metadata": {},
   "source": [
    "If you don't have a webhook ID, retrieve all webhooks from your workspace and their IDs."
   ]
  },
  {
   "cell_type": "code",
   "execution_count": null,
   "metadata": {},
   "outputs": [],
   "source": [
    "webhooks = up42.Webhook.all()\n",
    "\n",
    "for webhook in webhooks:\n",
    "    print(webhook)"
   ]
  },
  {
   "cell_type": "markdown",
   "metadata": {},
   "source": [
    "Delete the selected webhook."
   ]
  },
  {
   "cell_type": "code",
   "execution_count": 14,
   "metadata": {
    "ExecuteTime": {
     "end_time": "2024-06-21T09:26:07.261153Z",
     "start_time": "2024-06-21T09:26:06.948548Z"
    }
   },
   "outputs": [
    {
     "name": "stderr",
     "output_type": "stream",
     "text": [
      "2024-06-21 11:26:07,259 - Successfully deleted Webhook: abe53347-9f9e-4a86-a364-d881a9e1c57c\n"
     ]
    }
   ],
   "source": [
    "webhook = up42.Webhook.get(webhook_id=webhook_for_deletion)\n",
    "webhook.delete()"
   ]
  }
 ],
 "metadata": {
  "colab": {
   "provenance": []
  },
  "kernelspec": {
   "name": "python3",
   "language": "python",
   "display_name": "Python 3 (ipykernel)"
  },
  "language_info": {
   "codemirror_mode": {
    "name": "ipython",
    "version": 3
   },
   "file_extension": ".py",
   "mimetype": "text/x-python",
   "name": "python",
   "nbconvert_exporter": "python",
   "pygments_lexer": "ipython3",
   "version": "3.11.3"
  },
  "orig_nbformat": 4
 },
 "nbformat": 4,
 "nbformat_minor": 0
}
