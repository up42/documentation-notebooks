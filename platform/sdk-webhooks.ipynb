{
  "cells": [
    {
      "cell_type": "markdown",
      "metadata": {},
      "source": [
        "# Create and manage webhooks\n",
        "\n",
        "A webhook is a method for sending event notifications from one application to another. When something happens in a source system indicated by an event, the webhook transmits an event notification via HTTPS to a specific URL.\n",
        "\n",
        "- <a href=\"#setup\">Set up the notebook</a>\n",
        "- <a href=\"#creation\">Create and test a webhook</a>\n",
        "- <a href=\"#webhook-list\">View webhooks</a>\n",
        "- <a href=\"#editing\">Edit a webhook</a>\n",
        "- <a href=\"#deletion\">Delete a webhook</a>\n",
        "\n",
        "## <a id=\"setup\"></a> Set up the notebook\n",
        "\n",
        "### 1. Install prerequisites"
      ]
    },
    {
      "cell_type": "code",
      "execution_count": 1,
      "metadata": {},
      "outputs": [],
      "source": [
        "!pip install up42-py\n",
        "\n",
        "import up42, os"
      ]
    },
    {
      "cell_type": "markdown",
      "metadata": {},
      "source": [
        "### 2. Authenticate\n",
        "\n",
        "Create a `credentials.json` file in a directory named `.up42` under your home directory by running the cell below. The path to the file will be `~/.up42/credentials.json`."
      ]
    },
    {
      "cell_type": "code",
      "execution_count": 2,
      "metadata": {},
      "outputs": [
        {
          "name": "stdout",
          "output_type": "stream",
          "text": [
            "The file /Users/max.mustermann/.up42/credentials.json already exists.\n"
          ]
        }
      ],
      "source": [
        "# Define the directory path\n",
        "up42_directory = os.path.expanduser(\"~/.up42\")\n",
        "\n",
        "# Create the directory if it doesn't exist\n",
        "if not os.path.exists(up42_directory):\n",
        "    os.makedirs(up42_directory)\n",
        "\n",
        "# Specify the file path\n",
        "credentials_file_path = os.path.join(up42_directory, \"credentials.json\")\n",
        "\n",
        "# Check if the file already exists before creating it\n",
        "if not os.path.exists(credentials_file_path):\n",
        "    # Create an empty credentials.json file\n",
        "    with open(credentials_file_path, \"w\") as credentials_file:\n",
        "        print(f\"The file {credentials_file_path} has been created.\")\n",
        "        pass\n",
        "else:\n",
        "    print(f\"The file {credentials_file_path} already exists.\")"
      ]
    },
    {
      "cell_type": "markdown",
      "metadata": {},
      "source": [
        "1. Click the link above to the created file and paste the following code:\n",
        "    ```json\n",
        "    {\n",
        "        \"username\": \"<your-email-address>\",\n",
        "        \"password\": \"<your-password>\"\n",
        "    }\n",
        "    ```\n",
        "2. Retrieve the email address and password used for logging into the console. Use them as values for username and password.\n",
        "3. Save the `credentials.json` file.\n",
        "4. Check that the authentication was successful as follows:"
      ]
    },
    {
      "cell_type": "code",
      "execution_count": 3,
      "metadata": {},
      "outputs": [
        {
          "name": "stderr",
          "output_type": "stream",
          "text": [
            "2024-04-11 11:35:44,922 - Authentication with UP42 successful!\n"
          ]
        }
      ],
      "source": [
        "up42.authenticate(cfg_file=credentials_file_path)"
      ]
    },
    {
      "cell_type": "markdown",
      "metadata": {},
      "source": [
        "## <a id=\"creation\"></a> Create and test a webhook\n",
        "\n",
        "### 1. Select webhook events\n",
        "\n",
        "Get a list of notification events you can subscribe to."
      ]
    },
    {
      "cell_type": "code",
      "execution_count": 4,
      "metadata": {},
      "outputs": [],
      "source": [
        "up42.get_webhook_events()"
      ]
    },
    {
      "cell_type": "markdown",
      "metadata": {},
      "source": [
        "Choose events and copy their names."
      ]
    },
    {
      "cell_type": "code",
      "execution_count": 5,
      "metadata": {},
      "outputs": [],
      "source": [
        "selected_events = [\"order.status\"]"
      ]
    },
    {
      "cell_type": "markdown",
      "metadata": {},
      "source": [
        "### 2. Create a webhook"
      ]
    },
    {
      "cell_type": "code",
      "execution_count": 6,
      "metadata": {},
      "outputs": [
        {
          "name": "stderr",
          "output_type": "stream",
          "text": [
            "2024-04-11 11:36:12,206 - Created webhook Webhook(name: A webhook for order updates, webhook_id: a0d443a2-41e8-4995-8b54-a5cc4c448227, active: True\n"
          ]
        }
      ],
      "source": [
        "webhook = up42.create_webhook(\n",
        "    name=\"A webhook for order updates\",\n",
        "    url=\"https://receiving-url.com\",\n",
        "    events=selected_events,\n",
        "    active=True\n",
        ")\n",
        "\n",
        "created_webhook_id = webhook.webhook_id"
      ]
    },
    {
      "cell_type": "markdown",
      "metadata": {},
      "source": [
        "### 3. Test a webhook"
      ]
    },
    {
      "cell_type": "code",
      "execution_count": null,
      "metadata": {},
      "outputs": [],
      "source": [
        "webhook = up42.initialize_webhook(webhook_id=created_webhook_id)\n",
        "\n",
        "webhook.trigger_test_events()"
      ]
    },
    {
      "cell_type": "markdown",
      "metadata": {},
      "source": [
        "## <a id=\"webhook-list\"></a> View webhooks"
      ]
    },
    {
      "cell_type": "code",
      "execution_count": null,
      "metadata": {},
      "outputs": [],
      "source": [
        "up42.get_webhooks(return_json=False)"
      ]
    },
    {
      "cell_type": "markdown",
      "metadata": {},
      "source": [
        "## <a id=\"editing\"></a> Edit a webhook\n",
        "\n",
        "Specify the ID of the webhook you want to update."
      ]
    },
    {
      "cell_type": "code",
      "execution_count": 9,
      "metadata": {},
      "outputs": [],
      "source": [
        "webhook_for_updating = \"68567134-27ad-7bd7-4b65-d61adb11fc78\""
      ]
    },
    {
      "cell_type": "markdown",
      "metadata": {},
      "source": [
        "If you don't have a webhook ID, retrieve all webhooks from your workspace and their IDs."
      ]
    },
    {
      "cell_type": "code",
      "execution_count": null,
      "metadata": {},
      "outputs": [],
      "source": [
        "webhooks = up42.get_webhooks()\n",
        "\n",
        "for webhook in webhooks:\n",
        "    print(webhook.info)"
      ]
    },
    {
      "cell_type": "code",
      "execution_count": 11,
      "metadata": {},
      "outputs": [
        {
          "name": "stderr",
          "output_type": "stream",
          "text": [
            "2024-04-11 11:36:52,917 - Initialized Webhook(name: Webhook 1, webhook_id: 55434287-31bc-3ad7-1a63-d61aac11ac55, active: False\n",
            "2024-04-11 11:36:53,891 - Updated webhook Webhook(name: A new name, webhook_id: 55434287-31bc-3ad7-1a63-d61aac11ac55, active: True\n"
          ]
        },
        {
          "data": {
            "text/plain": [
              "Webhook(name: A new name, webhook_id: 55434287-31bc-3ad7-1a63-d61aac11ac55, active: True"
            ]
          },
          "execution_count": 12,
          "metadata": {},
          "output_type": "execute_result"
        }
      ],
      "source": [
        "webhook = up42.initialize_webhook(webhook_id=webhook_for_updating)\n",
        "\n",
        "webhook.update(\n",
        "    name=\"A new name\",\n",
        "    url=\"https://new-receiving-url.com\",\n",
        "    events=[\"order.status\"],\n",
        "    active=True,\n",
        "    secret=\"RFZTJnNAChqZKNmo\",\n",
        ")"
      ]
    },
    {
      "cell_type": "markdown",
      "metadata": {},
      "source": [
        "## <a id=\"deletion\"></a> Delete a webhook\n",
        "\n",
        "Specify the ID of the webhook you want to delete."
      ]
    },
    {
      "cell_type": "code",
      "execution_count": 12,
      "metadata": {},
      "outputs": [],
      "source": [
        "webhook_for_deletion = \"68567134-27ad-7bd7-4b65-d61adb11fc78\""
      ]
    },
    {
      "cell_type": "markdown",
      "metadata": {},
      "source": [
        "If you don't have a webhook ID, retrieve all webhooks from your workspace and their IDs."
      ]
    },
    {
      "cell_type": "code",
      "execution_count": null,
      "metadata": {},
      "outputs": [],
      "source": [
        "webhooks = up42.get_webhooks()\n",
        "\n",
        "for webhook in webhooks:\n",
        "    print(webhook.info)"
      ]
    },
    {
      "cell_type": "code",
      "execution_count": 14,
      "metadata": {},
      "outputs": [
        {
          "name": "stderr",
          "output_type": "stream",
          "text": [
            "2024-04-11 11:37:18,379 - Initialized Webhook(name: A new name, webhook_id: 55434287-31bc-3ad7-1a63-d61aac11ac55, active: True\n",
            "2024-04-11 11:37:18,748 - Successfully deleted Webhook: 55434287-31bc-3ad7-1a63-d61aac11ac55\n"
          ]
        }
      ],
      "source": [
        "webhook = up42.initialize_webhook(webhook_id=webhook_for_deletion)\n",
        "webhook.delete()"
      ]
    }
  ],
  "metadata": {
    "colab": {
      "provenance": []
    },
    "kernelspec": {
      "display_name": "Python 3",
      "name": "python3"
    },
    "language_info": {
      "codemirror_mode": {
        "name": "ipython",
        "version": 3
      },
      "file_extension": ".py",
      "mimetype": "text/x-python",
      "name": "python",
      "nbconvert_exporter": "python",
      "pygments_lexer": "ipython3",
      "version": "3.11.3"
    },
    "orig_nbformat": 4
  },
  "nbformat": 4,
  "nbformat_minor": 0
}
