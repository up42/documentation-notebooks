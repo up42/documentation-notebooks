{
 "cells": [
  {
   "cell_type": "markdown",
   "metadata": {},
   "source": [
    "# Create a catalog order\n",
    "\n",
    "- <a href=\"#step-1\">Step 1. Set up the notebook</a>\n",
    "- <a href=\"#step-2\">Step 2. Get access</a>\n",
    "- <a href=\"#step-3\">Step 3. Find and preview data</a>\n",
    "- <a href=\"#step-4\">Step 4. Create an order</a>\n",
    "- <a href=\"#step-5\">Step 5. Monitor orders</a>\n",
    "- <a href=\"#step-6\">Step 6. Download assets</a>\n",
    "\n",
    "## <a id=\"step-1\"></a> Step 1. Set up the notebook\n",
    "\n",
    "### 1. Install prerequisites"
   ]
  },
  {
   "cell_type": "code",
   "execution_count": 1,
   "metadata": {
    "ExecuteTime": {
     "end_time": "2025-05-19T12:52:43.372796Z",
     "start_time": "2025-05-19T12:52:36.538025Z"
    }
   },
   "outputs": [
    {
     "name": "stdout",
     "output_type": "stream",
     "text": [
      "\r\n",
      "\u001B[1m[\u001B[0m\u001B[34;49mnotice\u001B[0m\u001B[1;39;49m]\u001B[0m\u001B[39;49m A new release of pip is available: \u001B[0m\u001B[31;49m24.0\u001B[0m\u001B[39;49m -> \u001B[0m\u001B[32;49m25.1.1\u001B[0m\r\n",
      "\u001B[1m[\u001B[0m\u001B[34;49mnotice\u001B[0m\u001B[1;39;49m]\u001B[0m\u001B[39;49m To update, run: \u001B[0m\u001B[32;49mpip install --upgrade pip\u001B[0m\r\n"
     ]
    }
   ],
   "source": [
    "import pandas as pd\n",
    "!pip install up42-py --upgrade -q\n",
    "\n",
    "import up42, rasterio, geojson"
   ]
  },
  {
   "cell_type": "markdown",
   "metadata": {},
   "source": [
    "### 2. Authenticate\n",
    "\n",
    "Use your credentials to authenticate."
   ]
  },
  {
   "cell_type": "code",
   "execution_count": 2,
   "metadata": {
    "ExecuteTime": {
     "end_time": "2025-05-19T12:52:43.999544Z",
     "start_time": "2025-05-19T12:52:43.374085Z"
    }
   },
   "outputs": [
    {
     "name": "stderr",
     "output_type": "stream",
     "text": [
      "2025-05-19 14:52:43,821 - Authentication with UP42 successful!\n"
     ]
    }
   ],
   "source": [
    "# Create a configuration file and use the following code for it:\n",
    "# {\n",
    "#   \"username\": \"<your-email-address>\",\n",
    "#   \"password\": \"<your-password>\"\n",
    "# }\n",
    "\n",
    "up42.authenticate(cfg_file=\"/Users/max.mustermann/.up42/credentials.json\")"
   ]
  },
  {
   "cell_type": "markdown",
   "metadata": {},
   "source": [
    "## <a id=\"step-2\"></a> Step 2. Get access\n",
    "\n",
    "### 1. Select a catalog collection\n",
    "\n",
    "Choose a catalog collection and get its `data_product_id` for ordering."
   ]
  },
  {
   "cell_type": "code",
   "execution_count": 3,
   "metadata": {
    "ExecuteTime": {
     "end_time": "2025-05-19T12:52:44.992243Z",
     "start_time": "2025-05-19T12:52:44.001050Z"
    }
   },
   "outputs": [
    {
     "name": "stdout",
     "output_type": "stream",
     "text": [
      "collection name: beijing-3a\n",
      "data product name: beijing-3a-level-2-8bit, id: 8d9a8109-c535-4063-aabe-d5c7307bcccb\n",
      "data product name: beijing-3a-level-2-16bit, id: 667727b5-9382-4ff0-8602-6843121a8cef\n",
      "data product name: beijing-3a-level-1-16bit, id: b67e8924-b2cd-4b47-abc8-598e2b1b8371\n",
      "data product name: beijing-3a-level-1-8bit, id: e080274b-6cfb-4a89-bc12-64fd4895b3c2\n",
      "collection name: beijing-3n\n",
      "data product name: beijing-3n-level-2-8bit, id: 6755edd1-1e5f-42ec-a02b-c4e66635e28d\n",
      "data product name: beijing-3n-level-2-16bit, id: fbc0b5f7-1101-4e70-b480-ffdc8d571912\n",
      "data product name: beijing-3n-level-1-8bit, id: b0e4a80e-6a54-486c-ac0c-44497b602545\n",
      "data product name: beijing-3n-level-1-16bit, id: 156361b8-58bf-4d45-91ea-18a705581a71\n",
      "collection name: capella-gec\n",
      "data product name: capella-gec-full-scene, id: 96072809-d820-4cf9-86dd-d3bff3337c35\n",
      "collection name: capella-geo\n",
      "data product name: capella-geo-full-scene, id: d66facaa-533f-49a2-849a-c2910ac9dd31\n",
      "collection name: capella-sicd\n",
      "data product name: capella-sicd-full-scene, id: 8b0aed07-c565-4bf9-b719-401e692de4a6\n",
      "collection name: capella-slc\n",
      "data product name: capella-slc-full-scene, id: 1f2b0d7f-d3e2-4b3d-96b7-e7c184df7952\n",
      "collection name: hexagon-elevation-eu-60cm\n",
      "data product name: hexagon-elevation-eu-60cm, id: 63aeb0c4-1d0c-4aca-813a-c8bec1214b15\n",
      "collection name: hexagon-elevation-na-30cm\n",
      "data product name: hexagon-elevation-na-30cm, id: 21a741c0-c0a9-4ef4-af24-57f2429e2aab\n",
      "collection name: hexagon-elevation-na-60cm\n",
      "data product name: hexagon-elevation-na-60cm, id: 1ff07088-af49-4581-a176-ce042ca94b90\n",
      "collection name: hexagon-eu-30cm\n",
      "data product name: hexagon-eu-30cm, id: 522262d1-5ae5-4da3-8872-181aaafb9820\n",
      "collection name: hexagon-na-15cm\n",
      "data product name: hexagon-na-15cm, id: aba5216d-1876-4170-8ab7-10627bddbc9c\n",
      "collection name: hexagon-na-30cm\n",
      "data product name: hexagon-na-30cm, id: 8acca1de-0ed8-4a8d-987e-e1479cf63140\n",
      "collection name: landsat-8\n",
      "data product name: landsat-8-level-2sp, id: 0d6796c4-9e0b-44e8-bb8f-3d0bc9794382\n",
      "collection name: nextmap10-bundle\n",
      "data product name: nextmap10-bundle, id: 0253307a-0377-4cd4-bd1c-93ec06ba7f4a\n",
      "collection name: nextmap10-dsm\n",
      "data product name: nextmap10-dsm, id: 5a484ba9-b2b9-4385-a066-0f6d28f6ad8f\n",
      "collection name: nextmap10-dtm\n",
      "data product name: nextmap10-dtm, id: 5908c45d-dd41-4fd2-b38f-759f23d25ebf\n",
      "collection name: nextmap6-bundle\n",
      "data product name: nextmap6-bundle, id: ca213436-c8cf-42a9-a4a2-04eb2fa7c9d6\n",
      "collection name: nextmap6-dsm\n",
      "data product name: nextmap6-dsm, id: 93f2014d-b34e-411a-9688-33e084190b68\n",
      "collection name: nextmap6-dtm\n",
      "data product name: nextmap6-dtm, id: 337c01f4-d71a-4f2f-8aee-d21431565893\n",
      "collection name: nextmapone-bundle\n",
      "data product name: nextmapone-bundle, id: 776cadc2-ccb7-4ca4-8077-fc679bf8376a\n",
      "collection name: nextmapone-dsm\n",
      "data product name: nextmapone-dsm, id: 228eb747-2b8b-4f56-8ade-2efd844d3792\n",
      "collection name: nextmapone-dtm\n",
      "data product name: nextmapone-dtm, id: da146ac4-7000-4d59-b488-3633f11b6cb8\n",
      "collection name: phr\n",
      "data product name: phr-display, id: 647780db-5a06-4b61-b525-577a8b68bb54\n",
      "data product name: phr-analytic, id: 4f1b2f62-98df-4c74-81f4-5dce45deee99\n",
      "data product name: phr-pansharpened-reflectance, id: df4ca029-2f6f-432b-98d5-ef2f5d70baee\n",
      "collection name: pneo\n",
      "data product name: pneo-analytic, id: 6f722fb5-0323-4c97-9b1e-22870325b8db\n",
      "data product name: pneo-display, id: 17745de8-6e7d-4751-99cd-3f8e9e9d290e\n",
      "data product name: pneo-pansharpened-reflectance, id: 29f4ff62-9d05-483f-994b-75142ed202de\n",
      "collection name: pneo-hd15\n",
      "data product name: pneo-hd15, id: 66a7e14d-0b62-45e0-a3d7-fb2cfce62cc8\n",
      "collection name: sentinel-2\n",
      "data product name: sentinel-2-level-2a, id: c3de9ed8-f6e5-4bb5-a157-f6430ba756da\n",
      "collection name: skysat\n",
      "data product name: skysat-analytic, id: 605d417f-e401-4c07-9bcf-c1b88231d664\n",
      "data product name: skysat-pansharpened, id: 6032bb0e-2cb9-4a01-b45d-831f2d7b8dad\n",
      "data product name: skysat-panchromatic, id: c3d0106c-661e-4322-a0d1-020925e8dff7\n",
      "collection name: spot\n",
      "data product name: spot-analytic, id: b1f8c48e-d16b-44c4-a1bb-5e8a24892e69\n",
      "data product name: spot-display, id: acc3f9a4-b622-49c1-b1e1-c762aa3e7e13\n",
      "data product name: spot-pansharpened-reflectance, id: d0198da7-4a47-4746-8d16-0297a5d0d847\n",
      "collection name: triplesat\n",
      "data product name: triplesat-level-2-8-bit, id: 2398d8f5-5f7f-4596-884d-345c0b07af14\n",
      "data product name: triplesat-level-1-16bit, id: be013962-3247-443d-bf6a-fcc3ecc207c5\n",
      "data product name: triplesat-level-1-8bit, id: 4d7ffbc9-8d94-4f53-9b8b-397af955f595\n",
      "data product name: triplesat-level-2-16-bit, id: 37c26f4d-f6a9-47c9-ae4d-a095569ab8bc\n",
      "collection name: vexcel-aerial-oblique\n",
      "data product name: vexcel-aerial-oblique, id: 587c61a2-105e-4e1f-955b-10ef3dc60681\n",
      "collection name: vexcel-aerial-ortho\n",
      "data product name: vexcel-aerial-ortho, id: 679b682a-04cc-49ae-bb06-564ca4feddbd\n",
      "collection name: vexcel-aerial-trueortho\n",
      "data product name: vexcel-aerial-trueortho, id: bdf6705e-f330-4885-8748-c254ac03e610\n",
      "collection name: vexcel-elevate-dsm-15cm\n",
      "data product name: vexcel-elevate-dsm-15cm, id: 4fa865bc-f78e-47df-aad7-ed730a9f470e\n",
      "collection name: vexcel-elevate-dsm-6cm\n",
      "data product name: vexcel-elevate-dsm-6cm, id: de84dac9-4e3e-45de-a7e9-4186091d6905\n",
      "collection name: vexcel-elevate-dtm-15cm\n",
      "data product name: vexcel-elevate-dtm-15cm, id: d28f2b14-b8c2-4b3c-b184-11334933eeb2\n",
      "collection name: worlddem-neo\n",
      "data product name: worlddem-neo-dsm, id: ec016f4c-332c-4190-b18b-13fb12519c40\n"
     ]
    }
   ],
   "source": [
    "glossary = up42.ProductGlossary\n",
    "catalog_type = up42.CollectionType.ARCHIVE\n",
    "sort_by = up42.CollectionSorting.name\n",
    "data_collections = glossary.get_collections(collection_type=catalog_type, sort_by=sort_by)\n",
    "for collection in data_collections:\n",
    "    print(f\"collection name: {collection.name}\")\n",
    "    for data_product in collection.data_products:\n",
    "        print (f\"data product name: {data_product.name}, id: {data_product.id}\")"
   ]
  },
  {
   "cell_type": "markdown",
   "metadata": {},
   "source": [
    "Choose a data product and copy its ID."
   ]
  },
  {
   "cell_type": "code",
   "execution_count": 4,
   "metadata": {
    "ExecuteTime": {
     "end_time": "2025-05-19T12:52:45.453444Z",
     "start_time": "2025-05-19T12:52:44.993167Z"
    }
   },
   "outputs": [
    {
     "data": {
      "text/plain": "('phr', 'phr-analytic', '4f1b2f62-98df-4c74-81f4-5dce45deee99', 'OneAtlas')"
     },
     "execution_count": 4,
     "metadata": {},
     "output_type": "execute_result"
    }
   ],
   "source": [
    "# The following value is the product id for Pléiades catalog — Analytic:\n",
    "data_collections = glossary.get_collections(collection_type=catalog_type)\n",
    "collection = next(c for c in data_collections if c.name == \"phr\")\n",
    "data_product = next(d for d in collection.data_products if d.name.endswith(\"analytic\"))\n",
    "host = next(p for p in collection.providers if p.is_host)\n",
    "collection.name, data_product.name, data_product.id, host.title"
   ]
  },
  {
   "cell_type": "markdown",
   "metadata": {},
   "source": [
    "### 2. Request access\n",
    "\n",
    "If you want to order the chosen collection for the first time, you need to [request access to it](https://docs.up42.com/getting-started/restrictions#request-access).\n",
    "\n",
    "An email from the Customer Success team usually takes up to 3 days. You can review your access request status on the [Access requests](https://console.up42.com/settings/access) page."
   ]
  },
  {
   "cell_type": "markdown",
   "metadata": {},
   "source": [
    "### 3. Accept the EULA\n",
    "\n",
    "If you want to order the chosen collection for the first time, you need to accept its [end-user license agreement (EULA)](https://docs.up42.com/getting-started/account/eulas)."
   ]
  },
  {
   "cell_type": "markdown",
   "metadata": {},
   "source": [
    "## <a id=\"step-3\"></a> Step 3. Find and preview data\n",
    "\n",
    "### 1. Search the catalog\n",
    "\n",
    "Specify search parameters to find a full scene that fits your requirements."
   ]
  },
  {
   "cell_type": "code",
   "execution_count": 5,
   "metadata": {
    "ExecuteTime": {
     "end_time": "2025-05-19T12:52:46.896916Z",
     "start_time": "2025-05-19T12:52:45.454157Z"
    }
   },
   "outputs": [],
   "source": [
    "geometry = {\n",
    "    \"type\":\"Polygon\",\n",
    "    \"coordinates\":[[\n",
    "        [13.369713, 52.452327],\n",
    "        [13.369713, 52.470760],\n",
    "        [13.339159, 52.470760],\n",
    "        [13.339159, 52.452327],\n",
    "        [13.369713, 52.452327]\n",
    "    ]]\n",
    "}\n",
    "\n",
    "scenes = list(host.search(\n",
    "    collections=[collection.name],\n",
    "    intersects=geometry,\n",
    "    start_date=\"2022-06-01\",\n",
    "    end_date=\"2022-12-31\",\n",
    "    query={\n",
    "        \"cloudCoverage\": {\"LT\": 20}\n",
    "    }\n",
    "))"
   ]
  },
  {
   "cell_type": "markdown",
   "metadata": {},
   "source": [
    "Output a dataframe with full scenes that match the specified parameters."
   ]
  },
  {
   "cell_type": "code",
   "execution_count": 6,
   "metadata": {
    "ExecuteTime": {
     "end_time": "2025-05-19T12:52:46.920538Z",
     "start_time": "2025-05-19T12:52:46.897555Z"
    }
   },
   "outputs": [
    {
     "data": {
      "text/plain": "                                                bbox  \\\n0  [13.33915989329133, 52.45232754184865, 13.6447...   \n1  [13.08523276731513, 52.45065923655355, 13.3995...   \n2  [13.09330243482808, 52.29227641565387, 13.3914...   \n3  [13.34039801332115, 52.28960854936309, 13.6438...   \n\n                                            geometry  \\\n0  {'type': 'Polygon', 'coordinates': [[[13.51834...   \n1  {'type': 'Polygon', 'coordinates': [[[13.37707...   \n2  {'type': 'Polygon', 'coordinates': [[[13.26824...   \n3  {'type': 'Polygon', 'coordinates': [[[13.64386...   \n\n                                     id              datetime start_datetime  \\\n0  ea42904d-d1ef-4b4f-824b-164a0edfecc1  2022-10-26T10:23:47Z           None   \n1  52d0b74e-492c-4f6c-ac51-e40dffb63273  2022-10-26T10:23:35Z           None   \n2  d3231673-9246-4659-9123-a9671d425d7c  2022-10-20T10:20:09Z           None   \n3  6f15e47c-2ec8-431c-bbb6-3748e5f1be0b  2022-10-20T10:19:54Z           None   \n\n  end_datetime constellation collection  cloud_coverage  resolution  \\\n0         None           phr        phr             4.8         0.5   \n1         None           phr        phr             5.5         0.5   \n2         None           phr        phr            17.8         0.5   \n3         None           phr        phr             9.1         0.5   \n\n  delivery_time producer                                          quicklook  \n0          DAYS   airbus  {'url': 'https://api.up42.com/catalog/oneatlas...  \n1          DAYS   airbus  {'url': 'https://api.up42.com/catalog/oneatlas...  \n2          DAYS   airbus  {'url': 'https://api.up42.com/catalog/oneatlas...  \n3          DAYS   airbus  {'url': 'https://api.up42.com/catalog/oneatlas...  ",
      "text/html": "<div>\n<style scoped>\n    .dataframe tbody tr th:only-of-type {\n        vertical-align: middle;\n    }\n\n    .dataframe tbody tr th {\n        vertical-align: top;\n    }\n\n    .dataframe thead th {\n        text-align: right;\n    }\n</style>\n<table border=\"1\" class=\"dataframe\">\n  <thead>\n    <tr style=\"text-align: right;\">\n      <th></th>\n      <th>bbox</th>\n      <th>geometry</th>\n      <th>id</th>\n      <th>datetime</th>\n      <th>start_datetime</th>\n      <th>end_datetime</th>\n      <th>constellation</th>\n      <th>collection</th>\n      <th>cloud_coverage</th>\n      <th>resolution</th>\n      <th>delivery_time</th>\n      <th>producer</th>\n      <th>quicklook</th>\n    </tr>\n  </thead>\n  <tbody>\n    <tr>\n      <th>0</th>\n      <td>[13.33915989329133, 52.45232754184865, 13.6447...</td>\n      <td>{'type': 'Polygon', 'coordinates': [[[13.51834...</td>\n      <td>ea42904d-d1ef-4b4f-824b-164a0edfecc1</td>\n      <td>2022-10-26T10:23:47Z</td>\n      <td>None</td>\n      <td>None</td>\n      <td>phr</td>\n      <td>phr</td>\n      <td>4.8</td>\n      <td>0.5</td>\n      <td>DAYS</td>\n      <td>airbus</td>\n      <td>{'url': 'https://api.up42.com/catalog/oneatlas...</td>\n    </tr>\n    <tr>\n      <th>1</th>\n      <td>[13.08523276731513, 52.45065923655355, 13.3995...</td>\n      <td>{'type': 'Polygon', 'coordinates': [[[13.37707...</td>\n      <td>52d0b74e-492c-4f6c-ac51-e40dffb63273</td>\n      <td>2022-10-26T10:23:35Z</td>\n      <td>None</td>\n      <td>None</td>\n      <td>phr</td>\n      <td>phr</td>\n      <td>5.5</td>\n      <td>0.5</td>\n      <td>DAYS</td>\n      <td>airbus</td>\n      <td>{'url': 'https://api.up42.com/catalog/oneatlas...</td>\n    </tr>\n    <tr>\n      <th>2</th>\n      <td>[13.09330243482808, 52.29227641565387, 13.3914...</td>\n      <td>{'type': 'Polygon', 'coordinates': [[[13.26824...</td>\n      <td>d3231673-9246-4659-9123-a9671d425d7c</td>\n      <td>2022-10-20T10:20:09Z</td>\n      <td>None</td>\n      <td>None</td>\n      <td>phr</td>\n      <td>phr</td>\n      <td>17.8</td>\n      <td>0.5</td>\n      <td>DAYS</td>\n      <td>airbus</td>\n      <td>{'url': 'https://api.up42.com/catalog/oneatlas...</td>\n    </tr>\n    <tr>\n      <th>3</th>\n      <td>[13.34039801332115, 52.28960854936309, 13.6438...</td>\n      <td>{'type': 'Polygon', 'coordinates': [[[13.64386...</td>\n      <td>6f15e47c-2ec8-431c-bbb6-3748e5f1be0b</td>\n      <td>2022-10-20T10:19:54Z</td>\n      <td>None</td>\n      <td>None</td>\n      <td>phr</td>\n      <td>phr</td>\n      <td>9.1</td>\n      <td>0.5</td>\n      <td>DAYS</td>\n      <td>airbus</td>\n      <td>{'url': 'https://api.up42.com/catalog/oneatlas...</td>\n    </tr>\n  </tbody>\n</table>\n</div>"
     },
     "execution_count": 6,
     "metadata": {},
     "output_type": "execute_result"
    }
   ],
   "source": [
    "pd.DataFrame(scenes)\n",
    "# scenes # Uncomment to output data class instances instead"
   ]
  },
  {
   "cell_type": "markdown",
   "metadata": {},
   "source": [
    "### 2. Preview data\n",
    "\n",
    "Some data hosts provide free, low-resolution quicklooks that you can preview before creating an order. Note that some quicklooks may not fully match the scene they represent."
   ]
  },
  {
   "cell_type": "code",
   "execution_count": 7,
   "metadata": {
    "ExecuteTime": {
     "end_time": "2025-05-19T12:52:46.923845Z",
     "start_time": "2025-05-19T12:52:46.921206Z"
    }
   },
   "outputs": [],
   "source": [
    "# Download quicklooks\n",
    "scene = scenes[0]\n",
    "# src_path = scene.quicklook.download(\"./quicklooks/\")\n",
    "# result = search_results_df.iloc[0]\n",
    "# catalog.download_quicklooks(\n",
    "#     image_ids=[result.sceneId],\n",
    "#     collection=result.constellation,\n",
    "#     output_directory=\"./quicklooks/\",\n",
    "# )\n",
    "\n",
    "# Define a function to georeference quicklooks\n",
    "def georeference_quicklooks(\n",
    "    src_path: str, dst_path: str, ulx: float, uly: float, lrx: float, lry: float\n",
    "):\n",
    "    with rasterio.open(src_path) as src:\n",
    "        data = src.read()\n",
    "        transform = rasterio.transform.from_bounds(\n",
    "            ulx, lry, lrx, uly, data.shape[2], data.shape[1]\n",
    "        )\n",
    "\n",
    "        with rasterio.open(\n",
    "            dst_path,\n",
    "            \"w\",\n",
    "            driver=src.driver,\n",
    "            height=src.height,\n",
    "            width=src.width,\n",
    "            count=src.count,\n",
    "            dtype=src.dtypes[0],\n",
    "            crs=\"EPSG:4326\",\n",
    "            transform=transform,\n",
    "        ) as dst:\n",
    "            dst.write(data)\n",
    "\n",
    "# Georefence the quicklooks\n",
    "# out_path = f\"./quicklooks/georeferenced_quicklook_{scene.id}.png\"\n",
    "# georeference_quicklooks(\n",
    "#     src_path,\n",
    "#     out_path,\n",
    "#     scenes.geometry.bounds[0],\n",
    "#     scene.geometry.bounds[3],\n",
    "#     scene.geometry.bounds[2],\n",
    "#     scene.geometry.bounds[1],\n",
    "# )"
   ]
  },
  {
   "cell_type": "markdown",
   "metadata": {},
   "source": [
    "Open the `quicklooks` folder. You will find the following files added by the cell above:\n",
    "\n",
    "- An original quicklook\n",
    "- A metadata file needed for georeferencing\n",
    "- A georeferenced quicklook with the `georeferenced` prefix\n",
    "\n",
    "[Visualize](https://docs.up42.com/help/visualize) the georeferenced quicklook in a third-party GIS software."
   ]
  },
  {
   "cell_type": "markdown",
   "metadata": {},
   "source": [
    "## <a id=\"step-4\"></a> Step 4. Create an order\n",
    "\n",
    "### 1. Fill out an order form\n",
    "\n",
    "Get detailed information about the parameters needed to create an order for the chosen data product."
   ]
  },
  {
   "cell_type": "code",
   "execution_count": 8,
   "metadata": {
    "ExecuteTime": {
     "end_time": "2025-05-19T12:52:46.986735Z",
     "start_time": "2025-05-19T12:52:46.924640Z"
    }
   },
   "outputs": [
    {
     "data": {
      "text/plain": "{'additionalProperties': False,\n 'properties': {'id': {'title': 'Id', 'type': 'string'},\n  'aoi': {'$ref': '#/definitions/Polygon'}},\n 'required': ['id', 'aoi'],\n 'title': 'ParamsWithAOI',\n 'type': 'object',\n '$schema': 'https://json-schema.org/draft-07/schema',\n 'definitions': {'Polygon': {'description': 'Polygon Model.',\n   'properties': {'type': {'const': 'Polygon',\n     'default': 'Polygon',\n     'enum': ['Polygon'],\n     'title': 'Type',\n     'type': 'string'},\n    'coordinates': {'items': {'items': {'items': {'type': 'number'},\n       'maxItems': 2,\n       'minItems': 2,\n       'type': 'array'},\n      'minItems': 4,\n      'type': 'array'},\n     'type': 'array'}},\n   'required': ['coordinates'],\n   'title': 'Polygon',\n   'type': 'object'}}}"
     },
     "execution_count": 8,
     "metadata": {},
     "output_type": "execute_result"
    }
   ],
   "source": [
    "data_product.schema"
   ]
  },
  {
   "cell_type": "markdown",
   "metadata": {},
   "source": [
    "Use the required request body schema format for the chosen data product."
   ]
  },
  {
   "cell_type": "code",
   "execution_count": 9,
   "metadata": {
    "ExecuteTime": {
     "end_time": "2025-05-19T12:52:50.478330Z",
     "start_time": "2025-05-19T12:52:46.988758Z"
    }
   },
   "outputs": [],
   "source": [
    "from datetime import date\n",
    "features = geojson.FeatureCollection(features=[geojson.Feature(geometry=geometry)])\n",
    "order_template = up42.BatchOrderTemplate(\n",
    "    data_product_id=data_product.id,\n",
    "    display_name=f\"{data_product.name}-{date.today()}\",\n",
    "    features=features,\n",
    "    params={\n",
    "        \"id\": scene.id\n",
    "    },\n",
    "    tags=[\"sdk\", data_product.name]\n",
    ")\n"
   ]
  },
  {
   "cell_type": "markdown",
   "metadata": {},
   "source": [
    "### 2. Get a cost estimate\n",
    "\n",
    "Get a cost estimate before placing the order."
   ]
  },
  {
   "cell_type": "code",
   "execution_count": 11,
   "metadata": {
    "ExecuteTime": {
     "end_time": "2025-05-19T12:52:50.487931Z",
     "start_time": "2025-05-19T12:52:50.486017Z"
    }
   },
   "outputs": [
    {
     "data": {
      "text/plain": "Estimate(items=[OrderCost(index=0, credits=3870, size=3.87, unit='SQ_KM')], credits=3870, size=3.87, unit='SQ_KM')"
     },
     "execution_count": 11,
     "metadata": {},
     "output_type": "execute_result"
    }
   ],
   "source": [
    "order_template.estimate"
   ]
  },
  {
   "cell_type": "markdown",
   "metadata": {},
   "source": [
    "The response returns the overall credit amount that will be deducted from your credit balance if you decide to proceed with the ordering."
   ]
  },
  {
   "cell_type": "markdown",
   "metadata": {},
   "source": [
    "### 3. Create an order\n",
    "\n",
    "Place the order using the template.\n",
    "\n",
    "Credits will be deducted upon successful completion of the created catalog order. The transaction can't be reversed."
   ]
  },
  {
   "cell_type": "code",
   "execution_count": 12,
   "metadata": {
    "ExecuteTime": {
     "end_time": "2025-05-19T12:52:50.490207Z",
     "start_time": "2025-05-19T12:52:50.488779Z"
    }
   },
   "outputs": [],
   "source": [
    "# order = order_template.place()\n",
    "# order"
   ]
  },
  {
   "cell_type": "markdown",
   "metadata": {},
   "source": [
    "## <a id=\"step-5\"></a> Step 5. Monitor orders\n",
    "\n",
    "Check the [status](https://docs.up42.com/developers/api-catalog#order-statuses) of your order. To learn about the timeframe of catalog orders, see [Asset delivery time](https://docs.up42.com/data/archive/delivery)."
   ]
  },
  {
   "cell_type": "code",
   "execution_count": 13,
   "metadata": {
    "ExecuteTime": {
     "end_time": "2025-05-19T12:52:50.492323Z",
     "start_time": "2025-05-19T12:52:50.490936Z"
    }
   },
   "outputs": [],
   "source": [
    "# order.status"
   ]
  },
  {
   "cell_type": "markdown",
   "metadata": {},
   "source": [
    "You can also track the order status until the order is completed."
   ]
  },
  {
   "cell_type": "code",
   "execution_count": 14,
   "metadata": {
    "ExecuteTime": {
     "end_time": "2025-05-19T12:52:50.494441Z",
     "start_time": "2025-05-19T12:52:50.492942Z"
    }
   },
   "outputs": [],
   "source": [
    "# order.track_status()"
   ]
  },
  {
   "cell_type": "markdown",
   "metadata": {},
   "source": [
    "## <a id=\"step-6\"></a> Step 6. Download assets\n",
    "\n",
    "The following statuses mean you can download assets from storage:\n",
    "- `BEING_FULFILLED`: Some order assets might have been delivered. [Download](https://github.com/up42/documentation-notebooks/blob/main/storage/sdk-storage-assets.ipynb) these assets using the `Storage` class.\n",
    "- `FULFILLED`: All order assets have been delivered. [Download](https://github.com/up42/documentation-notebooks/blob/main/storage/sdk-order-assets.ipynb) these assets using the `Order` class."
   ]
  }
 ],
 "metadata": {
  "colab": {
   "provenance": []
  },
  "kernelspec": {
   "name": "python3",
   "language": "python",
   "display_name": "Python 3 (ipykernel)"
  },
  "language_info": {
   "codemirror_mode": {
    "name": "ipython",
    "version": 3
   },
   "file_extension": ".py",
   "mimetype": "text/x-python",
   "name": "python",
   "nbconvert_exporter": "python",
   "pygments_lexer": "ipython3",
   "version": "3.11.3"
  },
  "orig_nbformat": 4
 },
 "nbformat": 4,
 "nbformat_minor": 0
}
