{
 "cells": [
  {
   "cell_type": "markdown",
   "metadata": {},
   "source": [
    "# Create a catalog order\n",
    "\n",
    "- <a href=\"#step-1\">Step 1. Set up the notebook</a>\n",
    "- <a href=\"#step-2\">Step 2. Get access</a>\n",
    "- <a href=\"#step-3\">Step 3. Find and preview data</a>\n",
    "- <a href=\"#step-4\">Step 4. Create an order</a>\n",
    "- <a href=\"#step-5\">Step 5. Monitor orders</a>\n",
    "- <a href=\"#step-6\">Step 6. Download assets</a>\n",
    "\n",
    "## <a id=\"step-1\"></a> Step 1. Set up the notebook\n",
    "\n",
    "### 1. Install prerequisites"
   ]
  },
  {
   "cell_type": "code",
   "execution_count": 1,
   "metadata": {
    "ExecuteTime": {
     "end_time": "2025-05-19T12:52:43.372796Z",
     "start_time": "2025-05-19T12:52:36.538025Z"
    }
   },
   "outputs": [
    {
     "name": "stdout",
     "output_type": "stream",
     "text": [
      "\r\n",
      "\u001B[1m[\u001B[0m\u001B[34;49mnotice\u001B[0m\u001B[1;39;49m]\u001B[0m\u001B[39;49m A new release of pip is available: \u001B[0m\u001B[31;49m24.0\u001B[0m\u001B[39;49m -> \u001B[0m\u001B[32;49m25.1.1\u001B[0m\r\n",
      "\u001B[1m[\u001B[0m\u001B[34;49mnotice\u001B[0m\u001B[1;39;49m]\u001B[0m\u001B[39;49m To update, run: \u001B[0m\u001B[32;49mpip install --upgrade pip\u001B[0m\r\n"
     ]
    }
   ],
   "source": [
    "!pip install up42-py --upgrade -q\n",
    "\n",
    "import up42, rasterio, geojson\n",
    "import pandas as pd"
   ]
  },
  {
   "cell_type": "markdown",
   "metadata": {},
   "source": [
    "### 2. Authenticate\n",
    "\n",
    "Use your credentials to authenticate."
   ]
  },
  {
   "cell_type": "code",
   "execution_count": 2,
   "metadata": {
    "ExecuteTime": {
     "end_time": "2025-05-19T12:52:43.999544Z",
     "start_time": "2025-05-19T12:52:43.374085Z"
    }
   },
   "outputs": [
    {
     "name": "stderr",
     "output_type": "stream",
     "text": [
      "2025-05-19 14:52:43,821 - Authentication with UP42 successful!\n"
     ]
    }
   ],
   "source": [
    "# Create a configuration file and use the following code for it:\n",
    "# {\n",
    "#   \"username\": \"<your-email-address>\",\n",
    "#   \"password\": \"<your-password>\"\n",
    "# }\n",
    "\n",
    "up42.authenticate(cfg_file=\"/Users/max.mustermann/.up42/credentials.json\")"
   ]
  },
  {
   "cell_type": "markdown",
   "metadata": {},
   "source": [
    "## <a id=\"step-2\"></a> Step 2. Get access\n",
    "\n",
    "### 1. Select a catalog collection\n",
    "\n",
    "You can browse all archive collections in our glossary"
   ]
  },
  {
   "cell_type": "code",
   "execution_count": 15,
   "metadata": {
    "ExecuteTime": {
     "end_time": "2025-05-19T13:05:09.035013Z",
     "start_time": "2025-05-19T13:05:07.158464Z"
    }
   },
   "outputs": [
    {
     "data": {
      "text/plain": "                   collection                        product\n0                  beijing-3a        beijing-3a-level-2-8bit\n1                  beijing-3a       beijing-3a-level-2-16bit\n2                  beijing-3a       beijing-3a-level-1-16bit\n3                  beijing-3a        beijing-3a-level-1-8bit\n4                  beijing-3n        beijing-3n-level-2-8bit\n5                  beijing-3n       beijing-3n-level-2-16bit\n6                  beijing-3n        beijing-3n-level-1-8bit\n7                  beijing-3n       beijing-3n-level-1-16bit\n8                 capella-gec         capella-gec-full-scene\n9                 capella-geo         capella-geo-full-scene\n10               capella-sicd        capella-sicd-full-scene\n11                capella-slc         capella-slc-full-scene\n12  hexagon-elevation-eu-60cm      hexagon-elevation-eu-60cm\n13  hexagon-elevation-na-30cm      hexagon-elevation-na-30cm\n14  hexagon-elevation-na-60cm      hexagon-elevation-na-60cm\n15            hexagon-eu-30cm                hexagon-eu-30cm\n16            hexagon-na-15cm                hexagon-na-15cm\n17            hexagon-na-30cm                hexagon-na-30cm\n18                  landsat-8            landsat-8-level-2sp\n19           nextmap10-bundle               nextmap10-bundle\n20              nextmap10-dsm                  nextmap10-dsm\n21              nextmap10-dtm                  nextmap10-dtm\n22            nextmap6-bundle                nextmap6-bundle\n23               nextmap6-dsm                   nextmap6-dsm\n24               nextmap6-dtm                   nextmap6-dtm\n25          nextmapone-bundle              nextmapone-bundle\n26             nextmapone-dsm                 nextmapone-dsm\n27             nextmapone-dtm                 nextmapone-dtm\n28                        phr                    phr-display\n29                        phr                   phr-analytic\n30                        phr   phr-pansharpened-reflectance\n31                       pneo                  pneo-analytic\n32                       pneo                   pneo-display\n33                       pneo  pneo-pansharpened-reflectance\n34                  pneo-hd15                      pneo-hd15\n35                 sentinel-2            sentinel-2-level-2a\n36                     skysat                skysat-analytic\n37                     skysat            skysat-pansharpened\n38                     skysat            skysat-panchromatic\n39                       spot                  spot-analytic\n40                       spot                   spot-display\n41                       spot  spot-pansharpened-reflectance\n42                  triplesat        triplesat-level-2-8-bit\n43                  triplesat        triplesat-level-1-16bit\n44                  triplesat         triplesat-level-1-8bit\n45                  triplesat       triplesat-level-2-16-bit\n46      vexcel-aerial-oblique          vexcel-aerial-oblique\n47        vexcel-aerial-ortho            vexcel-aerial-ortho\n48    vexcel-aerial-trueortho        vexcel-aerial-trueortho\n49    vexcel-elevate-dsm-15cm        vexcel-elevate-dsm-15cm\n50     vexcel-elevate-dsm-6cm         vexcel-elevate-dsm-6cm\n51    vexcel-elevate-dtm-15cm        vexcel-elevate-dtm-15cm\n52               worlddem-neo               worlddem-neo-dsm",
      "text/html": "<div>\n<style scoped>\n    .dataframe tbody tr th:only-of-type {\n        vertical-align: middle;\n    }\n\n    .dataframe tbody tr th {\n        vertical-align: top;\n    }\n\n    .dataframe thead th {\n        text-align: right;\n    }\n</style>\n<table border=\"1\" class=\"dataframe\">\n  <thead>\n    <tr style=\"text-align: right;\">\n      <th></th>\n      <th>collection</th>\n      <th>product</th>\n    </tr>\n  </thead>\n  <tbody>\n    <tr>\n      <th>0</th>\n      <td>beijing-3a</td>\n      <td>beijing-3a-level-2-8bit</td>\n    </tr>\n    <tr>\n      <th>1</th>\n      <td>beijing-3a</td>\n      <td>beijing-3a-level-2-16bit</td>\n    </tr>\n    <tr>\n      <th>2</th>\n      <td>beijing-3a</td>\n      <td>beijing-3a-level-1-16bit</td>\n    </tr>\n    <tr>\n      <th>3</th>\n      <td>beijing-3a</td>\n      <td>beijing-3a-level-1-8bit</td>\n    </tr>\n    <tr>\n      <th>4</th>\n      <td>beijing-3n</td>\n      <td>beijing-3n-level-2-8bit</td>\n    </tr>\n    <tr>\n      <th>5</th>\n      <td>beijing-3n</td>\n      <td>beijing-3n-level-2-16bit</td>\n    </tr>\n    <tr>\n      <th>6</th>\n      <td>beijing-3n</td>\n      <td>beijing-3n-level-1-8bit</td>\n    </tr>\n    <tr>\n      <th>7</th>\n      <td>beijing-3n</td>\n      <td>beijing-3n-level-1-16bit</td>\n    </tr>\n    <tr>\n      <th>8</th>\n      <td>capella-gec</td>\n      <td>capella-gec-full-scene</td>\n    </tr>\n    <tr>\n      <th>9</th>\n      <td>capella-geo</td>\n      <td>capella-geo-full-scene</td>\n    </tr>\n    <tr>\n      <th>10</th>\n      <td>capella-sicd</td>\n      <td>capella-sicd-full-scene</td>\n    </tr>\n    <tr>\n      <th>11</th>\n      <td>capella-slc</td>\n      <td>capella-slc-full-scene</td>\n    </tr>\n    <tr>\n      <th>12</th>\n      <td>hexagon-elevation-eu-60cm</td>\n      <td>hexagon-elevation-eu-60cm</td>\n    </tr>\n    <tr>\n      <th>13</th>\n      <td>hexagon-elevation-na-30cm</td>\n      <td>hexagon-elevation-na-30cm</td>\n    </tr>\n    <tr>\n      <th>14</th>\n      <td>hexagon-elevation-na-60cm</td>\n      <td>hexagon-elevation-na-60cm</td>\n    </tr>\n    <tr>\n      <th>15</th>\n      <td>hexagon-eu-30cm</td>\n      <td>hexagon-eu-30cm</td>\n    </tr>\n    <tr>\n      <th>16</th>\n      <td>hexagon-na-15cm</td>\n      <td>hexagon-na-15cm</td>\n    </tr>\n    <tr>\n      <th>17</th>\n      <td>hexagon-na-30cm</td>\n      <td>hexagon-na-30cm</td>\n    </tr>\n    <tr>\n      <th>18</th>\n      <td>landsat-8</td>\n      <td>landsat-8-level-2sp</td>\n    </tr>\n    <tr>\n      <th>19</th>\n      <td>nextmap10-bundle</td>\n      <td>nextmap10-bundle</td>\n    </tr>\n    <tr>\n      <th>20</th>\n      <td>nextmap10-dsm</td>\n      <td>nextmap10-dsm</td>\n    </tr>\n    <tr>\n      <th>21</th>\n      <td>nextmap10-dtm</td>\n      <td>nextmap10-dtm</td>\n    </tr>\n    <tr>\n      <th>22</th>\n      <td>nextmap6-bundle</td>\n      <td>nextmap6-bundle</td>\n    </tr>\n    <tr>\n      <th>23</th>\n      <td>nextmap6-dsm</td>\n      <td>nextmap6-dsm</td>\n    </tr>\n    <tr>\n      <th>24</th>\n      <td>nextmap6-dtm</td>\n      <td>nextmap6-dtm</td>\n    </tr>\n    <tr>\n      <th>25</th>\n      <td>nextmapone-bundle</td>\n      <td>nextmapone-bundle</td>\n    </tr>\n    <tr>\n      <th>26</th>\n      <td>nextmapone-dsm</td>\n      <td>nextmapone-dsm</td>\n    </tr>\n    <tr>\n      <th>27</th>\n      <td>nextmapone-dtm</td>\n      <td>nextmapone-dtm</td>\n    </tr>\n    <tr>\n      <th>28</th>\n      <td>phr</td>\n      <td>phr-display</td>\n    </tr>\n    <tr>\n      <th>29</th>\n      <td>phr</td>\n      <td>phr-analytic</td>\n    </tr>\n    <tr>\n      <th>30</th>\n      <td>phr</td>\n      <td>phr-pansharpened-reflectance</td>\n    </tr>\n    <tr>\n      <th>31</th>\n      <td>pneo</td>\n      <td>pneo-analytic</td>\n    </tr>\n    <tr>\n      <th>32</th>\n      <td>pneo</td>\n      <td>pneo-display</td>\n    </tr>\n    <tr>\n      <th>33</th>\n      <td>pneo</td>\n      <td>pneo-pansharpened-reflectance</td>\n    </tr>\n    <tr>\n      <th>34</th>\n      <td>pneo-hd15</td>\n      <td>pneo-hd15</td>\n    </tr>\n    <tr>\n      <th>35</th>\n      <td>sentinel-2</td>\n      <td>sentinel-2-level-2a</td>\n    </tr>\n    <tr>\n      <th>36</th>\n      <td>skysat</td>\n      <td>skysat-analytic</td>\n    </tr>\n    <tr>\n      <th>37</th>\n      <td>skysat</td>\n      <td>skysat-pansharpened</td>\n    </tr>\n    <tr>\n      <th>38</th>\n      <td>skysat</td>\n      <td>skysat-panchromatic</td>\n    </tr>\n    <tr>\n      <th>39</th>\n      <td>spot</td>\n      <td>spot-analytic</td>\n    </tr>\n    <tr>\n      <th>40</th>\n      <td>spot</td>\n      <td>spot-display</td>\n    </tr>\n    <tr>\n      <th>41</th>\n      <td>spot</td>\n      <td>spot-pansharpened-reflectance</td>\n    </tr>\n    <tr>\n      <th>42</th>\n      <td>triplesat</td>\n      <td>triplesat-level-2-8-bit</td>\n    </tr>\n    <tr>\n      <th>43</th>\n      <td>triplesat</td>\n      <td>triplesat-level-1-16bit</td>\n    </tr>\n    <tr>\n      <th>44</th>\n      <td>triplesat</td>\n      <td>triplesat-level-1-8bit</td>\n    </tr>\n    <tr>\n      <th>45</th>\n      <td>triplesat</td>\n      <td>triplesat-level-2-16-bit</td>\n    </tr>\n    <tr>\n      <th>46</th>\n      <td>vexcel-aerial-oblique</td>\n      <td>vexcel-aerial-oblique</td>\n    </tr>\n    <tr>\n      <th>47</th>\n      <td>vexcel-aerial-ortho</td>\n      <td>vexcel-aerial-ortho</td>\n    </tr>\n    <tr>\n      <th>48</th>\n      <td>vexcel-aerial-trueortho</td>\n      <td>vexcel-aerial-trueortho</td>\n    </tr>\n    <tr>\n      <th>49</th>\n      <td>vexcel-elevate-dsm-15cm</td>\n      <td>vexcel-elevate-dsm-15cm</td>\n    </tr>\n    <tr>\n      <th>50</th>\n      <td>vexcel-elevate-dsm-6cm</td>\n      <td>vexcel-elevate-dsm-6cm</td>\n    </tr>\n    <tr>\n      <th>51</th>\n      <td>vexcel-elevate-dtm-15cm</td>\n      <td>vexcel-elevate-dtm-15cm</td>\n    </tr>\n    <tr>\n      <th>52</th>\n      <td>worlddem-neo</td>\n      <td>worlddem-neo-dsm</td>\n    </tr>\n  </tbody>\n</table>\n</div>"
     },
     "execution_count": 15,
     "metadata": {},
     "output_type": "execute_result"
    }
   ],
   "source": [
    "archive_collections = up42.CollectionType.ARCHIVE\n",
    "sort_by_name = up42.CollectionSorting.name\n",
    "data_collections = up42.ProductGlossary.get_collections(\n",
    "    collection_type=archive_collections, \n",
    "    sort_by=sort_by_name\n",
    ")\n",
    "pd.DataFrame({\"collection\": c.name, \"product\": d.name} for c in data_collections for d in c.data_products)"
   ]
  },
  {
   "cell_type": "markdown",
   "metadata": {},
   "source": [
    "Choose a data product and the host to search for scenes."
   ]
  },
  {
   "cell_type": "code",
   "execution_count": 4,
   "metadata": {
    "ExecuteTime": {
     "end_time": "2025-05-19T12:52:45.453444Z",
     "start_time": "2025-05-19T12:52:44.993167Z"
    }
   },
   "outputs": [
    {
     "data": {
      "text/plain": "('phr', 'phr-analytic', '4f1b2f62-98df-4c74-81f4-5dce45deee99', 'OneAtlas')"
     },
     "execution_count": 4,
     "metadata": {},
     "output_type": "execute_result"
    }
   ],
   "source": [
    "# The following value is the product id for Pléiades catalog — Analytic:\n",
    "data_collections = up42.ProductGlossary.get_collections(collection_type=archive_collections, sort_by=sort_by_name)\n",
    "collection = next(c for c in data_collections if c.name == \"phr\")\n",
    "data_product = next(d for d in collection.data_products if d.name.endswith(\"analytic\"))\n",
    "host = next(p for p in collection.providers if p.is_host)\n",
    "collection.name, data_product.name, data_product.id, host.title"
   ]
  },
  {
   "cell_type": "markdown",
   "metadata": {},
   "source": [
    "### 2. Request access\n",
    "\n",
    "If you want to order the chosen collection for the first time, you need to [request access to it](https://docs.up42.com/getting-started/restrictions#request-access).\n",
    "\n",
    "An email from the Customer Success team usually takes up to 3 days. You can review your access request status on the [Access requests](https://console.up42.com/settings/access) page."
   ]
  },
  {
   "cell_type": "markdown",
   "metadata": {},
   "source": [
    "### 3. Accept the EULA\n",
    "\n",
    "If you want to order the chosen collection for the first time, you need to accept its [end-user license agreement (EULA)](https://docs.up42.com/getting-started/account/eulas)."
   ]
  },
  {
   "cell_type": "markdown",
   "metadata": {},
   "source": [
    "## <a id=\"step-3\"></a> Step 3. Find and preview data\n",
    "\n",
    "### 1. Search the catalog\n",
    "\n",
    "Specify search parameters to find a full scene that fits your requirements."
   ]
  },
  {
   "cell_type": "code",
   "execution_count": 5,
   "metadata": {
    "ExecuteTime": {
     "end_time": "2025-05-19T12:52:46.896916Z",
     "start_time": "2025-05-19T12:52:45.454157Z"
    }
   },
   "outputs": [],
   "source": [
    "geometry = {\n",
    "    \"type\":\"Polygon\",\n",
    "    \"coordinates\":[[\n",
    "        [13.369713, 52.452327],\n",
    "        [13.369713, 52.470760],\n",
    "        [13.339159, 52.470760],\n",
    "        [13.339159, 52.452327],\n",
    "        [13.369713, 52.452327]\n",
    "    ]]\n",
    "}\n",
    "\n",
    "scenes = list(host.search(\n",
    "    collections=[collection.name],\n",
    "    intersects=geometry,\n",
    "    start_date=\"2022-06-01\",\n",
    "    end_date=\"2022-12-31\",\n",
    "    query={\n",
    "        \"cloudCoverage\": {\"LT\": 20}\n",
    "    }\n",
    "))"
   ]
  },
  {
   "cell_type": "markdown",
   "metadata": {},
   "source": [
    "Output a dataframe with full scenes that match the specified parameters."
   ]
  },
  {
   "cell_type": "code",
   "execution_count": 6,
   "metadata": {
    "ExecuteTime": {
     "end_time": "2025-05-19T12:52:46.920538Z",
     "start_time": "2025-05-19T12:52:46.897555Z"
    }
   },
   "outputs": [
    {
     "data": {
      "text/plain": "                                                bbox  \\\n0  [13.33915989329133, 52.45232754184865, 13.6447...   \n1  [13.08523276731513, 52.45065923655355, 13.3995...   \n2  [13.09330243482808, 52.29227641565387, 13.3914...   \n3  [13.34039801332115, 52.28960854936309, 13.6438...   \n\n                                            geometry  \\\n0  {'type': 'Polygon', 'coordinates': [[[13.51834...   \n1  {'type': 'Polygon', 'coordinates': [[[13.37707...   \n2  {'type': 'Polygon', 'coordinates': [[[13.26824...   \n3  {'type': 'Polygon', 'coordinates': [[[13.64386...   \n\n                                     id              datetime start_datetime  \\\n0  ea42904d-d1ef-4b4f-824b-164a0edfecc1  2022-10-26T10:23:47Z           None   \n1  52d0b74e-492c-4f6c-ac51-e40dffb63273  2022-10-26T10:23:35Z           None   \n2  d3231673-9246-4659-9123-a9671d425d7c  2022-10-20T10:20:09Z           None   \n3  6f15e47c-2ec8-431c-bbb6-3748e5f1be0b  2022-10-20T10:19:54Z           None   \n\n  end_datetime constellation collection  cloud_coverage  resolution  \\\n0         None           phr        phr             4.8         0.5   \n1         None           phr        phr             5.5         0.5   \n2         None           phr        phr            17.8         0.5   \n3         None           phr        phr             9.1         0.5   \n\n  delivery_time producer                                          quicklook  \n0          DAYS   airbus  {'url': 'https://api.up42.com/catalog/oneatlas...  \n1          DAYS   airbus  {'url': 'https://api.up42.com/catalog/oneatlas...  \n2          DAYS   airbus  {'url': 'https://api.up42.com/catalog/oneatlas...  \n3          DAYS   airbus  {'url': 'https://api.up42.com/catalog/oneatlas...  ",
      "text/html": "<div>\n<style scoped>\n    .dataframe tbody tr th:only-of-type {\n        vertical-align: middle;\n    }\n\n    .dataframe tbody tr th {\n        vertical-align: top;\n    }\n\n    .dataframe thead th {\n        text-align: right;\n    }\n</style>\n<table border=\"1\" class=\"dataframe\">\n  <thead>\n    <tr style=\"text-align: right;\">\n      <th></th>\n      <th>bbox</th>\n      <th>geometry</th>\n      <th>id</th>\n      <th>datetime</th>\n      <th>start_datetime</th>\n      <th>end_datetime</th>\n      <th>constellation</th>\n      <th>collection</th>\n      <th>cloud_coverage</th>\n      <th>resolution</th>\n      <th>delivery_time</th>\n      <th>producer</th>\n      <th>quicklook</th>\n    </tr>\n  </thead>\n  <tbody>\n    <tr>\n      <th>0</th>\n      <td>[13.33915989329133, 52.45232754184865, 13.6447...</td>\n      <td>{'type': 'Polygon', 'coordinates': [[[13.51834...</td>\n      <td>ea42904d-d1ef-4b4f-824b-164a0edfecc1</td>\n      <td>2022-10-26T10:23:47Z</td>\n      <td>None</td>\n      <td>None</td>\n      <td>phr</td>\n      <td>phr</td>\n      <td>4.8</td>\n      <td>0.5</td>\n      <td>DAYS</td>\n      <td>airbus</td>\n      <td>{'url': 'https://api.up42.com/catalog/oneatlas...</td>\n    </tr>\n    <tr>\n      <th>1</th>\n      <td>[13.08523276731513, 52.45065923655355, 13.3995...</td>\n      <td>{'type': 'Polygon', 'coordinates': [[[13.37707...</td>\n      <td>52d0b74e-492c-4f6c-ac51-e40dffb63273</td>\n      <td>2022-10-26T10:23:35Z</td>\n      <td>None</td>\n      <td>None</td>\n      <td>phr</td>\n      <td>phr</td>\n      <td>5.5</td>\n      <td>0.5</td>\n      <td>DAYS</td>\n      <td>airbus</td>\n      <td>{'url': 'https://api.up42.com/catalog/oneatlas...</td>\n    </tr>\n    <tr>\n      <th>2</th>\n      <td>[13.09330243482808, 52.29227641565387, 13.3914...</td>\n      <td>{'type': 'Polygon', 'coordinates': [[[13.26824...</td>\n      <td>d3231673-9246-4659-9123-a9671d425d7c</td>\n      <td>2022-10-20T10:20:09Z</td>\n      <td>None</td>\n      <td>None</td>\n      <td>phr</td>\n      <td>phr</td>\n      <td>17.8</td>\n      <td>0.5</td>\n      <td>DAYS</td>\n      <td>airbus</td>\n      <td>{'url': 'https://api.up42.com/catalog/oneatlas...</td>\n    </tr>\n    <tr>\n      <th>3</th>\n      <td>[13.34039801332115, 52.28960854936309, 13.6438...</td>\n      <td>{'type': 'Polygon', 'coordinates': [[[13.64386...</td>\n      <td>6f15e47c-2ec8-431c-bbb6-3748e5f1be0b</td>\n      <td>2022-10-20T10:19:54Z</td>\n      <td>None</td>\n      <td>None</td>\n      <td>phr</td>\n      <td>phr</td>\n      <td>9.1</td>\n      <td>0.5</td>\n      <td>DAYS</td>\n      <td>airbus</td>\n      <td>{'url': 'https://api.up42.com/catalog/oneatlas...</td>\n    </tr>\n  </tbody>\n</table>\n</div>"
     },
     "execution_count": 6,
     "metadata": {},
     "output_type": "execute_result"
    }
   ],
   "source": [
    "pd.DataFrame(scenes)\n",
    "# scenes # Uncomment to output data class instances instead"
   ]
  },
  {
   "cell_type": "markdown",
   "metadata": {},
   "source": [
    "### 2. Preview data\n",
    "\n",
    "Some data hosts provide free, low-resolution quicklooks that you can preview before creating an order. Note that some quicklooks may not fully match the scene they represent."
   ]
  },
  {
   "cell_type": "code",
   "execution_count": 7,
   "metadata": {
    "ExecuteTime": {
     "end_time": "2025-05-19T12:52:46.923845Z",
     "start_time": "2025-05-19T12:52:46.921206Z"
    }
   },
   "outputs": [],
   "source": [
    "# Download quicklooks\n",
    "scene = scenes[0]\n",
    "# src_path = scene.quicklook.download(\"./quicklooks/\")\n",
    "# result = search_results_df.iloc[0]\n",
    "# catalog.download_quicklooks(\n",
    "#     image_ids=[result.sceneId],\n",
    "#     collection=result.constellation,\n",
    "#     output_directory=\"./quicklooks/\",\n",
    "# )\n",
    "\n",
    "# Define a function to georeference quicklooks\n",
    "def georeference_quicklooks(\n",
    "    src_path: str, dst_path: str, ulx: float, uly: float, lrx: float, lry: float\n",
    "):\n",
    "    with rasterio.open(src_path) as src:\n",
    "        data = src.read()\n",
    "        transform = rasterio.transform.from_bounds(\n",
    "            ulx, lry, lrx, uly, data.shape[2], data.shape[1]\n",
    "        )\n",
    "\n",
    "        with rasterio.open(\n",
    "            dst_path,\n",
    "            \"w\",\n",
    "            driver=src.driver,\n",
    "            height=src.height,\n",
    "            width=src.width,\n",
    "            count=src.count,\n",
    "            dtype=src.dtypes[0],\n",
    "            crs=\"EPSG:4326\",\n",
    "            transform=transform,\n",
    "        ) as dst:\n",
    "            dst.write(data)\n",
    "\n",
    "# Georefence the quicklooks\n",
    "# out_path = f\"./quicklooks/georeferenced_quicklook_{scene.id}.png\"\n",
    "# georeference_quicklooks(\n",
    "#     src_path,\n",
    "#     out_path,\n",
    "#     scenes.geometry.bounds[0],\n",
    "#     scene.geometry.bounds[3],\n",
    "#     scene.geometry.bounds[2],\n",
    "#     scene.geometry.bounds[1],\n",
    "# )"
   ]
  },
  {
   "cell_type": "markdown",
   "metadata": {},
   "source": [
    "Open the `quicklooks` folder. You will find the following files added by the cell above:\n",
    "\n",
    "- An original quicklook\n",
    "- A metadata file needed for georeferencing\n",
    "- A georeferenced quicklook with the `georeferenced` prefix\n",
    "\n",
    "[Visualize](https://docs.up42.com/help/visualize) the georeferenced quicklook in a third-party GIS software."
   ]
  },
  {
   "cell_type": "markdown",
   "metadata": {},
   "source": [
    "## <a id=\"step-4\"></a> Step 4. Create an order\n",
    "\n",
    "### 1. Fill out an order form\n",
    "\n",
    "Get detailed information about the parameters needed to create an order for the chosen data product."
   ]
  },
  {
   "cell_type": "code",
   "execution_count": 8,
   "metadata": {
    "ExecuteTime": {
     "end_time": "2025-05-19T12:52:46.986735Z",
     "start_time": "2025-05-19T12:52:46.924640Z"
    }
   },
   "outputs": [
    {
     "data": {
      "text/plain": "{'additionalProperties': False,\n 'properties': {'id': {'title': 'Id', 'type': 'string'},\n  'aoi': {'$ref': '#/definitions/Polygon'}},\n 'required': ['id', 'aoi'],\n 'title': 'ParamsWithAOI',\n 'type': 'object',\n '$schema': 'https://json-schema.org/draft-07/schema',\n 'definitions': {'Polygon': {'description': 'Polygon Model.',\n   'properties': {'type': {'const': 'Polygon',\n     'default': 'Polygon',\n     'enum': ['Polygon'],\n     'title': 'Type',\n     'type': 'string'},\n    'coordinates': {'items': {'items': {'items': {'type': 'number'},\n       'maxItems': 2,\n       'minItems': 2,\n       'type': 'array'},\n      'minItems': 4,\n      'type': 'array'},\n     'type': 'array'}},\n   'required': ['coordinates'],\n   'title': 'Polygon',\n   'type': 'object'}}}"
     },
     "execution_count": 8,
     "metadata": {},
     "output_type": "execute_result"
    }
   ],
   "source": [
    "data_product.schema"
   ]
  },
  {
   "cell_type": "markdown",
   "metadata": {},
   "source": [
    "Use the required request body schema format for the chosen data product."
   ]
  },
  {
   "cell_type": "code",
   "execution_count": 9,
   "metadata": {
    "ExecuteTime": {
     "end_time": "2025-05-19T12:52:50.478330Z",
     "start_time": "2025-05-19T12:52:46.988758Z"
    }
   },
   "outputs": [],
   "source": [
    "from datetime import date\n",
    "features = geojson.FeatureCollection(features=[geojson.Feature(geometry=geometry)])\n",
    "order_template = up42.BatchOrderTemplate(\n",
    "    data_product_id=data_product.id,\n",
    "    display_name=f\"{data_product.name}-{date.today()}\",\n",
    "    features=features,\n",
    "    params={\n",
    "        \"id\": scene.id\n",
    "    },\n",
    "    tags=[\"sdk\", data_product.name]\n",
    ")\n"
   ]
  },
  {
   "cell_type": "markdown",
   "metadata": {},
   "source": [
    "### 2. Get a cost estimate\n",
    "\n",
    "Get a cost estimate before placing the order."
   ]
  },
  {
   "cell_type": "code",
   "execution_count": 11,
   "metadata": {
    "ExecuteTime": {
     "end_time": "2025-05-19T12:52:50.487931Z",
     "start_time": "2025-05-19T12:52:50.486017Z"
    }
   },
   "outputs": [
    {
     "data": {
      "text/plain": "Estimate(items=[OrderCost(index=0, credits=3870, size=3.87, unit='SQ_KM')], credits=3870, size=3.87, unit='SQ_KM')"
     },
     "execution_count": 11,
     "metadata": {},
     "output_type": "execute_result"
    }
   ],
   "source": [
    "order_template.estimate"
   ]
  },
  {
   "cell_type": "markdown",
   "metadata": {},
   "source": [
    "The response returns the overall credit amount that will be deducted from your credit balance if you decide to proceed with the ordering."
   ]
  },
  {
   "cell_type": "markdown",
   "metadata": {},
   "source": [
    "### 3. Create an order\n",
    "\n",
    "Place the order using the template.\n",
    "\n",
    "Credits will be deducted upon successful completion of the created catalog order. The transaction can't be reversed."
   ]
  },
  {
   "cell_type": "code",
   "execution_count": 12,
   "metadata": {
    "ExecuteTime": {
     "end_time": "2025-05-19T12:52:50.490207Z",
     "start_time": "2025-05-19T12:52:50.488779Z"
    }
   },
   "outputs": [],
   "source": [
    "# order = order_template.place()\n",
    "# order"
   ]
  },
  {
   "cell_type": "markdown",
   "metadata": {},
   "source": [
    "## <a id=\"step-5\"></a> Step 5. Monitor orders\n",
    "\n",
    "Check the [status](https://docs.up42.com/developers/api-catalog#order-statuses) of your order. To learn about the timeframe of catalog orders, see [Asset delivery time](https://docs.up42.com/data/archive/delivery)."
   ]
  },
  {
   "cell_type": "code",
   "execution_count": 13,
   "metadata": {
    "ExecuteTime": {
     "end_time": "2025-05-19T12:52:50.492323Z",
     "start_time": "2025-05-19T12:52:50.490936Z"
    }
   },
   "outputs": [],
   "source": [
    "# order.status"
   ]
  },
  {
   "cell_type": "markdown",
   "metadata": {},
   "source": [
    "You can also track the order status until the order is completed."
   ]
  },
  {
   "cell_type": "code",
   "execution_count": 14,
   "metadata": {
    "ExecuteTime": {
     "end_time": "2025-05-19T12:52:50.494441Z",
     "start_time": "2025-05-19T12:52:50.492942Z"
    }
   },
   "outputs": [],
   "source": [
    "# order.track_status()"
   ]
  },
  {
   "cell_type": "markdown",
   "metadata": {},
   "source": [
    "## <a id=\"step-6\"></a> Step 6. Download assets\n",
    "\n",
    "The following statuses mean you can download assets from storage:\n",
    "- `BEING_FULFILLED`: Some order assets might have been delivered. [Download](https://github.com/up42/documentation-notebooks/blob/main/storage/sdk-storage-assets.ipynb) these assets using the `Storage` class.\n",
    "- `FULFILLED`: All order assets have been delivered. [Download](https://github.com/up42/documentation-notebooks/blob/main/storage/sdk-order-assets.ipynb) these assets using the `Order` class."
   ]
  }
 ],
 "metadata": {
  "colab": {
   "provenance": []
  },
  "kernelspec": {
   "name": "python3",
   "language": "python",
   "display_name": "Python 3 (ipykernel)"
  },
  "language_info": {
   "codemirror_mode": {
    "name": "ipython",
    "version": 3
   },
   "file_extension": ".py",
   "mimetype": "text/x-python",
   "name": "python",
   "nbconvert_exporter": "python",
   "pygments_lexer": "ipython3",
   "version": "3.11.3"
  },
  "orig_nbformat": 4
 },
 "nbformat": 4,
 "nbformat_minor": 0
}
