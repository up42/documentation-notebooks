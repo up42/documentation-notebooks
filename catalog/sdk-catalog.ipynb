{
  "cells": [
    {
      "cell_type": "markdown",
      "metadata": {},
      "source": [
        "# Create a catalog order\n",
        "\n",
        "- <a href=\"#step-1\">Step 1. Set up the notebook</a>\n",
        "- <a href=\"#step-2\">Step 2. Get access</a>\n",
        "- <a href=\"#step-3\">Step 3. Find and preview data</a>\n",
        "- <a href=\"#step-4\">Step 4. Create an order</a>\n",
        "- <a href=\"#step-5\">Step 5. Monitor orders</a>\n",
        "- <a href=\"#step-6\">Step 6. Download assets</a>\n",
        "\n",
        "## <a id=\"step-1\"></a> Step 1. Set up the notebook\n",
        "\n",
        "### 1. Install prerequisites"
      ]
    },
    {
      "cell_type": "code",
      "execution_count": 1,
      "metadata": {},
      "outputs": [],
      "source": [
        "!pip install up42-py --upgrade -q\n",
        "\n",
        "import up42, rasterio"
      ]
    },
    {
      "cell_type": "markdown",
      "metadata": {},
      "source": [
        "### 2. Authenticate\n",
        "\n",
        "Use your credentials to authenticate."
      ]
    },
    {
      "cell_type": "code",
      "execution_count": 2,
      "metadata": {},
      "outputs": [
        {
          "name": "stderr",
          "output_type": "stream",
          "text": [
            "2024-04-10 14:38:47,262 - Got credentials from config file.\n",
            "2024-04-10 14:38:47,809 - Authentication with UP42 successful!\n"
          ]
        }
      ],
      "source": [
        "# Create a configuration file and use the following code for it:\n",
        "# {\n",
        "#   \"username\": \"<your-email-address>\",\n",
        "#   \"password\": \"<your-password>\"\n",
        "# }\n",
        "\n",
        "up42.authenticate(cfg_file=\"/Users/max.mustermann/.up42/credentials.json\")"
      ]
    },
    {
      "cell_type": "markdown",
      "metadata": {},
      "source": [
        "## <a id=\"step-2\"></a> Step 2. Get access\n",
        "\n",
        "### 1. Select a catalog collection\n",
        "\n",
        "Choose a catalog collection and get its `data_product_id` for ordering."
      ]
    },
    {
      "cell_type": "code",
      "execution_count": 3,
      "metadata": {},
      "outputs": [],
      "source": [
        "glossary = up42.glossary.ProductGlossary\n",
        "catalog_type = up42.glossary.CollectionType.ARCHIVE\n",
        "sort_by = up42.glossary.CollectionSorting.name\n",
        "data_collections = glossary.get_collections(collection_type=catalog_type, sort_by=sort_by)\n",
        "for collection in data_collections:\n",
        "    print(f\"collection name: {collection.name}\")\n",
        "    data_products = collection.data_products\n",
        "    for data_product in data_products:\n",
        "        print (f\"data product name: {data_product.name}, id: {data_product.id}\")"
      ]
    },
    {
      "cell_type": "markdown",
      "metadata": {},
      "source": [
        "Choose a data product and copy its ID."
      ]
    },
    {
      "cell_type": "code",
      "execution_count": 4,
      "metadata": {},
      "outputs": [],
      "source": [
        "# The following value is the product id for Pléiades catalog — Analytic:\n",
        "data_product_id = \"4f1b2f62-98df-4c74-81f4-5dce45deee99\""
      ]
    },
    {
      "cell_type": "markdown",
      "metadata": {},
      "source": [
        "### 2. Request access\n",
        "\n",
        "If you want to order the chosen collection for the first time, you need to [request access to it](https://docs.up42.com/getting-started/restrictions#request-access).\n",
        "\n",
        "An email from the Customer Success team usually takes up to 3 days. You can review your access request status on the [Access requests](https://console.up42.com/settings/access) page."
      ]
    },
    {
      "cell_type": "markdown",
      "metadata": {},
      "source": [
        "### 3. Accept the EULA\n",
        "\n",
        "If you want to order the chosen collection for the first time, you need to accept its [end-user license agreement (EULA)](https://docs.up42.com/getting-started/account/eulas)."
      ]
    },
    {
      "cell_type": "markdown",
      "metadata": {},
      "source": [
        "## <a id=\"step-3\"></a> Step 3. Find and preview data\n",
        "\n",
        "### 1. Search the catalog\n",
        "\n",
        "Specify search parameters to find a full scene that fits your requirements."
      ]
    },
    {
      "cell_type": "code",
      "execution_count": 5,
      "metadata": {},
      "outputs": [
        {
          "name": "stderr",
          "output_type": "stream",
          "text": [
            "2024-04-08 15:37:49,320 - Getting small example AOI in location 'Berlin'.\n",
            "2024-04-08 15:37:49,497 - Searching catalog with search_parameters: {'datetime': '2022-06-01T00:00:00Z/2022-12-31T23:59:59Z', 'intersects': {'type': 'Polygon', 'coordinates': (((13.375777664180191, 52.51799543512652), (13.375777664180191, 52.514561554285706), (13.381566455794598, 52.514561554285706), (13.381566455794598, 52.51799543512652), (13.375777664180191, 52.51799543512652)),)}, 'limit': 10, 'collections': ['phr'], 'query': {'cloudCoverage': {'lte': 20}}}\n",
            "2024-04-08 15:37:51,269 - 5 results returned.\n"
          ]
        }
      ],
      "source": [
        "catalog = up42.initialize_catalog()\n",
        "\n",
        "geometry = up42.get_example_aoi()\n",
        "\n",
        "search_parameters = catalog.construct_search_parameters(\n",
        "    collections=[\"phr\"],\n",
        "    geometry=geometry,\n",
        "    start_date=\"2022-06-01\",\n",
        "    end_date=\"2022-12-31\",\n",
        "    max_cloudcover=20,\n",
        "    limit=10,\n",
        ")\n",
        "\n",
        "search_results_df = catalog.search(search_parameters)"
      ]
    },
    {
      "cell_type": "markdown",
      "metadata": {},
      "source": [
        "Output a dataframe with full scenes that match the specified parameters."
      ]
    },
    {
      "cell_type": "code",
      "execution_count": 6,
      "metadata": {},
      "outputs": [],
      "source": [
        "search_results_df\n",
        "# catalog.search(as_dataframe=False) # Uncomment to output JSON instead"
      ]
    },
    {
      "cell_type": "markdown",
      "metadata": {},
      "source": [
        "### 2. Preview data\n",
        "\n",
        "Some data hosts provide free, low-resolution quicklooks that you can preview before creating an order. Note that some quicklooks may not fully match the scene they represent."
      ]
    },
    {
      "cell_type": "code",
      "execution_count": 7,
      "metadata": {},
      "outputs": [
        {
          "name": "stderr",
          "output_type": "stream",
          "text": [
            "2024-04-08 15:37:55,530 - Downloading quicklooks from provider oneatlas.\n",
            "2024-04-08 15:37:55,531 - Download directory: quicklooks\n",
            "100%|██████████| 1/1 [00:01<00:00,  1.37s/it]\n",
            "  dataset = DatasetReader(path, driver=driver, sharing=sharing, **kwargs)\n"
          ]
        }
      ],
      "source": [
        "# Download quicklooks\n",
        "result = search_results_df.iloc[0]\n",
        "catalog.download_quicklooks(\n",
        "    image_ids=[result.sceneId],\n",
        "    collection=result.constellation,\n",
        "    output_directory=\"./quicklooks/\",\n",
        ")\n",
        "\n",
        "# Define a function to georeference quicklooks\n",
        "def georeference_quicklooks(\n",
        "    src_path: str, dst_path: str, ulx: float, uly: float, lrx: float, lry: float\n",
        "):\n",
        "    with rasterio.open(src_path) as src:\n",
        "        data = src.read()\n",
        "        transform = rasterio.transform.from_bounds(\n",
        "            ulx, lry, lrx, uly, data.shape[2], data.shape[1]\n",
        "        )\n",
        "\n",
        "        with rasterio.open(\n",
        "            dst_path,\n",
        "            \"w\",\n",
        "            driver=src.driver,\n",
        "            height=src.height,\n",
        "            width=src.width,\n",
        "            count=src.count,\n",
        "            dtype=src.dtypes[0],\n",
        "            crs=\"EPSG:4326\",\n",
        "            transform=transform,\n",
        "        ) as dst:\n",
        "            dst.write(data)\n",
        "\n",
        "# Georefence the quicklooks\n",
        "src_path = f\"./quicklooks/quicklook_{result.sceneId}.jpg\"\n",
        "out_path = f\"./quicklooks/georeferenced_quicklook_{result.sceneId}.png\"\n",
        "georeference_quicklooks(\n",
        "    src_path,\n",
        "    out_path,\n",
        "    result.geometry.bounds[0],\n",
        "    result.geometry.bounds[3],\n",
        "    result.geometry.bounds[2],\n",
        "    result.geometry.bounds[1],\n",
        ")"
      ]
    },
    {
      "cell_type": "markdown",
      "metadata": {},
      "source": [
        "Open the `quicklooks` folder. You will find the following files added by the cell above:\n",
        "\n",
        "- An original quicklook\n",
        "- A metadata file needed for georeferencing\n",
        "- A georeferenced quicklook with the `georeferenced` prefix\n",
        "\n",
        "[Visualize](https://docs.up42.com/help/visualize) the georeferenced quicklook in a third-party GIS software."
      ]
    },
    {
      "cell_type": "markdown",
      "metadata": {},
      "source": [
        "## <a id=\"step-4\"></a> Step 4. Create an order\n",
        "\n",
        "### 1. Fill out an order form\n",
        "\n",
        "Fill out the order form for the chosen data product."
      ]
    },
    {
      "cell_type": "code",
      "execution_count": 8,
      "metadata": {},
      "outputs": [
        {
          "name": "stderr",
          "output_type": "stream",
          "text": [
            "2024-04-08 15:38:55,888 - See `catalog.get_data_product_schema(data_product_id)` for more detail on the parameter options.\n"
          ]
        }
      ],
      "source": [
        "order_parameters = catalog.construct_order_parameters(\n",
        "    data_product_id=data_product_id,\n",
        "    image_id=search_results_df.iloc[0][\"id\"], # Note that the count starts from 0\n",
        "    aoi=geometry,\n",
        ")"
      ]
    },
    {
      "cell_type": "markdown",
      "metadata": {},
      "source": [
        "Check the parameters by printing them."
      ]
    },
    {
      "cell_type": "code",
      "execution_count": 9,
      "metadata": {},
      "outputs": [
        {
          "data": {
            "text/plain": [
              "{'dataProduct': '4f1b2f62-98df-4c74-81f4-5dce45deee99',\n",
              " 'params': {'id': 'a4c9e729-1b62-43be-82e4-4e02c31963dd',\n",
              "  'aoi': {'type': 'Polygon',\n",
              "   'coordinates': (((13.375777664180191, 52.51799543512652),\n",
              "     (13.375777664180191, 52.514561554285706),\n",
              "     (13.381566455794598, 52.514561554285706),\n",
              "     (13.381566455794598, 52.51799543512652),\n",
              "     (13.375777664180191, 52.51799543512652)),)}}}"
            ]
          },
          "execution_count": 9,
          "metadata": {},
          "output_type": "execute_result"
        }
      ],
      "source": [
        "order_parameters"
      ]
    },
    {
      "cell_type": "markdown",
      "metadata": {},
      "source": [
        "### 2. Get a cost estimate\n",
        "\n",
        "Get a cost estimation before placing a catalog order."
      ]
    },
    {
      "cell_type": "code",
      "execution_count": 10,
      "metadata": {},
      "outputs": [
        {
          "name": "stderr",
          "output_type": "stream",
          "text": [
            "2024-04-08 15:39:06,345 - Order is estimated to cost 150 UP42 credits (order_parameters: {'dataProduct': '4f1b2f62-98df-4c74-81f4-5dce45deee99', 'params': {'id': 'a4c9e729-1b62-43be-82e4-4e02c31963dd', 'aoi': {'type': 'Polygon', 'coordinates': (((13.375777664180191, 52.51799543512652), (13.375777664180191, 52.514561554285706), (13.381566455794598, 52.514561554285706), (13.381566455794598, 52.51799543512652), (13.375777664180191, 52.51799543512652)),)}}})\n"
          ]
        },
        {
          "data": {
            "text/plain": [
              "150"
            ]
          },
          "execution_count": 10,
          "metadata": {},
          "output_type": "execute_result"
        }
      ],
      "source": [
        "catalog.estimate_order(order_parameters)"
      ]
    },
    {
      "cell_type": "markdown",
      "metadata": {},
      "source": [
        "The response returns the overall credit amount that will be deducted from your credit balance if you decide to proceed with the ordering."
      ]
    },
    {
      "cell_type": "markdown",
      "metadata": {},
      "source": [
        "### 3. Create an order\n",
        "\n",
        "Create an order with the requested parameters.\n",
        "\n",
        "Credits will be deducted upon successful completion of the created catalog order. The transaction can't be reversed."
      ]
    },
    {
      "cell_type": "code",
      "execution_count": 11,
      "metadata": {},
      "outputs": [
        {
          "name": "stderr",
          "output_type": "stream",
          "text": [
            "2024-04-08 15:39:13,206 - Order is PLACED\n",
            "2024-04-08 15:39:13,207 - Order 34bc3737-71e4-46d0-88d5-92a9d82aab0a is now PLACED.\n"
          ]
        },
        {
          "data": {
            "text/plain": [
              "Order(order_id: 34bc3737-71e4-46d0-88d5-92a9d82aab0a, assets: [], dataProvider: None, status: PLACED, createdAt: 2024-04-08T13:39:10.434953Z, updatedAt: 2024-04-08T13:39:12.785075Z)"
            ]
          },
          "execution_count": 11,
          "metadata": {},
          "output_type": "execute_result"
        }
      ],
      "source": [
        "order = catalog.place_order(order_parameters)\n",
        "order"
      ]
    },
    {
      "cell_type": "markdown",
      "metadata": {},
      "source": [
        "## <a id=\"step-5\"></a> Step 5. Monitor orders\n",
        "\n",
        "Check the [status](https://docs.up42.com/developers/api-catalog#order-statuses) of your order. To learn about the timeframe of catalog orders, see [Asset delivery time](https://docs.up42.com/data/archive/delivery)."
      ]
    },
    {
      "cell_type": "code",
      "execution_count": 12,
      "metadata": {},
      "outputs": [
        {
          "name": "stderr",
          "output_type": "stream",
          "text": [
            "2024-04-08 15:39:16,922 - Order is PLACED\n"
          ]
        },
        {
          "data": {
            "text/plain": [
              "'PLACED'"
            ]
          },
          "execution_count": 12,
          "metadata": {},
          "output_type": "execute_result"
        }
      ],
      "source": [
        "order.status"
      ]
    },
    {
      "cell_type": "markdown",
      "metadata": {},
      "source": [
        "You can also track the order status until the order is completed."
      ]
    },
    {
      "cell_type": "code",
      "execution_count": 13,
      "metadata": {},
      "outputs": [
        {
          "name": "stderr",
          "output_type": "stream",
          "text": [
            "2024-04-08 15:39:19,209 - Tracking order status, reporting every 120 seconds...\n",
            "2024-04-08 15:39:19,314 - Order is PLACED\n",
            "2024-04-08 15:39:19,431 - Order is PLACED\n"
          ]
        }
      ],
      "source": [
        "order.track_status()"
      ]
    },
    {
      "cell_type": "markdown",
      "metadata": {},
      "source": [
        "## <a id=\"step-6\"></a> Step 6. Download assets\n",
        "\n",
        "The following statuses mean you can download assets from storage:\n",
        "- `BEING_FULFILLED`: Some order assets might have been delivered. [Download](https://github.com/up42/documentation-notebooks/blob/main/storage/sdk-storage-assets.ipynb) these assets using the `Storage` class.\n",
        "- `FULFILLED`: All order assets have been delivered. [Download](https://github.com/up42/documentation-notebooks/blob/main/storage/sdk-order-assets.ipynb) these assets using the `Order` class."
      ]
    }
  ],
  "metadata": {
    "colab": {
      "provenance": []
    },
    "kernelspec": {
      "display_name": "Python 3",
      "name": "python3"
    },
    "language_info": {
      "codemirror_mode": {
        "name": "ipython",
        "version": 3
      },
      "file_extension": ".py",
      "mimetype": "text/x-python",
      "name": "python",
      "nbconvert_exporter": "python",
      "pygments_lexer": "ipython3",
      "version": "3.11.3"
    },
    "orig_nbformat": 4
  },
  "nbformat": 4,
  "nbformat_minor": 0
}
