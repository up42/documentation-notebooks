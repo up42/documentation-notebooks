{
 "cells": [
  {
   "cell_type": "markdown",
   "metadata": {},
   "source": [
    "# Create a catalog order\n",
    "\n",
    "## Step 1. Set up the notebook\n",
    "\n",
    "### 1. Install dependencies"
   ]
  },
  {
   "cell_type": "code",
   "execution_count": null,
   "metadata": {
    "ExecuteTime": {
     "end_time": "2025-05-19T13:33:35.769998Z",
     "start_time": "2025-05-19T13:33:33.337052Z"
    }
   },
   "outputs": [],
   "source": [
    "!pip install up42-py --upgrade -q\n",
    "\n",
    "import up42, rasterio, geojson, pathlib\n",
    "import pandas as pd"
   ]
  },
  {
   "cell_type": "markdown",
   "metadata": {},
   "source": [
    "### 2. Authenticate\n",
    "\n",
    "Create a `credentials.json` file in a directory named `.up42` under your home directory by running the cell below. The path to the file will be `~/.up42/credentials.json`."
   ]
  },
  {
   "cell_type": "code",
   "execution_count": null,
   "metadata": {
    "ExecuteTime": {
     "end_time": "2025-05-19T13:33:36.432844Z",
     "start_time": "2025-05-19T13:33:35.771043Z"
    }
   },
   "outputs": [],
   "source": [
    "# Define the credentials file path if it doesn't exist\n",
    "credentials_file_path = pathlib.Path.home().joinpath(\".up42/credentials.json\")\n",
    "credentials_file_path.parent.mkdir(parents=True, exist_ok=True)\n",
    "credentials_file_path.touch(exist_ok=True)\n",
    "\n",
    "# Print the path to the file\n",
    "print(f\"Credentials file is located at: {credentials_file_path}\")"
   ]
  },
  {
   "cell_type": "markdown",
   "metadata": {},
   "source": [
    "1. Click the link above to the created file and paste the following code:\n",
    "    ```\n",
    "    {\n",
    "        \"username\": \"<your-email-address>\",\n",
    "        \"password\": \"<your-password>\"\n",
    "    }\n",
    "    ```\n",
    "2. Retrieve the email address and password used for logging into the console. Use them as values for `username` and `password`.\n",
    "3. Save the `credentials.json` file.\n",
    "4. Check that the authentication was successful as follows:"
   ]
  },
  {
   "cell_type": "code",
   "execution_count": null,
   "metadata": {},
   "outputs": [],
   "source": [
    "up42.authenticate(cfg_file=credentials_file_path)"
   ]
  },
  {
   "cell_type": "markdown",
   "metadata": {},
   "source": [
    "## Step 2. Get access\n",
    "\n",
    "### 1. Select a catalog collection\n",
    "\n",
    "You can browse all archive collections in our glossary"
   ]
  },
  {
   "cell_type": "code",
   "execution_count": null,
   "metadata": {
    "ExecuteTime": {
     "end_time": "2025-05-19T13:33:38.059659Z",
     "start_time": "2025-05-19T13:33:36.440522Z"
    }
   },
   "outputs": [],
   "source": [
    "archive_collections = up42.CollectionType.ARCHIVE\n",
    "sort_by_name = up42.CollectionSorting.name\n",
    "data_collections = up42.ProductGlossary.get_collections(\n",
    "    collection_type=archive_collections,\n",
    "    sort_by=sort_by_name\n",
    ")\n",
    "pd.DataFrame({\"collection\": c.name, \"product\": d.name} for c in data_collections for d in c.data_products)"
   ]
  },
  {
   "cell_type": "markdown",
   "metadata": {},
   "source": [
    "Choose a data product."
   ]
  },
  {
   "cell_type": "code",
   "execution_count": null,
   "metadata": {
    "ExecuteTime": {
     "end_time": "2025-05-19T13:33:39.521296Z",
     "start_time": "2025-05-19T13:33:38.061535Z"
    }
   },
   "outputs": [],
   "source": [
    "# The sample uses Pléiades catalog — Analytic\n",
    "\n",
    "# Retrieve a list of geospatial collections\n",
    "data_collections = up42.ProductGlossary.get_collections(\n",
    "    collection_type=archive_collections,\n",
    "    sort_by=sort_by_name\n",
    ")\n",
    "\n",
    "# Iterate over collections and select Pléiades (\"phr\")\n",
    "collection = next(c for c in data_collections if c.name == \"phr\")\n",
    "\n",
    "# Find the Analytic data product\n",
    "data_product = next(\n",
    "    d for d in collection.data_products if d.name.endswith(\"analytic\")\n",
    ")\n",
    "\n",
    "# Retrieve the host\n",
    "host = next(p for p in collection.providers if p.is_host)\n",
    "collection.name, data_product.name, data_product.id, host.title"
   ]
  },
  {
   "cell_type": "markdown",
   "metadata": {},
   "source": [
    "### 2. Request access\n",
    "\n",
    "If you want to order the chosen collection for the first time, you need to [request access to it](https://docs.up42.com/getting-started/restrictions#request-access).\n",
    "\n",
    "An email from the Customer Success team usually takes up to 3 days. You can review your access request status on the [Access requests](https://console.up42.com/settings/access) page."
   ]
  },
  {
   "cell_type": "markdown",
   "metadata": {},
   "source": [
    "### 3. Accept the EULA\n",
    "\n",
    "If you want to order the chosen collection for the first time, you need to accept its [end-user license agreement (EULA)](https://docs.up42.com/getting-started/account/eulas)."
   ]
  },
  {
   "cell_type": "markdown",
   "metadata": {},
   "source": [
    "## Step 3. Find and preview data\n",
    "\n",
    "### 1. Search the catalog\n",
    "\n",
    "Search the host to find a full scene that fits your requirements."
   ]
  },
  {
   "cell_type": "code",
   "execution_count": null,
   "metadata": {
    "ExecuteTime": {
     "end_time": "2025-05-19T13:33:41.874303Z",
     "start_time": "2025-05-19T13:33:39.533467Z"
    }
   },
   "outputs": [],
   "source": [
    "geometry = {\n",
    "    \"type\":\"Polygon\",\n",
    "    \"coordinates\":[[\n",
    "        [13.369713, 52.452327],\n",
    "        [13.369713, 52.470760],\n",
    "        [13.339159, 52.470760],\n",
    "        [13.339159, 52.452327],\n",
    "        [13.369713, 52.452327]\n",
    "    ]]\n",
    "}\n",
    "\n",
    "scenes = list(host.search(\n",
    "    collections=[collection.name],\n",
    "    intersects=geometry,\n",
    "    start_date=\"2022-06-01\",\n",
    "    end_date=\"2022-12-31\",\n",
    "    query={\n",
    "        \"cloudCoverage\": {\"LT\": 20}\n",
    "    }\n",
    "))"
   ]
  },
  {
   "cell_type": "markdown",
   "metadata": {},
   "source": [
    "Output a dataframe with full scenes that match the specified parameters."
   ]
  },
  {
   "cell_type": "code",
   "execution_count": null,
   "metadata": {
    "ExecuteTime": {
     "end_time": "2025-05-19T13:33:41.900787Z",
     "start_time": "2025-05-19T13:33:41.876439Z"
    }
   },
   "outputs": [],
   "source": [
    "pd.DataFrame(scenes)\n",
    "# scenes # Uncomment to output data class instances instead"
   ]
  },
  {
   "cell_type": "markdown",
   "metadata": {},
   "source": [
    "### 2. Preview data\n",
    "\n",
    "Some data hosts provide free, low-resolution quicklooks that you can preview before creating an order. Note that some quicklooks might not fully match the scene they represent.\n",
    "\n",
    "You can visualize the quicklooks using Jupyter display components."
   ]
  },
  {
   "cell_type": "code",
   "execution_count": null,
   "metadata": {
    "ExecuteTime": {
     "end_time": "2025-05-19T13:35:17.237514Z",
     "start_time": "2025-05-19T13:35:13.896996Z"
    }
   },
   "outputs": [],
   "source": [
    "from IPython.display import Image\n",
    "# Download quicklook to quicklooks directory\n",
    "scene = scenes[0]\n",
    "quicklook_path = scene.quicklook.download(\"./quicklooks/\")\n",
    "Image(quicklook_path)"
   ]
  },
  {
   "cell_type": "markdown",
   "metadata": {
    "collapsed": false
   },
   "source": [
    "Since the quicklook image is not georeferenced, you might need to georeference it. "
   ]
  },
  {
   "cell_type": "code",
   "execution_count": null,
   "metadata": {
    "collapsed": false
   },
   "outputs": [],
   "source": [
    "import shapely as shp\n",
    "# Define a function to georeference quicklook\n",
    "def georeference(\n",
    "    src_path: str, dst_path: str, bounds: tuple[float, float, float, float]\n",
    "):\n",
    "    with rasterio.open(src_path) as src:\n",
    "        data = src.read()\n",
    "        transform = rasterio.transform.from_bounds(\n",
    "            *bounds, data.shape[2], data.shape[1]\n",
    "        )\n",
    "\n",
    "        with rasterio.open(\n",
    "            dst_path,\n",
    "            \"w\",\n",
    "            driver=src.driver,\n",
    "            height=src.height,\n",
    "            width=src.width,\n",
    "            count=src.count,\n",
    "            dtype=src.dtypes[0],\n",
    "            crs=\"EPSG:4326\",\n",
    "            transform=transform,\n",
    "        ) as dst:\n",
    "            dst.write(data)\n",
    "# Georefence the quicklooks\n",
    "out_path = f\"./quicklooks/georeferenced_quicklook_{scene.id}.png\"\n",
    "georeference(\n",
    "    quicklook_path,\n",
    "    out_path,\n",
    "    shp.geometry.shape(scene.geometry).bounds,\n",
    ")"
   ]
  },
  {
   "cell_type": "markdown",
   "metadata": {},
   "source": [
    "Open the `quicklooks` folder. You will find the following files added by the cell above:\n",
    "\n",
    "- The original quicklook\n",
    "- A metadata file needed for georeferencing\n",
    "- The georeferenced quicklook with the `georeferenced` prefix\n",
    "\n",
    "[Visualize](https://docs.up42.com/help/visualize) the georeferenced quicklook in a third-party GIS software."
   ]
  },
  {
   "cell_type": "markdown",
   "metadata": {},
   "source": [
    "## Step 4. Create an order\n",
    "\n",
    "### 1. Fill out an order form\n",
    "\n",
    "Get detailed information about the parameters needed to create an order for the chosen data product."
   ]
  },
  {
   "cell_type": "code",
   "execution_count": null,
   "metadata": {
    "ExecuteTime": {
     "end_time": "2025-05-19T13:33:44.327498Z",
     "start_time": "2025-05-19T13:33:44.245190Z"
    }
   },
   "outputs": [],
   "source": [
    "data_product.schema"
   ]
  },
  {
   "cell_type": "markdown",
   "metadata": {},
   "source": [
    "Use the required request body schema format for the chosen data product."
   ]
  },
  {
   "cell_type": "code",
   "execution_count": null,
   "metadata": {
    "ExecuteTime": {
     "end_time": "2025-05-19T13:33:46.136709Z",
     "start_time": "2025-05-19T13:33:44.328328Z"
    }
   },
   "outputs": [],
   "source": [
    "from datetime import date\n",
    "features = geojson.FeatureCollection(features=[geojson.Feature(geometry=geometry)])\n",
    "order_template = up42.BatchOrderTemplate(\n",
    "    data_product_id=data_product.id,\n",
    "    display_name=f\"{data_product.name}-{date.today()}\",\n",
    "    features=features,\n",
    "    params={\n",
    "        \"id\": scene.id\n",
    "    },\n",
    "    tags=[\"sdk\", data_product.name]\n",
    ")"
   ]
  },
  {
   "cell_type": "markdown",
   "metadata": {},
   "source": [
    "### 2. Get a cost estimate\n",
    "\n",
    "Get a cost estimate before placing the order."
   ]
  },
  {
   "cell_type": "code",
   "execution_count": null,
   "metadata": {
    "ExecuteTime": {
     "end_time": "2025-05-19T13:33:46.159009Z",
     "start_time": "2025-05-19T13:33:46.139982Z"
    }
   },
   "outputs": [],
   "source": [
    "order_template.estimate"
   ]
  },
  {
   "cell_type": "markdown",
   "metadata": {},
   "source": [
    "The response returns the overall credit amount that will be deducted from your credit balance if you decide to proceed with the ordering."
   ]
  },
  {
   "cell_type": "markdown",
   "metadata": {},
   "source": [
    "### 3. Create an order\n",
    "\n",
    "Create an order with the requested parameters.\n",
    "\n",
    "Credits will be deducted upon successful completion of the created catalog order. The transaction can't be reversed."
   ]
  },
  {
   "cell_type": "code",
   "execution_count": null,
   "metadata": {
    "ExecuteTime": {
     "end_time": "2025-05-19T13:34:02.515906Z",
     "start_time": "2025-05-19T13:33:46.161314Z"
    }
   },
   "outputs": [],
   "source": [
    "order_references = order_template.place()\n",
    "order = order_references[0].order\n",
    "order"
   ]
  },
  {
   "cell_type": "markdown",
   "metadata": {},
   "source": [
    "## Step 5. Monitor orders\n",
    "\n",
    "Check the [status](https://docs.up42.com/developers/api-catalog#order-statuses) of your order. To learn about the timeframe of catalog orders, see [Asset delivery time](https://docs.up42.com/data/archive/delivery)."
   ]
  },
  {
   "cell_type": "code",
   "execution_count": null,
   "metadata": {
    "ExecuteTime": {
     "end_time": "2025-05-19T13:34:02.519069Z",
     "start_time": "2025-05-19T13:34:02.516905Z"
    }
   },
   "outputs": [],
   "source": [
    "order.status"
   ]
  },
  {
   "cell_type": "markdown",
   "metadata": {},
   "source": [
    "You can also track the order status until the order is completed."
   ]
  },
  {
   "cell_type": "code",
   "execution_count": null,
   "metadata": {},
   "outputs": [],
   "source": [
    "order.track(report_time=150)"
   ]
  },
  {
   "cell_type": "markdown",
   "metadata": {},
   "source": [
    "## Step 6. Download assets\n",
    "\n",
    "The following statuses mean you can download assets from storage:\n",
    "- `BEING_FULFILLED`: Some order assets might have been delivered.\n",
    "- `FULFILLED`: All order assets have been delivered."
   ]
  }
 ],
 "metadata": {
  "colab": {
   "provenance": []
  },
  "kernelspec": {
   "display_name": "Python 3",
   "language": "python",
   "name": "python3"
  },
  "language_info": {
   "codemirror_mode": {
    "name": "ipython",
    "version": 3
   },
   "file_extension": ".py",
   "mimetype": "text/x-python",
   "name": "python",
   "nbconvert_exporter": "python",
   "pygments_lexer": "ipython3",
   "version": "3.11.3"
  },
  "orig_nbformat": 4
 },
 "nbformat": 4,
 "nbformat_minor": 0
}
