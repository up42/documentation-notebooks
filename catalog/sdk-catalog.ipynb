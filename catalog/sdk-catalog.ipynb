{
  "cells": [
    {
      "cell_type": "markdown",
      "metadata": {},
      "source": [
        "# Create a catalog order\n",
        "\n",
        "- <a href=\"#step-1\">Step 1. Set up the notebook</a>\n",
        "- <a href=\"#step-2\">Step 2. Get access</a>\n",
        "- <a href=\"#step-3\">Step 3. Find and preview data</a>\n",
        "- <a href=\"#step-4\">Step 4. Create an order</a>\n",
        "- <a href=\"#step-5\">Step 5. Monitor orders</a>\n",
        "- <a href=\"#step-6\">Step 6. Download assets</a>\n",
        "\n",
        "## <a id=\"step-1\"></a> Step 1. Set up the notebook\n",
        "\n",
        "### 1. Install prerequisites"
      ]
    },
    {
      "cell_type": "code",
      "execution_count": 1,
      "metadata": {},
      "outputs": [
        {
          "name": "stdout",
          "output_type": "stream",
          "text": [
            "\n",
            "\u001b[1m[\u001b[0m\u001b[34;49mnotice\u001b[0m\u001b[1;39;49m]\u001b[0m\u001b[39;49m A new release of pip is available: \u001b[0m\u001b[31;49m23.3.2\u001b[0m\u001b[39;49m -> \u001b[0m\u001b[32;49m24.3.1\u001b[0m\n",
            "\u001b[1m[\u001b[0m\u001b[34;49mnotice\u001b[0m\u001b[1;39;49m]\u001b[0m\u001b[39;49m To update, run: \u001b[0m\u001b[32;49mpython3.11 -m pip install --upgrade pip\u001b[0m\n"
          ]
        }
      ],
      "source": [
        "!pip install up42-py --upgrade -q\n",
        "\n",
        "import up42, rasterio"
      ]
    },
    {
      "cell_type": "markdown",
      "metadata": {},
      "source": [
        "### 2. Authenticate\n",
        "\n",
        "Use your credentials to authenticate."
      ]
    },
    {
      "cell_type": "code",
      "execution_count": 2,
      "metadata": {},
      "outputs": [
        {
          "name": "stderr",
          "output_type": "stream",
          "text": [
            "2024-10-29 12:12:46,267 - Authentication with UP42 successful!\n"
          ]
        }
      ],
      "source": [
        "# Create a configuration file and use the following code for it:\n",
        "# {\n",
        "#   \"username\": \"<your-email-address>\",\n",
        "#   \"password\": \"<your-password>\"\n",
        "# }\n",
        "\n",
        "up42.authenticate(cfg_file=\"/Users/max.mustermann/.up42/credentials.json\")"
      ]
    },
    {
      "cell_type": "markdown",
      "metadata": {},
      "source": [
        "## <a id=\"step-2\"></a> Step 2. Get access\n",
        "\n",
        "### 1. Select a catalog collection\n",
        "\n",
        "Choose a catalog collection and get its `data_product_id` for ordering."
      ]
    },
    {
      "cell_type": "code",
      "execution_count": 3,
      "metadata": {},
      "outputs": [
        {
          "name": "stdout",
          "output_type": "stream",
          "text": [
            "collection name: beijing-3a\n",
            "data product name: beijing-3a-level-2-16bit, id: 667727b5-9382-4ff0-8602-6843121a8cef\n",
            "data product name: beijing-3a-level-1-16bit, id: b67e8924-b2cd-4b47-abc8-598e2b1b8371\n",
            "data product name: beijing-3a-level-2-8bit, id: 8d9a8109-c535-4063-aabe-d5c7307bcccb\n",
            "data product name: beijing-3a-level-1-8bit, id: e080274b-6cfb-4a89-bc12-64fd4895b3c2\n",
            "collection name: beijing-3n\n",
            "data product name: beijing-3n-level-2-16bit, id: fbc0b5f7-1101-4e70-b480-ffdc8d571912\n",
            "data product name: beijing-3n-level-2-8bit, id: 6755edd1-1e5f-42ec-a02b-c4e66635e28d\n",
            "data product name: beijing-3n-level-1-16bit, id: 156361b8-58bf-4d45-91ea-18a705581a71\n",
            "data product name: beijing-3n-level-1-8bit, id: b0e4a80e-6a54-486c-ac0c-44497b602545\n",
            "collection name: blacksky-mono\n",
            "data product name: blacksky-mono, id: 319b55e0-e58f-42ff-9eaa-9767e09e0565\n",
            "collection name: blacksky-stereo\n",
            "data product name: blacksky-stereo, id: e4780d1d-e75e-44a9-ace3-6526f183800a\n",
            "collection name: capella-gec\n",
            "data product name: capella-gec-full-scene, id: 96072809-d820-4cf9-86dd-d3bff3337c35\n",
            "collection name: capella-geo\n",
            "data product name: capella-geo-full-scene, id: d66facaa-533f-49a2-849a-c2910ac9dd31\n",
            "collection name: capella-sicd\n",
            "data product name: capella-sicd-full-scene, id: 8b0aed07-c565-4bf9-b719-401e692de4a6\n",
            "collection name: capella-slc\n",
            "data product name: capella-slc-full-scene, id: 1f2b0d7f-d3e2-4b3d-96b7-e7c184df7952\n",
            "collection name: eros-b\n",
            "data product name: eros-b-level-1a, id: ef81ec95-abcb-4938-a225-31100a1b4d7b\n",
            "data product name: eros-b-level-1b, id: 3677ce65-a937-4be8-a1b2-0ad8bcf43ba3\n",
            "data product name: eros-b-level-0a, id: 489f75d7-b7eb-4896-8269-51c07dd101db\n",
            "collection name: eros-c\n",
            "data product name: eros-c-level-1a, id: e603098c-0721-4aab-8812-5d3d82eb1d28\n",
            "data product name: eros-c-level-0a, id: 7bf7420d-e414-44a0-8cb7-1904c70bd0fa\n",
            "data product name: eros-c-level-1b, id: be1e0f74-4038-4c57-947b-d18a4b835081\n",
            "collection name: eros-c-ms\n",
            "data product name: eros-c-ms-level-0a, id: 67b6bc7c-6b47-4fd6-9058-0c882b417fe8\n",
            "data product name: eros-c-ms-level-1a, id: 10b01b78-d7cc-4c80-8b18-9e40a484b48a\n",
            "data product name: eros-c-ms-level-1b, id: cebc78f6-c9fb-49b6-9866-eeea976c1db4\n",
            "collection name: hexagon-elevation-eu-60cm\n",
            "data product name: hexagon-elevation-eu-60cm, id: 63aeb0c4-1d0c-4aca-813a-c8bec1214b15\n",
            "collection name: hexagon-elevation-na-30cm\n",
            "data product name: hexagon-elevation-na-30cm, id: 21a741c0-c0a9-4ef4-af24-57f2429e2aab\n",
            "collection name: hexagon-elevation-na-60cm\n",
            "data product name: hexagon-elevation-na-60cm, id: 1ff07088-af49-4581-a176-ce042ca94b90\n",
            "collection name: hexagon-eu-30cm\n",
            "data product name: hexagon-eu-30cm, id: 522262d1-5ae5-4da3-8872-181aaafb9820\n",
            "collection name: hexagon-na-15cm\n",
            "data product name: hexagon-na-15cm, id: aba5216d-1876-4170-8ab7-10627bddbc9c\n",
            "collection name: hexagon-na-30cm\n",
            "data product name: hexagon-na-30cm, id: 8acca1de-0ed8-4a8d-987e-e1479cf63140\n",
            "collection name: landsat-8\n",
            "data product name: landsat-8-level-2sp, id: 0d6796c4-9e0b-44e8-bb8f-3d0bc9794382\n",
            "collection name: nextmap10-bundle\n",
            "data product name: nextmap10-bundle, id: 0253307a-0377-4cd4-bd1c-93ec06ba7f4a\n",
            "collection name: nextmap10-dsm\n",
            "data product name: nextmap10-dsm, id: 5a484ba9-b2b9-4385-a066-0f6d28f6ad8f\n",
            "collection name: nextmap10-dtm\n",
            "data product name: nextmap10-dtm, id: 5908c45d-dd41-4fd2-b38f-759f23d25ebf\n",
            "collection name: nextmap6-bundle\n",
            "data product name: nextmap6-bundle, id: ca213436-c8cf-42a9-a4a2-04eb2fa7c9d6\n",
            "collection name: nextmap6-dsm\n",
            "data product name: nextmap6-dsm, id: 93f2014d-b34e-411a-9688-33e084190b68\n",
            "collection name: nextmap6-dtm\n",
            "data product name: nextmap6-dtm, id: 337c01f4-d71a-4f2f-8aee-d21431565893\n",
            "collection name: nextmapone-bundle\n",
            "data product name: nextmapone-bundle, id: 776cadc2-ccb7-4ca4-8077-fc679bf8376a\n",
            "collection name: nextmapone-dsm\n",
            "data product name: nextmapone-dsm, id: 228eb747-2b8b-4f56-8ade-2efd844d3792\n",
            "collection name: nextmapone-dtm\n",
            "data product name: nextmapone-dtm, id: da146ac4-7000-4d59-b488-3633f11b6cb8\n",
            "collection name: phr\n",
            "data product name: phr-pansharpened-reflectance, id: df4ca029-2f6f-432b-98d5-ef2f5d70baee\n",
            "data product name: phr-analytic, id: 4f1b2f62-98df-4c74-81f4-5dce45deee99\n",
            "data product name: phr-display, id: 647780db-5a06-4b61-b525-577a8b68bb54\n",
            "collection name: pneo\n",
            "data product name: pneo-pansharpened-reflectance, id: 29f4ff62-9d05-483f-994b-75142ed202de\n",
            "data product name: pneo-analytic, id: 6f722fb5-0323-4c97-9b1e-22870325b8db\n",
            "data product name: pneo-display, id: 17745de8-6e7d-4751-99cd-3f8e9e9d290e\n",
            "collection name: pneo-hd15\n",
            "data product name: pneo-hd15, id: 66a7e14d-0b62-45e0-a3d7-fb2cfce62cc8\n",
            "collection name: sentinel-2\n",
            "data product name: sentinel-2-level-2a, id: c3de9ed8-f6e5-4bb5-a157-f6430ba756da\n",
            "collection name: skysat\n",
            "data product name: skysat-analytic, id: 605d417f-e401-4c07-9bcf-c1b88231d664\n",
            "data product name: skysat-panchromatic, id: c3d0106c-661e-4322-a0d1-020925e8dff7\n",
            "data product name: skysat-pansharpened, id: 6032bb0e-2cb9-4a01-b45d-831f2d7b8dad\n",
            "collection name: spot\n",
            "data product name: spot-analytic, id: b1f8c48e-d16b-44c4-a1bb-5e8a24892e69\n",
            "data product name: spot-display, id: acc3f9a4-b622-49c1-b1e1-c762aa3e7e13\n",
            "data product name: spot-pansharpened-reflectance, id: d0198da7-4a47-4746-8d16-0297a5d0d847\n",
            "collection name: triplesat\n",
            "data product name: triplesat-level-1-8bit, id: 4d7ffbc9-8d94-4f53-9b8b-397af955f595\n",
            "data product name: triplesat-level-1-16bit, id: be013962-3247-443d-bf6a-fcc3ecc207c5\n",
            "data product name: triplesat-level-2-16-bit, id: 37c26f4d-f6a9-47c9-ae4d-a095569ab8bc\n",
            "data product name: triplesat-level-2-8-bit, id: 2398d8f5-5f7f-4596-884d-345c0b07af14\n",
            "collection name: vexcel-aerial-oblique-discrete-cardinal\n",
            "data product name: vexcel-aerial-oblique-discrete-cardinal, id: 016760e4-dc39-4f87-a50d-587b7dd98de8\n",
            "collection name: vexcel-aerial-oblique-discrete-nadir\n",
            "data product name: vexcel-aerial-oblique-discrete-nadir, id: 80d672e7-4e10-47c2-804a-78dc98d42c13\n",
            "collection name: vexcel-aerial-oblique-mosaic\n",
            "data product name: vexcel-aerial-oblique-mosaic, id: 8a47e234-0f80-4fda-894d-677a9a0692f5\n",
            "collection name: vexcel-aerial-ortho\n",
            "data product name: vexcel-aerial-ortho, id: 679b682a-04cc-49ae-bb06-564ca4feddbd\n",
            "collection name: vexcel-aerial-trueortho\n",
            "data product name: vexcel-aerial-trueortho, id: bdf6705e-f330-4885-8748-c254ac03e610\n",
            "collection name: vexcel-ca-6cm-dsm\n",
            "data product name: vexcel-ca-6cm-dsm, id: 65343013-520b-4eaa-b3b6-10e4f10bb183\n",
            "collection name: vexcel-ca-6cm-oblique\n",
            "data product name: vexcel-ca-6cm-oblique, id: 761ca320-3a7f-48e4-bc00-c7434de37c9d\n",
            "collection name: vexcel-ca-6cm-trueortho\n",
            "data product name: vexcel-ca-6cm-trueortho, id: 926f3eec-1109-4f10-ad7d-7494c502a1b0\n",
            "collection name: vexcel-eeu-6cm-dsm\n",
            "data product name: vexcel-eeu-6cm-dsm, id: 3b689eac-e1ce-43f7-976a-e6a52622e59a\n",
            "collection name: vexcel-eeu-6cm-oblique\n",
            "data product name: vexcel-eeu-6cm-oblique, id: 817cea8b-3976-46d2-9d39-3cbfdc03ef78\n",
            "collection name: vexcel-eeu-6cm-trueortho\n",
            "data product name: vexcel-eeu-6cm-trueortho, id: 1165af80-48be-41e2-8d07-51a4c2368de4\n",
            "collection name: vexcel-elevate-dsm-15cm\n",
            "data product name: vexcel-elevate-dsm-15cm, id: 4fa865bc-f78e-47df-aad7-ed730a9f470e\n",
            "collection name: vexcel-elevate-dsm-6cm\n",
            "data product name: vexcel-elevate-dsm-6cm, id: de84dac9-4e3e-45de-a7e9-4186091d6905\n",
            "collection name: vexcel-elevate-dtm-15cm\n",
            "data product name: vexcel-elevate-dtm-15cm, id: d28f2b14-b8c2-4b3c-b184-11334933eeb2\n",
            "collection name: vexcel-jp-6cm-dsm\n",
            "data product name: vexcel-jp-6cm-dsm, id: 1a9dfdbc-11f0-4976-9f97-4909077b5bfb\n",
            "collection name: vexcel-jp-6cm-oblique\n",
            "data product name: vexcel-jp-6cm-oblique, id: 43eae9f0-468b-40f3-a230-de9bb5b94126\n",
            "collection name: vexcel-jp-6cm-trueortho\n",
            "data product name: vexcel-jp-6cm-trueortho, id: dd9d7608-d55c-407b-a1c8-d6616e498c92\n",
            "collection name: vexcel-oc-6cm-dsm\n",
            "data product name: vexcel-oc-6cm-dsm, id: 6fd668e2-b1fd-401d-ae8b-441e17a6626f\n",
            "collection name: vexcel-oc-6cm-oblique\n",
            "data product name: vexcel-oc-6cm-oblique, id: ba6b72b8-42ac-4b93-8728-c3cf645e4315\n",
            "collection name: vexcel-oc-6cm-trueortho\n",
            "data product name: vexcel-oc-6cm-trueortho, id: 5dc14658-f7da-4bf5-b26e-3b1f71fc255b\n",
            "collection name: vexcel-us-15cm-dsm\n",
            "data product name: vexcel-us-15cm-dsm, id: 46350af0-2312-4031-ad4c-46d282b4fb83\n",
            "collection name: vexcel-us-15cm-dtm\n",
            "data product name: vexcel-us-15cm-dtm, id: a0c15d8e-46b7-4dfb-b260-07a3cd996ae7\n",
            "collection name: vexcel-us-15cm-ortho\n",
            "data product name: vexcel-us-15cm-ortho, id: 3b893e12-da85-4ec8-ade9-e078d156959b\n",
            "collection name: vexcel-us-6cm-dsm\n",
            "data product name: vexcel-us-6cm-dsm, id: c26bb85a-20af-4ab0-bd72-5e258d614d49\n",
            "collection name: vexcel-us-6cm-oblique\n",
            "data product name: vexcel-us-6cm-oblique, id: 7f4fda74-8cef-4175-9cb7-194897a9d20d\n",
            "collection name: vexcel-us-6cm-trueortho\n",
            "data product name: vexcel-us-6cm-trueortho, id: cfd25a56-0bac-4307-ac68-5a0fa474f068\n",
            "collection name: vexcel-weu-15cm-dsm\n",
            "data product name: vexcel-weu-15cm-dsm, id: 44c8d90b-eb0a-4eb6-b5e1-6e44be516a4d\n",
            "collection name: vexcel-weu-15cm-dtm\n",
            "data product name: vexcel-weu-15cm-dtm, id: d60ad61b-45d7-458e-b355-a02bc44baf82\n",
            "collection name: vexcel-weu-15cm-ortho\n",
            "data product name: vexcel-weu-15cm-ortho, id: b2042f77-0db2-4efb-9daf-f5bca174902c\n",
            "collection name: vexcel-weu-6cm-dsm\n",
            "data product name: vexcel-weu-6cm-dsm, id: cb9dd909-18df-4351-ade0-7555fa6e76de\n",
            "collection name: vexcel-weu-6cm-oblique\n",
            "data product name: vexcel-weu-6cm-oblique, id: b5038b0a-9716-4862-a352-6c8bb43707b0\n",
            "collection name: vexcel-weu-6cm-trueortho\n",
            "data product name: vexcel-weu-6cm-trueortho, id: 104ec6c4-5f5f-4e77-83ac-ae87525bbade\n",
            "collection name: worlddem-neo\n",
            "data product name: worlddem-neo-dsm, id: ec016f4c-332c-4190-b18b-13fb12519c40\n"
          ]
        }
      ],
      "source": [
        "glossary = up42.glossary.ProductGlossary\n",
        "catalog_type = up42.glossary.CollectionType.ARCHIVE\n",
        "sort_by = up42.glossary.CollectionSorting.name\n",
        "data_collections = glossary.get_collections(collection_type=catalog_type, sort_by=sort_by)\n",
        "for collection in data_collections:\n",
        "    print(f\"collection name: {collection.name}\")\n",
        "    data_products = collection.data_products\n",
        "    for data_product in data_products:\n",
        "        print (f\"data product name: {data_product.name}, id: {data_product.id}\")"
      ]
    },
    {
      "cell_type": "markdown",
      "metadata": {},
      "source": [
        "Choose a data product and copy its ID."
      ]
    },
    {
      "cell_type": "code",
      "execution_count": 4,
      "metadata": {},
      "outputs": [],
      "source": [
        "# The following value is the product id for Pléiades catalog — Analytic:\n",
        "data_product_id = \"4f1b2f62-98df-4c74-81f4-5dce45deee99\""
      ]
    },
    {
      "cell_type": "markdown",
      "metadata": {},
      "source": [
        "### 2. Request access\n",
        "\n",
        "If you want to order the chosen collection for the first time, you need to [request access to it](https://docs.up42.com/getting-started/restrictions#request-access).\n",
        "\n",
        "An email from the Customer Success team usually takes up to 3 days. You can review your access request status on the [Access requests](https://console.up42.com/settings/access) page."
      ]
    },
    {
      "cell_type": "markdown",
      "metadata": {},
      "source": [
        "### 3. Accept the EULA\n",
        "\n",
        "If you want to order the chosen collection for the first time, you need to accept its [end-user license agreement (EULA)](https://docs.up42.com/getting-started/account/eulas)."
      ]
    },
    {
      "cell_type": "markdown",
      "metadata": {},
      "source": [
        "## <a id=\"step-3\"></a> Step 3. Find and preview data\n",
        "\n",
        "### 1. Search the catalog\n",
        "\n",
        "Specify search parameters to find a full scene that fits your requirements."
      ]
    },
    {
      "cell_type": "code",
      "execution_count": 5,
      "metadata": {},
      "outputs": [
        {
          "name": "stderr",
          "output_type": "stream",
          "text": [
            "2024-10-29 12:13:28,057 - Searching catalog with search_parameters: {'datetime': '2022-06-01T00:00:00Z/2022-12-31T23:59:59Z', 'intersects': {'type': 'Polygon', 'coordinates': (((13.375966, 52.515068), (13.375966, 52.516639), (13.378314, 52.516639), (13.378314, 52.515068), (13.375966, 52.515068)),)}, 'collections': ['phr'], 'query': {'cloudCoverage': {'lte': 20}}}\n",
            "2024-10-29 12:13:29,483 - 5 results returned.\n"
          ]
        }
      ],
      "source": [
        "catalog = up42.initialize_catalog()\n",
        "\n",
        "geometry = {\n",
        "    \"type\": \"Polygon\",\n",
        "    \"coordinates\": (\n",
        "        (\n",
        "            (13.375966, 52.515068), # Bottom-left corner\n",
        "            (13.375966, 52.516639), # Bottom-right corner\n",
        "            (13.378314, 52.516639), # Top-right corner\n",
        "            (13.378314, 52.515068), # Top-left corner\n",
        "            (13.375966, 52.515068), # Bottom-left corner\n",
        "        ),\n",
        "    ),\n",
        "}\n",
        "\n",
        "search_parameters = catalog.construct_search_parameters(\n",
        "    collections=[\"phr\"],\n",
        "    geometry=geometry,\n",
        "    start_date=\"2022-06-01\",\n",
        "    end_date=\"2022-12-31\",\n",
        "    max_cloudcover=20,\n",
        ")\n",
        "\n",
        "search_results_df = catalog.search(search_parameters)"
      ]
    },
    {
      "cell_type": "markdown",
      "metadata": {},
      "source": [
        "Output a dataframe with full scenes that match the specified parameters."
      ]
    },
    {
      "cell_type": "code",
      "execution_count": 6,
      "metadata": {},
      "outputs": [
        {
          "data": {
            "text/html": [
              "<div>\n",
              "<style scoped>\n",
              "    .dataframe tbody tr th:only-of-type {\n",
              "        vertical-align: middle;\n",
              "    }\n",
              "\n",
              "    .dataframe tbody tr th {\n",
              "        vertical-align: top;\n",
              "    }\n",
              "\n",
              "    .dataframe thead th {\n",
              "        text-align: right;\n",
              "    }\n",
              "</style>\n",
              "<table border=\"1\" class=\"dataframe\">\n",
              "  <thead>\n",
              "    <tr style=\"text-align: right;\">\n",
              "      <th></th>\n",
              "      <th>geometry</th>\n",
              "      <th>id</th>\n",
              "      <th>constellation</th>\n",
              "      <th>collection</th>\n",
              "      <th>providerName</th>\n",
              "      <th>up42:usageType</th>\n",
              "      <th>providerProperties</th>\n",
              "      <th>sceneId</th>\n",
              "      <th>producer</th>\n",
              "      <th>acquisitionDate</th>\n",
              "      <th>datetime</th>\n",
              "      <th>start_datetime</th>\n",
              "      <th>end_datetime</th>\n",
              "      <th>cloudCoverage</th>\n",
              "      <th>resolution</th>\n",
              "      <th>deliveryTime</th>\n",
              "    </tr>\n",
              "  </thead>\n",
              "  <tbody>\n",
              "    <tr>\n",
              "      <th>0</th>\n",
              "      <td>POLYGON ((13.34029 52.63653, 13.34078 52.45392...</td>\n",
              "      <td>a4c9e729-1b62-43be-82e4-4e02c31963dd</td>\n",
              "      <td>phr</td>\n",
              "      <td>phr</td>\n",
              "      <td>oneatlas</td>\n",
              "      <td>[DATA]</td>\n",
              "      <td>{'commercialReference': 'SO22061241', 'qualifi...</td>\n",
              "      <td>a4c9e729-1b62-43be-82e4-4e02c31963dd</td>\n",
              "      <td>airbus</td>\n",
              "      <td>2022-10-26T10:23:47Z</td>\n",
              "      <td>2022-10-26T10:23:47Z</td>\n",
              "      <td>None</td>\n",
              "      <td>None</td>\n",
              "      <td>5.29</td>\n",
              "      <td>0.5</td>\n",
              "      <td>MINUTES</td>\n",
              "    </tr>\n",
              "    <tr>\n",
              "      <th>1</th>\n",
              "      <td>POLYGON ((13.40102 52.79894, 13.08635 52.79691...</td>\n",
              "      <td>f23aed1a-f330-4e62-a1b1-7690b5f35907</td>\n",
              "      <td>phr</td>\n",
              "      <td>phr</td>\n",
              "      <td>oneatlas</td>\n",
              "      <td>[DATA]</td>\n",
              "      <td>{'commercialReference': 'SO22061241', 'qualifi...</td>\n",
              "      <td>f23aed1a-f330-4e62-a1b1-7690b5f35907</td>\n",
              "      <td>airbus</td>\n",
              "      <td>2022-10-26T10:23:35Z</td>\n",
              "      <td>2022-10-26T10:23:35Z</td>\n",
              "      <td>None</td>\n",
              "      <td>None</td>\n",
              "      <td>5.41</td>\n",
              "      <td>0.5</td>\n",
              "      <td>MINUTES</td>\n",
              "    </tr>\n",
              "    <tr>\n",
              "      <th>2</th>\n",
              "      <td>POLYGON ((13.09345 52.79554, 13.09538 52.29309...</td>\n",
              "      <td>390d52f2-0d4b-48bd-8454-19a9b6ce219b</td>\n",
              "      <td>phr</td>\n",
              "      <td>phr</td>\n",
              "      <td>oneatlas</td>\n",
              "      <td>[DATA]</td>\n",
              "      <td>{'commercialReference': 'SO22060316', 'qualifi...</td>\n",
              "      <td>390d52f2-0d4b-48bd-8454-19a9b6ce219b</td>\n",
              "      <td>airbus</td>\n",
              "      <td>2022-10-20T10:20:09Z</td>\n",
              "      <td>2022-10-20T10:20:09Z</td>\n",
              "      <td>None</td>\n",
              "      <td>None</td>\n",
              "      <td>18.11</td>\n",
              "      <td>0.5</td>\n",
              "      <td>MINUTES</td>\n",
              "    </tr>\n",
              "    <tr>\n",
              "      <th>3</th>\n",
              "      <td>POLYGON ((13.09345 52.79554, 13.09538 52.29309...</td>\n",
              "      <td>aa1b5abf-8864-4092-9b65-35f8d0d413bb</td>\n",
              "      <td>phr</td>\n",
              "      <td>phr</td>\n",
              "      <td>oneatlas</td>\n",
              "      <td>[DATA]</td>\n",
              "      <td>{'commercialReference': 'SO22060316', 'qualifi...</td>\n",
              "      <td>aa1b5abf-8864-4092-9b65-35f8d0d413bb</td>\n",
              "      <td>airbus</td>\n",
              "      <td>2022-10-20T10:20:09Z</td>\n",
              "      <td>2022-10-20T10:20:09Z</td>\n",
              "      <td>None</td>\n",
              "      <td>None</td>\n",
              "      <td>18.11</td>\n",
              "      <td>0.5</td>\n",
              "      <td>MINUTES</td>\n",
              "    </tr>\n",
              "    <tr>\n",
              "      <th>4</th>\n",
              "      <td>POLYGON ((13.64387 52.63637, 13.51850 52.63636...</td>\n",
              "      <td>6f15e47c-2ec8-431c-bbb6-3748e5f1be0b</td>\n",
              "      <td>phr</td>\n",
              "      <td>phr</td>\n",
              "      <td>oneatlas</td>\n",
              "      <td>[DATA]</td>\n",
              "      <td>{'qualified': False, 'acquisitionStation': 'FR...</td>\n",
              "      <td>6f15e47c-2ec8-431c-bbb6-3748e5f1be0b</td>\n",
              "      <td>airbus</td>\n",
              "      <td>2022-10-20T10:19:54Z</td>\n",
              "      <td>2022-10-20T10:19:54Z</td>\n",
              "      <td>None</td>\n",
              "      <td>None</td>\n",
              "      <td>9.10</td>\n",
              "      <td>0.5</td>\n",
              "      <td>DAYS</td>\n",
              "    </tr>\n",
              "  </tbody>\n",
              "</table>\n",
              "</div>"
            ],
            "text/plain": [
              "                                            geometry  \\\n",
              "0  POLYGON ((13.34029 52.63653, 13.34078 52.45392...   \n",
              "1  POLYGON ((13.40102 52.79894, 13.08635 52.79691...   \n",
              "2  POLYGON ((13.09345 52.79554, 13.09538 52.29309...   \n",
              "3  POLYGON ((13.09345 52.79554, 13.09538 52.29309...   \n",
              "4  POLYGON ((13.64387 52.63637, 13.51850 52.63636...   \n",
              "\n",
              "                                     id constellation collection providerName  \\\n",
              "0  a4c9e729-1b62-43be-82e4-4e02c31963dd           phr        phr     oneatlas   \n",
              "1  f23aed1a-f330-4e62-a1b1-7690b5f35907           phr        phr     oneatlas   \n",
              "2  390d52f2-0d4b-48bd-8454-19a9b6ce219b           phr        phr     oneatlas   \n",
              "3  aa1b5abf-8864-4092-9b65-35f8d0d413bb           phr        phr     oneatlas   \n",
              "4  6f15e47c-2ec8-431c-bbb6-3748e5f1be0b           phr        phr     oneatlas   \n",
              "\n",
              "  up42:usageType                                 providerProperties  \\\n",
              "0         [DATA]  {'commercialReference': 'SO22061241', 'qualifi...   \n",
              "1         [DATA]  {'commercialReference': 'SO22061241', 'qualifi...   \n",
              "2         [DATA]  {'commercialReference': 'SO22060316', 'qualifi...   \n",
              "3         [DATA]  {'commercialReference': 'SO22060316', 'qualifi...   \n",
              "4         [DATA]  {'qualified': False, 'acquisitionStation': 'FR...   \n",
              "\n",
              "                                sceneId producer       acquisitionDate  \\\n",
              "0  a4c9e729-1b62-43be-82e4-4e02c31963dd   airbus  2022-10-26T10:23:47Z   \n",
              "1  f23aed1a-f330-4e62-a1b1-7690b5f35907   airbus  2022-10-26T10:23:35Z   \n",
              "2  390d52f2-0d4b-48bd-8454-19a9b6ce219b   airbus  2022-10-20T10:20:09Z   \n",
              "3  aa1b5abf-8864-4092-9b65-35f8d0d413bb   airbus  2022-10-20T10:20:09Z   \n",
              "4  6f15e47c-2ec8-431c-bbb6-3748e5f1be0b   airbus  2022-10-20T10:19:54Z   \n",
              "\n",
              "               datetime start_datetime end_datetime  cloudCoverage  \\\n",
              "0  2022-10-26T10:23:47Z           None         None           5.29   \n",
              "1  2022-10-26T10:23:35Z           None         None           5.41   \n",
              "2  2022-10-20T10:20:09Z           None         None          18.11   \n",
              "3  2022-10-20T10:20:09Z           None         None          18.11   \n",
              "4  2022-10-20T10:19:54Z           None         None           9.10   \n",
              "\n",
              "   resolution deliveryTime  \n",
              "0         0.5      MINUTES  \n",
              "1         0.5      MINUTES  \n",
              "2         0.5      MINUTES  \n",
              "3         0.5      MINUTES  \n",
              "4         0.5         DAYS  "
            ]
          },
          "execution_count": 6,
          "metadata": {},
          "output_type": "execute_result"
        }
      ],
      "source": [
        "search_results_df\n",
        "# catalog.search(as_dataframe=False) # Uncomment to output JSON instead"
      ]
    },
    {
      "cell_type": "markdown",
      "metadata": {},
      "source": [
        "### 2. Preview data\n",
        "\n",
        "Some data hosts provide free, low-resolution quicklooks that you can preview before creating an order. Note that some quicklooks may not fully match the scene they represent."
      ]
    },
    {
      "cell_type": "code",
      "execution_count": 7,
      "metadata": {},
      "outputs": [
        {
          "name": "stderr",
          "output_type": "stream",
          "text": [
            "2024-10-29 12:13:42,397 - Downloading quicklooks from provider oneatlas.\n",
            "2024-10-29 12:13:42,398 - Download directory: quicklooks\n",
            "100%|██████████| 1/1 [00:02<00:00,  2.73s/it]\n",
            "/opt/homebrew/lib/python3.11/site-packages/rasterio/__init__.py:304: NotGeoreferencedWarning: Dataset has no geotransform, gcps, or rpcs. The identity matrix will be returned.\n",
            "  dataset = DatasetReader(path, driver=driver, sharing=sharing, **kwargs)\n"
          ]
        }
      ],
      "source": [
        "# Download quicklooks\n",
        "result = search_results_df.iloc[0]\n",
        "catalog.download_quicklooks(\n",
        "    image_ids=[result.sceneId],\n",
        "    collection=result.constellation,\n",
        "    output_directory=\"./quicklooks/\",\n",
        ")\n",
        "\n",
        "# Define a function to georeference quicklooks\n",
        "def georeference_quicklooks(\n",
        "    src_path: str, dst_path: str, ulx: float, uly: float, lrx: float, lry: float\n",
        "):\n",
        "    with rasterio.open(src_path) as src:\n",
        "        data = src.read()\n",
        "        transform = rasterio.transform.from_bounds(\n",
        "            ulx, lry, lrx, uly, data.shape[2], data.shape[1]\n",
        "        )\n",
        "\n",
        "        with rasterio.open(\n",
        "            dst_path,\n",
        "            \"w\",\n",
        "            driver=src.driver,\n",
        "            height=src.height,\n",
        "            width=src.width,\n",
        "            count=src.count,\n",
        "            dtype=src.dtypes[0],\n",
        "            crs=\"EPSG:4326\",\n",
        "            transform=transform,\n",
        "        ) as dst:\n",
        "            dst.write(data)\n",
        "\n",
        "# Georefence the quicklooks\n",
        "src_path = f\"./quicklooks/quicklook_{result.sceneId}.jpg\"\n",
        "out_path = f\"./quicklooks/georeferenced_quicklook_{result.sceneId}.png\"\n",
        "georeference_quicklooks(\n",
        "    src_path,\n",
        "    out_path,\n",
        "    result.geometry.bounds[0],\n",
        "    result.geometry.bounds[3],\n",
        "    result.geometry.bounds[2],\n",
        "    result.geometry.bounds[1],\n",
        ")"
      ]
    },
    {
      "cell_type": "markdown",
      "metadata": {},
      "source": [
        "Open the `quicklooks` folder. You will find the following files added by the cell above:\n",
        "\n",
        "- An original quicklook\n",
        "- A metadata file needed for georeferencing\n",
        "- A georeferenced quicklook with the `georeferenced` prefix\n",
        "\n",
        "[Visualize](https://docs.up42.com/help/visualize) the georeferenced quicklook in a third-party GIS software."
      ]
    },
    {
      "cell_type": "markdown",
      "metadata": {},
      "source": [
        "## <a id=\"step-4\"></a> Step 4. Create an order\n",
        "\n",
        "### 1. Fill out an order form\n",
        "\n",
        "Get detailed information about the parameters needed to create an order for the chosen data product."
      ]
    },
    {
      "cell_type": "code",
      "execution_count": 8,
      "metadata": {},
      "outputs": [
        {
          "data": {
            "text/plain": [
              "{'additionalProperties': False,\n",
              " 'properties': {'id': {'title': 'Id', 'type': 'string'},\n",
              "  'aoi': {'$ref': '#/definitions/Polygon'}},\n",
              " 'required': ['id', 'aoi'],\n",
              " 'title': 'ParamsWithAOI',\n",
              " 'type': 'object',\n",
              " '$schema': 'https://json-schema.org/draft-07/schema',\n",
              " 'definitions': {'Polygon': {'description': 'Polygon Model.',\n",
              "   'properties': {'type': {'const': 'Polygon',\n",
              "     'default': 'Polygon',\n",
              "     'enum': ['Polygon'],\n",
              "     'title': 'Type',\n",
              "     'type': 'string'},\n",
              "    'coordinates': {'items': {'items': {'items': {'type': 'number'},\n",
              "       'maxItems': 2,\n",
              "       'minItems': 2,\n",
              "       'type': 'array'},\n",
              "      'minItems': 4,\n",
              "      'type': 'array'},\n",
              "     'type': 'array'}},\n",
              "   'required': ['coordinates'],\n",
              "   'title': 'Polygon',\n",
              "   'type': 'object'}}}"
            ]
          },
          "execution_count": 8,
          "metadata": {},
          "output_type": "execute_result"
        }
      ],
      "source": [
        "catalog = up42.initialize_catalog()\n",
        "catalog.get_data_product_schema(data_product_id)"
      ]
    },
    {
      "cell_type": "markdown",
      "metadata": {},
      "source": [
        "Use the required request body schema format for the chosen data product."
      ]
    },
    {
      "cell_type": "code",
      "execution_count": 9,
      "metadata": {},
      "outputs": [],
      "source": [
        "# geometry = up42.read_vector_file(\"data/aoi_washington.geojson\")\n",
        "# geometry = up42.get_example_aoi()\n",
        "\n",
        "geometry = {\n",
        "    \"type\": \"Polygon\",\n",
        "    \"coordinates\": (\n",
        "        (\n",
        "            (13.375966, 52.515068), # Bottom-left corner\n",
        "            (13.375966, 52.516639), # Bottom-right corner\n",
        "            (13.378314, 52.516639), # Top-right corner\n",
        "            (13.378314, 52.515068), # Top-left corner\n",
        "            (13.375966, 52.515068), # Bottom-left corner\n",
        "        ),\n",
        "    ),\n",
        "}\n",
        "\n",
        "order_parameters = catalog.construct_order_parameters(\n",
        "    data_product_id=data_product_id,\n",
        "    image_id=search_results_df.iloc[0][\"id\"], # Note that the count starts from 0\n",
        "    aoi=geometry,\n",
        ")"
      ]
    },
    {
      "cell_type": "markdown",
      "metadata": {},
      "source": [
        "Check the parameters by printing them."
      ]
    },
    {
      "cell_type": "code",
      "execution_count": 10,
      "metadata": {},
      "outputs": [
        {
          "data": {
            "text/plain": [
              "{'dataProduct': '4f1b2f62-98df-4c74-81f4-5dce45deee99',\n",
              " 'params': {'id': 'a4c9e729-1b62-43be-82e4-4e02c31963dd',\n",
              "  'aoi': {'type': 'Polygon',\n",
              "   'coordinates': (((13.375966, 52.515068),\n",
              "     (13.375966, 52.516639),\n",
              "     (13.378314, 52.516639),\n",
              "     (13.378314, 52.515068),\n",
              "     (13.375966, 52.515068)),)}}}"
            ]
          },
          "execution_count": 10,
          "metadata": {},
          "output_type": "execute_result"
        }
      ],
      "source": [
        "order_parameters"
      ]
    },
    {
      "cell_type": "markdown",
      "metadata": {},
      "source": [
        "### 2. Get a cost estimate\n",
        "\n",
        "Get a cost estimation before creating an order."
      ]
    },
    {
      "cell_type": "code",
      "execution_count": 11,
      "metadata": {},
      "outputs": [
        {
          "name": "stderr",
          "output_type": "stream",
          "text": [
            "2024-04-08 15:39:06,345 - Order is estimated to cost 150 UP42 credits (order_parameters: {'dataProduct': '4f1b2f62-98df-4c74-81f4-5dce45deee99', 'params': {'id': 'a4c9e729-1b62-43be-82e4-4e02c31963dd', 'aoi': {'type': 'Polygon', 'coordinates': (((13.375777664180191, 52.51799543512652), (13.375777664180191, 52.514561554285706), (13.381566455794598, 52.514561554285706), (13.381566455794598, 52.51799543512652), (13.375777664180191, 52.51799543512652)),)}}})\n"
          ]
        },
        {
          "data": {
            "text/plain": [
              "150"
            ]
          },
          "execution_count": 11,
          "metadata": {},
          "output_type": "execute_result"
        }
      ],
      "source": [
        "catalog.estimate_order(order_parameters)"
      ]
    },
    {
      "cell_type": "markdown",
      "metadata": {},
      "source": [
        "The response returns the overall credit amount that will be deducted from your credit balance if you decide to proceed with the ordering."
      ]
    },
    {
      "cell_type": "markdown",
      "metadata": {},
      "source": [
        "### 3. Create an order\n",
        "\n",
        "Create an order with the requested parameters.\n",
        "\n",
        "Credits will be deducted upon successful completion of the created catalog order. The transaction can't be reversed."
      ]
    },
    {
      "cell_type": "code",
      "execution_count": 12,
      "metadata": {},
      "outputs": [
        {
          "name": "stderr",
          "output_type": "stream",
          "text": [
            "2024-04-08 15:39:13,206 - Order is PLACED\n",
            "2024-04-08 15:39:13,207 - Order 34bc3737-71e4-46d0-88d5-92a9d82aab0a is now PLACED.\n"
          ]
        },
        {
          "data": {
            "text/plain": [
              "Order(order_id: 34bc3737-71e4-46d0-88d5-92a9d82aab0a, assets: [], dataProvider: None, status: PLACED, createdAt: 2024-04-08T13:39:10.434953Z, updatedAt: 2024-04-08T13:39:12.785075Z)"
            ]
          },
          "execution_count": 12,
          "metadata": {},
          "output_type": "execute_result"
        }
      ],
      "source": [
        "order = catalog.place_order(order_parameters)\n",
        "order"
      ]
    },
    {
      "cell_type": "markdown",
      "metadata": {},
      "source": [
        "## <a id=\"step-5\"></a> Step 5. Monitor orders\n",
        "\n",
        "Check the [status](https://docs.up42.com/developers/api-catalog#order-statuses) of your order. To learn about the timeframe of catalog orders, see [Asset delivery time](https://docs.up42.com/data/archive/delivery)."
      ]
    },
    {
      "cell_type": "code",
      "execution_count": 13,
      "metadata": {},
      "outputs": [
        {
          "name": "stderr",
          "output_type": "stream",
          "text": [
            "2024-04-08 15:39:16,922 - Order is PLACED\n"
          ]
        },
        {
          "data": {
            "text/plain": [
              "'PLACED'"
            ]
          },
          "execution_count": 13,
          "metadata": {},
          "output_type": "execute_result"
        }
      ],
      "source": [
        "order.status"
      ]
    },
    {
      "cell_type": "markdown",
      "metadata": {},
      "source": [
        "You can also track the order status until the order is completed."
      ]
    },
    {
      "cell_type": "code",
      "execution_count": 14,
      "metadata": {},
      "outputs": [
        {
          "name": "stderr",
          "output_type": "stream",
          "text": [
            "2024-04-08 15:39:19,209 - Tracking order status, reporting every 120 seconds...\n",
            "2024-04-08 15:39:19,314 - Order is PLACED\n",
            "2024-04-08 15:39:19,431 - Order is PLACED\n"
          ]
        }
      ],
      "source": [
        "order.track_status()"
      ]
    },
    {
      "cell_type": "markdown",
      "metadata": {},
      "source": [
        "## <a id=\"step-6\"></a> Step 6. Download assets\n",
        "\n",
        "The following statuses mean you can download assets from storage:\n",
        "- `BEING_FULFILLED`: Some order assets might have been delivered. [Download](https://github.com/up42/documentation-notebooks/blob/main/storage/sdk-storage-assets.ipynb) these assets using the `Storage` class.\n",
        "- `FULFILLED`: All order assets have been delivered. [Download](https://github.com/up42/documentation-notebooks/blob/main/storage/sdk-order-assets.ipynb) these assets using the `Order` class."
      ]
    }
  ],
  "metadata": {
    "colab": {
      "provenance": []
    },
    "kernelspec": {
      "display_name": "Python 3",
      "name": "python3"
    },
    "language_info": {
      "codemirror_mode": {
        "name": "ipython",
        "version": 3
      },
      "file_extension": ".py",
      "mimetype": "text/x-python",
      "name": "python",
      "nbconvert_exporter": "python",
      "pygments_lexer": "ipython3",
      "version": "3.11.3"
    },
    "orig_nbformat": 4
  },
  "nbformat": 4,
  "nbformat_minor": 0
}
