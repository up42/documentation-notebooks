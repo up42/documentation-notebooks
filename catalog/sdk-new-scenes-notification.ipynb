{
 "cells": [
  {
   "cell_type": "markdown",
   "metadata": {},
   "source": [
    "# Notify on new imagery in an AOI\n",
    "\n",
    "Automate the process of checking for newly added catalog imagery over a specified AOI by setting up notifications to your email address."
   ]
  },
  {
   "cell_type": "markdown",
   "metadata": {},
   "source": [
    "## Set up the notebook\n",
    "\n",
    "### 1. Install dependencies"
   ]
  },
  {
   "cell_type": "code",
   "execution_count": null,
   "metadata": {},
   "outputs": [],
   "source": [
    "!pip install up42-py --upgrade -q\n",
    "\n",
    "import up42, pathlib, json, time, smtplib\n",
    "import geopandas as gpd\n",
    "from datetime import datetime\n",
    "from email.mime.multipart import MIMEMultipart\n",
    "from email.mime.text import MIMEText\n",
    "from shapely.geometry import mapping\n",
    "from collections import defaultdict"
   ]
  },
  {
   "cell_type": "markdown",
   "metadata": {},
   "source": [
    "### 2. Configure credentials\n",
    "\n",
    "Run the cell below to create a `credentials.json` file in a directory named `.up42` in your home folder."
   ]
  },
  {
   "cell_type": "code",
   "execution_count": null,
   "metadata": {},
   "outputs": [],
   "source": [
    "# Define the credentials file path if it doesn't exist\n",
    "credentials_file_path = pathlib.Path.home().joinpath(\".up42/credentials.json\")\n",
    "credentials_file_path.parent.mkdir(parents=True, exist_ok=True)\n",
    "credentials_file_path.touch(exist_ok=True)\n",
    "\n",
    "# Print the path to the file\n",
    "print(f\"Credentials file is located at: {credentials_file_path}\")"
   ]
  },
  {
   "cell_type": "markdown",
   "metadata": {},
   "source": [
    "### 3. Authenticate"
   ]
  },
  {
   "cell_type": "code",
   "execution_count": null,
   "metadata": {},
   "outputs": [],
   "source": [
    "up42.authenticate(cfg_file=credentials_file_path)"
   ]
  },
  {
   "cell_type": "markdown",
   "metadata": {},
   "source": [
    "### 4. Set up sender credentials\n",
    "\n",
    "The script is configured to use Gmail's SMTP server, so the sending account must be a Gmail account.\n",
    "\n",
    "Run the cell below to create a `google_credentials.json` file in a directory named `.up42` in your home folder. The username in this file will be used to log in to the email server to send the notification. It will act as the \"FROM\" address."
   ]
  },
  {
   "cell_type": "code",
   "execution_count": null,
   "metadata": {},
   "outputs": [],
   "source": [
    "# Define the credentials file path if it doesn't exist\n",
    "google_credentials_file_path = pathlib.Path.home().joinpath(\".up42/google_credentials.json\")\n",
    "google_credentials_file_path.parent.mkdir(parents=True, exist_ok=True)\n",
    "google_credentials_file_path.touch(exist_ok=True)\n",
    "\n",
    "# Print the path to the file\n",
    "print(f\"Credentials file is located at: {google_credentials_file_path}\")\n",
    "\n",
    "GOOGLE_CREDENTIALS_PATH = google_credentials_file_path"
   ]
  },
  {
   "cell_type": "markdown",
   "metadata": {},
   "source": [
    "1. Click the link above to the created file and paste the following code:\n",
    "    ```json\n",
    "    {\n",
    "        \"username\": \"<your-gmail-address>\",\n",
    "        \"password\": \"<your-password>\"\n",
    "    }\n",
    "    ```\n",
    "2. Save the `google_credentials.json` file."
   ]
  },
  {
   "cell_type": "markdown",
   "metadata": {},
   "source": [
    "### 5. Specify the receiving email address\n",
    "\n",
    "Specify the email address where notifications will be sent."
   ]
  },
  {
   "cell_type": "code",
   "execution_count": null,
   "metadata": {},
   "outputs": [],
   "source": [
    "RECEIVER_EMAIL = \"your-email-address@example.com\""
   ]
  },
  {
   "cell_type": "markdown",
   "metadata": {},
   "source": [
    "## Step 1. Define search parameters"
   ]
  },
  {
   "cell_type": "code",
   "execution_count": null,
   "metadata": {},
   "outputs": [],
   "source": [
    "# List UP42 catalog collections to search from\n",
    "COLLECTIONS_TO_SEARCH = [\n",
    "    \"pneo-hd15\",\n",
    "    \"worldview-legion-hd\",\n",
    "    \"beijing-3a\",\n",
    "]\n",
    "\n",
    "# Specify the maximum cloud cover percentage from 0 to 100\n",
    "MAX_CLOUD_COVER_PERCENTAGE = 30\n",
    "\n",
    "# Specify the start date for the search in YYYY-MM-DD format\n",
    "SEARCH_START_DATE = \"2025-09-18\"\n",
    "\n",
    "# Load the AOI\n",
    "CUSTOMER_AOI_PATH = \"/Users/your-path/Desktop/Example.geojson\"\n",
    "customer_aoi = gpd.read_file(CUSTOMER_AOI_PATH)"
   ]
  },
  {
   "cell_type": "markdown",
   "metadata": {},
   "source": [
    "## Step 2. Run the initial search\n",
    "\n",
    "The first search establishes a baseline of existing imagery. The monitoring loop will compare future search results against this baseline to find new scenes.\n",
    "\n",
    "### 1. Identify the host"
   ]
  },
  {
   "cell_type": "code",
   "execution_count": null,
   "metadata": {},
   "outputs": [],
   "source": [
    "# Get all available archive collections\n",
    "archive_collections = up42.CollectionType.ARCHIVE\n",
    "sort_by_name = up42.CollectionSorting.name\n",
    "data_collections = up42.ProductGlossary.get_collections(\n",
    "    collection_type=archive_collections,\n",
    "    sort_by=sort_by_name\n",
    ")\n",
    "\n",
    "# Create a quick-access map of collection names to their host objects\n",
    "collection_to_host_map = {}\n",
    "for c in data_collections:\n",
    "    try:\n",
    "        host = next(p for p in c.providers if p.is_host)\n",
    "        collection_to_host_map[c.name] = host\n",
    "    except StopIteration:\n",
    "        pass\n",
    "\n",
    "# Store the host object and its collections\n",
    "host_to_collections_map = defaultdict(lambda: {\"host_obj\": None, \"collections\": []})\n",
    "\n",
    "for collection_name in COLLECTIONS_TO_SEARCH:\n",
    "    if collection_name in collection_to_host_map:\n",
    "        host = collection_to_host_map[collection_name]\n",
    "        host_title = host.title # Use the string title as the key\n",
    "\n",
    "        host_to_collections_map[host_title][\"host_obj\"] = host\n",
    "        host_to_collections_map[host_title][\"collections\"].append(collection_name)\n",
    "    else:\n",
    "        print(f\"Warning: Collection '{collection_name}' not found or has no host.\")\n",
    "\n",
    "print(\"Collections grouped by host for searching:\")\n",
    "for host_title, data in host_to_collections_map.items():\n",
    "    print(f\"- Host '{host_title}': {data['collections']}\")"
   ]
  },
  {
   "cell_type": "markdown",
   "metadata": {},
   "source": [
    "### 2. Perform the initial search"
   ]
  },
  {
   "cell_type": "code",
   "execution_count": null,
   "metadata": {},
   "outputs": [],
   "source": [
    "# Get current date\n",
    "today_date = datetime.today().strftime('%Y-%m-%d')\n",
    "aoi_geometry_dict = mapping(customer_aoi.geometry[0])\n",
    "\n",
    "# Perform search\n",
    "all_initial_scenes = []\n",
    "for host_title, data in host_to_collections_map.items():\n",
    "    host = data[\"host_obj\"]\n",
    "    collections_for_host = data[\"collections\"]\n",
    "\n",
    "    print(f\"Searching host '{host.title}' for collections: {collections_for_host}\")\n",
    "    try:\n",
    "        scenes = list(host.search(\n",
    "            collections=collections_for_host,\n",
    "            intersects=aoi_geometry_dict,\n",
    "            start_date=SEARCH_START_DATE,\n",
    "            end_date=today_date,\n",
    "            query={\n",
    "                \"cloudCoverage\": {\"lte\": MAX_CLOUD_COVER_PERCENTAGE}\n",
    "            }\n",
    "        ))\n",
    "        all_initial_scenes.extend(scenes)\n",
    "        print(f\"Found {len(scenes)} scenes.\\n\")\n",
    "    except Exception as e:\n",
    "        print(f\"An error occurred while searching host '{host_title}': {e}\")\n",
    "\n",
    "# Convert combined results to a DataFrame for easier handling\n",
    "previous_search_results_df = gpd.GeoDataFrame(all_initial_scenes)\n",
    "print(f\"Total of {len(previous_search_results_df)} images found in the initial search across all hosts.\")"
   ]
  },
  {
   "cell_type": "markdown",
   "metadata": {},
   "source": [
    "## Step 3. Set up the notification system\n",
    "\n",
    "### 1. Define the email function\n",
    "\n",
    "This function handles the connection to the SMTP server and sends the formatted email. It takes the email credentials, subject, and body as input."
   ]
  },
  {
   "cell_type": "code",
   "execution_count": null,
   "metadata": {},
   "outputs": [],
   "source": [
    "def send_email_notification(google_credentials, subject, body, receiver_email):\n",
    "    # Email configuration\n",
    "    smtp_server = 'smtp.gmail.com'\n",
    "    smtp_port = 587\n",
    "    sender_email = google_credentials['username']\n",
    "    sender_password = google_credentials['password']\n",
    "\n",
    "    # Create the MIMEText object\n",
    "    msg = MIMEMultipart()\n",
    "    msg['From'] = sender_email\n",
    "    msg['To'] = receiver_email\n",
    "    msg['Subject'] = subject\n",
    "    msg.attach(MIMEText(body, 'plain'))\n",
    "\n",
    "    try:\n",
    "        # Connect to the SMTP server and send the email\n",
    "        server = smtplib.SMTP(smtp_server, smtp_port)\n",
    "        server.starttls()\n",
    "        server.login(sender_email, sender_password)\n",
    "        server.send_message(msg)\n",
    "    except Exception as e:\n",
    "        print(f\"Error sending email: {e}\")\n",
    "    finally:\n",
    "        server.quit()"
   ]
  },
  {
   "cell_type": "markdown",
   "metadata": {},
   "source": [
    "### 2. Define the checking function\n",
    "\n",
    "The cell below performs a new search with the same parameters. It then compares the scene IDs from the new search with the IDs from the previous search. If new IDs are found, it calls the `send_email_notification` function for each new image."
   ]
  },
  {
   "cell_type": "code",
   "execution_count": null,
   "metadata": {},
   "outputs": [],
   "source": [
    "def check_for_new_imagery(previous_search_results_df, search_params, google_credentials, receiver_email):\n",
    "    host_map, aoi_dict, start_date, query = search_params\n",
    "    today_date = datetime.today().strftime('%Y-%m-%d')\n",
    "\n",
    "    all_recent_scenes = []\n",
    "    # Loop through each host and search for its collections\n",
    "    for host_title, data in host_map.items():\n",
    "        host = data[\"host_obj\"]\n",
    "        collections = data[\"collections\"]\n",
    "\n",
    "        scenes = list(host.search(\n",
    "            collections=collections,\n",
    "            intersects=aoi_dict,\n",
    "            start_date=start_date,\n",
    "            end_date=today_date,\n",
    "            query=query,\n",
    "        ))\n",
    "        all_recent_scenes.extend(scenes)\n",
    "\n",
    "    most_recent_search_results_df = gpd.GeoDataFrame(all_recent_scenes)\n",
    "\n",
    "    # Compare results and send notifications\n",
    "    if len(most_recent_search_results_df) > len(previous_search_results_df):\n",
    "        initial_search_unique_ids = list(previous_search_results_df['id'])\n",
    "        most_recent_search_unique_ids = list(most_recent_search_results_df['id'])\n",
    "\n",
    "        new_ids = [x for x in most_recent_search_unique_ids if x not in initial_search_unique_ids]\n",
    "\n",
    "        for new_id in new_ids:\n",
    "            now_time = str(datetime.now())\n",
    "            subject = \"New UP42 imagery alert\"\n",
    "            body = f'New catalog image available over your AOI.\\n\\nScene ID: {new_id}\\nTime found: {now_time}'\n",
    "            print(f\"New imagery found: {new_id}. Sending a notification.\")\n",
    "            send_email_notification(google_credentials, subject, body, receiver_email)\n",
    "    else:\n",
    "        now_time = str(datetime.now())\n",
    "        print(f'No new imagery found over AOI at {now_time}')\n",
    "\n",
    "    return most_recent_search_results_df"
   ]
  },
  {
   "cell_type": "markdown",
   "metadata": {},
   "source": [
    "## Step 4. Run the monitoring loop\n",
    "\n",
    "This final cell starts an infinite loop to monitor for new imagery. It will run the `check_for_new_imagery` function, wait for a specified interval, and repeat.\n",
    "\n",
    "To stop the script, interrupt the kernel."
   ]
  },
  {
   "cell_type": "code",
   "execution_count": null,
   "metadata": {},
   "outputs": [],
   "source": [
    "# Load credentials\n",
    "with open(GOOGLE_CREDENTIALS_PATH) as f:\n",
    "    google_credentials = json.load(f)\n",
    "\n",
    "# Convert the AOI geometry to a JSON-serializable dictionary\n",
    "aoi_geometry_dict = mapping(customer_aoi.geometry[0])\n",
    "\n",
    "# Define search parameters tuple for the checking function\n",
    "search_params = (\n",
    "    host_to_collections_map, # Pass the grouped hosts and collections\n",
    "    aoi_geometry_dict,\n",
    "    SEARCH_START_DATE,\n",
    "    {\"cloudCoverage\": {\"lte\": MAX_CLOUD_COVER_PERCENTAGE}}\n",
    ")\n",
    "\n",
    "# Check for new imagery periodically\n",
    "while True:\n",
    "    try:\n",
    "        most_recent_search_results_df = check_for_new_imagery(\n",
    "            previous_search_results_df,\n",
    "            search_params,\n",
    "            google_credentials,\n",
    "            RECEIVER_EMAIL\n",
    "        )\n",
    "        previous_search_results_df = most_recent_search_results_df\n",
    "\n",
    "        # Sleep for 3600 seconds (1 hour)\n",
    "        print(\"Check complete. Waiting for 1 hour before the next check.\")\n",
    "        time.sleep(3600)\n",
    "\n",
    "    except KeyboardInterrupt:\n",
    "        print(\"\\nMonitoring stopped by user.\")\n",
    "        break\n",
    "    except Exception as e:\n",
    "        print(f\"An error occurred: {e}\")\n",
    "        # Add a shorter sleep time on error before retrying\n",
    "        time.sleep(300)"
   ]
  }
 ],
 "metadata": {
  "kernelspec": {
   "display_name": "Python 3",
   "language": "python",
   "name": "python3"
  },
  "language_info": {
   "codemirror_mode": {
    "name": "ipython",
    "version": 3
   },
   "file_extension": ".py",
   "mimetype": "text/x-python",
   "name": "python",
   "nbconvert_exporter": "python",
   "pygments_lexer": "ipython3",
   "version": "3.9.6"
  }
 },
 "nbformat": 4,
 "nbformat_minor": 4
}
