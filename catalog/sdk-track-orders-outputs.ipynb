{
 "cells": [
  {
   "cell_type": "markdown",
   "metadata": {},
   "source": [
    "# Track outputs related to a catalog order\n",
    "\n",
    "Assign a unique identifier to an order to link the specific output back to its original order. You'll be able to do the following:\n",
    "\n",
    "- Track the order's status.\n",
    "- Retrieve the delivered data.\n",
    "- Use the data as input for a processing job.\n",
    "- Find all data related to the processing job (both input and output)."
   ]
  },
  {
   "cell_type": "code",
   "execution_count": null,
   "metadata": {},
   "outputs": [],
   "source": [
    "# Run this cell to set your unique order identifier\n",
    "UNIQUE_IDENTIFIER_NAME = \"Example_Unique_Identifier_123456\""
   ]
  },
  {
   "cell_type": "markdown",
   "metadata": {},
   "source": [
    "## Set up the notebook\n",
    "\n",
    "### 1. Install dependencies"
   ]
  },
  {
   "cell_type": "code",
   "execution_count": null,
   "metadata": {},
   "outputs": [],
   "source": [
    "!pip install up42-py --upgrade -q\n",
    "\n",
    "import up42, pathlib, geojson\n",
    "from up42 import processing_templates\n",
    "from itertools import islice\n",
    "from datetime import datetime"
   ]
  },
  {
   "cell_type": "markdown",
   "metadata": {},
   "source": [
    "### 2. Configure credentials\n",
    "\n",
    "Run the cell below to create a `credentials.json` file in a directory named `.up42` in your home folder."
   ]
  },
  {
   "cell_type": "code",
   "execution_count": null,
   "metadata": {},
   "outputs": [],
   "source": [
    "# Defines the credentials file path if it doesn't exist\n",
    "credentials_file_path = pathlib.Path.home().joinpath(\".up42/credentials.json\")\n",
    "credentials_file_path.parent.mkdir(parents=True, exist_ok=True)\n",
    "credentials_file_path.touch(exist_ok=True)\n",
    "\n",
    "# Prints the path to the file\n",
    "print(f\"Credentials file is located at: {credentials_file_path}\")"
   ]
  },
  {
   "cell_type": "markdown",
   "metadata": {},
   "source": [
    "1. Click the link above to the created file and paste the following code:\n",
    "    ```json\n",
    "    {\n",
    "        \"username\": \"<your-email-address>\",\n",
    "        \"password\": \"<your-password>\"\n",
    "    }\n",
    "\n",
    "1. Retrieve the email address and password used for logging into the console. Use them as values for username and password.\n",
    "1. Save the `credentials.json` file.\n",
    "\n",
    "### 3. Authenticate"
   ]
  },
  {
   "cell_type": "code",
   "execution_count": null,
   "metadata": {},
   "outputs": [],
   "source": [
    "up42.authenticate(cfg_file=credentials_file_path)"
   ]
  },
  {
   "cell_type": "markdown",
   "metadata": {},
   "source": [
    "## Step 1. Find and order catalog data\n",
    "\n",
    "### 1. Define search parameters\n",
    "\n",
    "Define the type of catalog scene you want to search for."
   ]
  },
  {
   "cell_type": "code",
   "execution_count": null,
   "metadata": {},
   "outputs": [],
   "source": [
    "# Select a collection and a data product\n",
    "collection_name = \"sentinel-2\"\n",
    "data_product_name = \"sentinel-2-level-2a\"\n",
    "\n",
    "# Specify the maximum cloud cover percentage from 0 to 100\n",
    "max_cloud_coverage_percentage = 10\n",
    "\n",
    "# Specify start and end dates for the search in the YYYY, M, D format\n",
    "start_date = datetime(2023, 6, 1)\n",
    "end_date = datetime(2024, 12, 31)\n",
    "\n",
    "geometry = {\n",
    "    \"type\": \"Polygon\",\n",
    "    \"coordinates\": [[\n",
    "        [13.369713, 52.452327],\n",
    "        [13.369713, 52.470760],\n",
    "        [13.339159, 52.470760],\n",
    "        [13.339159, 52.452327],\n",
    "        [13.369713, 52.452327]\n",
    "    ]]\n",
    "}"
   ]
  },
  {
   "cell_type": "markdown",
   "metadata": {},
   "source": [
    "### 2. Search for scenes\n",
    "\n",
    "Search for catalog scenes with the defined search parameters."
   ]
  },
  {
   "cell_type": "code",
   "execution_count": null,
   "metadata": {},
   "outputs": [],
   "source": [
    "# Fetch the selected collection and data product\n",
    "collections = up42.ProductGlossary.get_collections()\n",
    "collection = next((c for c in collections if c.name == collection_name), None)\n",
    "data_product = next((p for p in collection.data_products if data_product_name in p.name), None)\n",
    "\n",
    "# Find the host provider\n",
    "host = next((p for p in collection.providers if p.is_host), None)\n",
    "\n",
    "# Search for scenes\n",
    "scenes = list(\n",
    "    host.search(\n",
    "        collections=[collection.name],\n",
    "        intersects=geometry,\n",
    "        start_date=start_date,\n",
    "        end_date=end_date,\n",
    "        query={\"cloudCoverage\": {\"LT\": max_cloud_coverage_percentage}}\n",
    "    )\n",
    ")\n",
    "\n",
    "print(f\"Found {len(scenes)} scenes matching the search criteria.\\n\")\n",
    "\n",
    "for scene in islice(scenes, 0, 5): # Print first 5 results\n",
    "    print(f\"- Scene ID: {scene.id}\")\n",
    "    print(f\"  Geometry: {scene.geometry}\")\n",
    "    print(f\"  Acquisition date and time: {scene.datetime}\")\n",
    "    print(f\"  Cloud coverage: {scene.cloud_coverage}%\")\n",
    "    print(f\"  Resolution: {scene.resolution} m\")\n",
    "    print(f\"  Delivery time: {scene.delivery_time}\\n\")"
   ]
  },
  {
   "cell_type": "markdown",
   "metadata": {},
   "source": [
    "### 3. Select a scene and estimate an order\n",
    "\n",
    "Select a catalog scene to order and estimate its cost."
   ]
  },
  {
   "cell_type": "code",
   "execution_count": null,
   "metadata": {},
   "outputs": [],
   "source": [
    "# Select a scene\n",
    "scene_id = \"S2A_T33UUU_20241024T101201_L2A\"\n",
    "\n",
    "aoi = geojson.FeatureCollection(features=[geojson.Feature(geometry=geometry)])\n",
    "\n",
    "order_template = up42.BatchOrderTemplate(\n",
    "    data_product_id=data_product.id,\n",
    "    display_name=UNIQUE_IDENTIFIER_NAME,\n",
    "    features=aoi,\n",
    "    params={\n",
    "        \"id\": scene_id\n",
    "    }\n",
    ")\n",
    "\n",
    "order_template.estimate"
   ]
  },
  {
   "cell_type": "markdown",
   "metadata": {},
   "source": [
    "### 4. Create and track the order\n",
    "\n",
    "Create an order and periodically check its status."
   ]
  },
  {
   "cell_type": "code",
   "execution_count": null,
   "metadata": {},
   "outputs": [],
   "source": [
    "# Create an order\n",
    "order_references = order_template.place()\n",
    "order = order_references[0].order\n",
    "\n",
    "# Print the order object to display its details\n",
    "print(order)\n",
    "\n",
    "print(f\"\\nOrder successfully created with the name: '{UNIQUE_IDENTIFIER_NAME}'.\")\n",
    "\n",
    "# Check order status and take action\n",
    "if order.status == \"FULFILLED\":\n",
    "    print(f\"Order '{UNIQUE_IDENTIFIER_NAME}' is fulfilled.\")\n",
    "else:\n",
    "    print(f\"Order '{UNIQUE_IDENTIFIER_NAME}' isn't fulfilled yet. Tracking...\")\n",
    "    order.track(report_time=150)"
   ]
  },
  {
   "cell_type": "markdown",
   "metadata": {},
   "source": [
    "### 5. Find the delivered data\n",
    "\n",
    "Once an order is fulfilled, the data is delivered to your UP42 storage. Search your storage for this specific data using the same unique identifier, which is stored in the `up42-user:title` metadata field."
   ]
  },
  {
   "cell_type": "code",
   "execution_count": null,
   "metadata": {},
   "outputs": [],
   "source": [
    "# Initialize the STAC client to search your UP42 storage\n",
    "UP42_client = up42.stac_client()\n",
    "\n",
    "# Create a filter to find items where the title contains our unique name\n",
    "filter = {\n",
    "    \"op\": \"a_contains\",\n",
    "    \"args\": [\n",
    "        {\"property\": \"up42-user:title\"},\n",
    "        UNIQUE_IDENTIFIER_NAME,\n",
    "    ],\n",
    "}\n",
    "\n",
    "# Perform the search and retrieve the first matching item\n",
    "stac_items_search = UP42_client.search(filter=filter)\n",
    "stac_item = list(stac_items_search.items())[0]\n",
    "print(f\"Found delivered item with ID: {stac_item.id}\")"
   ]
  },
  {
   "cell_type": "markdown",
   "metadata": {},
   "source": [
    "## Step 2. Process the data"
   ]
  },
  {
   "cell_type": "markdown",
   "metadata": {},
   "source": [
    "### 1. Validate and estimate a processing job\n",
    "\n",
    "Once you have your input data, you can run a processing job on it. Validate and estimate your job."
   ]
  },
  {
   "cell_type": "code",
   "execution_count": null,
   "metadata": {},
   "outputs": [],
   "source": [
    "# Create a unique title for the processing job's output\n",
    "job_title = f'{UNIQUE_IDENTIFIER_NAME}_processing_output'\n",
    "\n",
    "# Create the job template using our STAC item as input\n",
    "job_template = processing_templates.UpsamplingNSSentinel(\n",
    "    title=job_title,\n",
    "    item=stac_item\n",
    ")\n",
    "\n",
    "# Assert that the job is valid, print errors if not\n",
    "if not job_template.is_valid:\n",
    "  for error in job_template.errors:\n",
    "    print(f\"{error}\\\\n\")\n",
    "\n",
    "print(f\"The estimated cost is {job_template.cost.credits} credits.\")"
   ]
  },
  {
   "cell_type": "markdown",
   "metadata": {},
   "source": [
    "### 2. Run a processing job\n",
    "\n"
   ]
  },
  {
   "cell_type": "code",
   "execution_count": null,
   "metadata": {},
   "outputs": [],
   "source": [
    "# Execute the job and track its progress\n",
    "job = job_template.execute()\n",
    "job.track(wait=20)\n",
    "\n",
    "print(\"\\nTracking complete!\")\n",
    "print(f\"The final job status is: {job.status.value}\")"
   ]
  },
  {
   "cell_type": "markdown",
   "metadata": {},
   "source": [
    "### 3. Retrieve the processing output\n",
    "\n",
    "Find the new item by searching for the unique `job_title` you assigned it."
   ]
  },
  {
   "cell_type": "code",
   "execution_count": null,
   "metadata": {},
   "outputs": [],
   "source": [
    "# Create a filter to find the output using the unique job title\n",
    "filter = {\n",
    "    \"op\": \"a_contains\",\n",
    "    \"args\": [\n",
    "        {\"property\": \"title\"},\n",
    "        job_title,\n",
    "    ],\n",
    "}\n",
    "\n",
    "stac_items_search = UP42_client.search(filter=filter)\n",
    "stac_items_list = list(stac_items_search.items())\n",
    "processed_output_stac_item = stac_items_list[0]"
   ]
  },
  {
   "cell_type": "markdown",
   "metadata": {},
   "source": [
    "### 4. Link the output to the original identifier\n",
    "\n",
    "Update the metadata of the processed STAC item, adding our original `UNIQUE_IDENTIFIER_NAME` to its `up42-user:title` field. This ensures that both the input and output assets share a common identifier."
   ]
  },
  {
   "cell_type": "code",
   "execution_count": null,
   "metadata": {},
   "outputs": [],
   "source": [
    "# Set the \"up42-user:title\" to link this output back to the original order\n",
    "processed_output_stac_item.up42.title = job_title\n",
    "processed_output_stac_item.update()\n",
    "\n",
    "print(\"Updated processed item's metadata to include the unique identifier.\\n\")\n",
    "# Define output to check the changes\n",
    "print(f\"STAC item ID:   {processed_output_stac_item.id}\")\n",
    "print(f\"User title:     {processed_output_stac_item.up42.title}\")"
   ]
  },
  {
   "cell_type": "markdown",
   "metadata": {},
   "source": [
    "## Step 3. Retrieve all related data\n",
    "\n",
    "Perform a single search to retrieve both the original image and its processed output. The following search looks for any STAC item where the `up42-user:title` contains the root `UNIQUE_IDENTIFIER_NAME`."
   ]
  },
  {
   "cell_type": "code",
   "execution_count": null,
   "metadata": {},
   "outputs": [],
   "source": [
    "filter = {\n",
    "    \"op\": \"a_contains\",\n",
    "    \"args\": [\n",
    "        {\"property\": \"up42-user:title\"},\n",
    "        UNIQUE_IDENTIFIER_NAME,\n",
    "    ],\n",
    "}\n",
    "\n",
    "stac_items_search = UP42_client.search(filter=filter)\n",
    "\n",
    "# This list will now include both the processed output and the input STAC item\n",
    "stac_items_list = list(stac_items_search.items())\n",
    "\n",
    "print(f\"Found {len(stac_items_list)} related items using the unique identifier '{UNIQUE_IDENTIFIER_NAME}':\\n\")\n",
    "for item in stac_items_list:\n",
    "    print(f\"-   Item ID: {item.id}\")\n",
    "    print(f\"    Filename: {item.properties['title']}\")\n",
    "    print(f\"    User title: {item.properties['up42-user:title']}\\n\")"
   ]
  }
 ],
 "metadata": {
  "kernelspec": {
   "display_name": "Python 3",
   "language": "python",
   "name": "python3"
  },
  "language_info": {
   "codemirror_mode": {
    "name": "ipython",
    "version": 3
   },
   "file_extension": ".py",
   "mimetype": "text/x-python",
   "name": "python",
   "nbconvert_exporter": "python",
   "pygments_lexer": "ipython3",
   "version": "3.9.6"
  }
 },
 "nbformat": 4,
 "nbformat_minor": 4
}
