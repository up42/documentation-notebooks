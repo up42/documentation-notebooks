{
  "cells": [
    {
      "cell_type": "markdown",
      "metadata": {},
      "source": [
        "# Download assets from orders\n",
        "\n",
        "- <a href=\"#step-1\">Step 1. Set up the notebook</a>\n",
        "- <a href=\"#step-2\">Step 2. Check the status of your order</a>\n",
        "- <a href=\"#step-3\">Step 3. Check the number of assets</a>\n",
        "- <a href=\"#step-4\">Step 4. Download assets</a>\n",
        "\n",
        "## <a id=\"step-1\"></a> Step 1. Set up the notebook\n",
        "\n",
        "### 1. Install prerequisites"
      ]
    },
    {
      "cell_type": "code",
      "execution_count": 1,
      "metadata": {},
      "outputs": [
        {
          "name": "stdout",
          "output_type": "stream",
          "text": [
            "\n",
            "\u001b[1m[\u001b[0m\u001b[34;49mnotice\u001b[0m\u001b[1;39;49m]\u001b[0m\u001b[39;49m A new release of pip is available: \u001b[0m\u001b[31;49m23.3.2\u001b[0m\u001b[39;49m -> \u001b[0m\u001b[32;49m24.2\u001b[0m\n",
            "\u001b[1m[\u001b[0m\u001b[34;49mnotice\u001b[0m\u001b[1;39;49m]\u001b[0m\u001b[39;49m To update, run: \u001b[0m\u001b[32;49mpython3.11 -m pip install --upgrade pip\u001b[0m\n"
          ]
        }
      ],
      "source": [
        "!pip install up42-py --upgrade -q\n",
        "\n",
        "import up42"
      ]
    },
    {
      "cell_type": "markdown",
      "metadata": {},
      "source": [
        "### 2. Authenticate\n",
        "\n",
        "Use your credentials to authenticate."
      ]
    },
    {
      "cell_type": "code",
      "execution_count": 2,
      "metadata": {},
      "outputs": [
        {
          "name": "stderr",
          "output_type": "stream",
          "text": [
            "2024-10-16 11:43:41,512 - Authentication with UP42 successful!\n"
          ]
        }
      ],
      "source": [
        "# Create a configuration file and use the following code for it:\n",
        "# {\n",
        "#   \"username\": \"<your-email-address>\",\n",
        "#   \"password\": \"<your-password>\"\n",
        "# }\n",
        "\n",
        "up42.authenticate(cfg_file=\"/Users/max.mustermann/.up42/credentials.json\")"
      ]
    },
    {
      "cell_type": "markdown",
      "metadata": {},
      "source": [
        "## <a id=\"step-2\"></a> Step 2. Check the status of your order\n",
        "\n",
        "The following statuses mean you can download assets from storage:\n",
        "\n",
        "- `BEING_FULFILLED`: some order assets might have been delivered.\n",
        "- `FULFILLED`: all order assets have been delivered."
      ]
    },
    {
      "cell_type": "code",
      "execution_count": 3,
      "metadata": {},
      "outputs": [
        {
          "name": "stderr",
          "output_type": "stream",
          "text": [
            "2024-10-16 12:09:53,883 - Initialized Order(order_id: 55434287-31bc-3ad7-1a63-d61aac11ac55, status: FULFILLED,createdAt: 2024-05-28T22:54:10.961115Z, updatedAt: 2024-09-27T13:52:52.693498Z)\n",
            "2024-10-16 12:09:53,949 - Order is FULFILLED\n"
          ]
        },
        {
          "data": {
            "text/plain": [
              "'FULFILLED'"
            ]
          },
          "execution_count": 3,
          "metadata": {},
          "output_type": "execute_result"
        }
      ],
      "source": [
        "order = up42.initialize_order(\n",
        "    order_id=\"55434287-31bc-3ad7-1a63-d61aac11ac55\"\n",
        ")\n",
        "\n",
        "order.status"
      ]
    },
    {
      "cell_type": "markdown",
      "metadata": {},
      "source": [
        "## <a id=\"step-3\"></a> Step 3. Check the number of assets"
      ]
    },
    {
      "cell_type": "code",
      "execution_count": 4,
      "metadata": {},
      "outputs": [
        {
          "data": {
            "text/plain": [
              "[{'id': 'a0d443a2-41e8-4995-8b54-a5cc4c448227'},\n",
              " {'id': 'ea36dee9-fed6-457e-8400-2c20ebd30f44'},\n",
              " {'id': '14371401-97a3-4b23-9b55-c3ac10d47750'}]"
            ]
          },
          "execution_count": 4,
          "metadata": {},
          "output_type": "execute_result"
        }
      ],
      "source": [
        "assets = order.get_assets()\n",
        "assets_ids = [{'id': asset.asset_id} for asset in assets]\n",
        "assets_ids\n"
      ]
    },
    {
      "cell_type": "markdown",
      "metadata": {},
      "source": [
        "## <a id=\"step-4\"></a> Step 4. Download assets\n",
        "\n",
        "The default download path for an asset is your current working directory. You can also provide a custom output directory."
      ]
    },
    {
      "cell_type": "code",
      "execution_count": 5,
      "metadata": {},
      "outputs": [],
      "source": [
        "asset_id = order.get_assets()[0].asset_id\n",
        "asset = up42.initialize_asset(asset_id=asset_id)\n",
        "\n",
        "# Download a single asset\n",
        "asset.download(\n",
        "    output_directory=\"/Users/max.mustermann/Desktop/\",\n",
        "    unpacking=False,\n",
        ")"
      ]
    }
  ],
  "metadata": {
    "colab": {
      "provenance": []
    },
    "kernelspec": {
      "display_name": "Python 3",
      "name": "python3"
    },
    "language_info": {
      "codemirror_mode": {
        "name": "ipython",
        "version": 3
      },
      "file_extension": ".py",
      "mimetype": "text/x-python",
      "name": "python",
      "nbconvert_exporter": "python",
      "pygments_lexer": "ipython3",
      "version": "3.11.3"
    },
    "orig_nbformat": 4
  },
  "nbformat": 4,
  "nbformat_minor": 0
}
