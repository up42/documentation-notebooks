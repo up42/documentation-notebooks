{
 "cells": [
  {
   "cell_type": "markdown",
   "metadata": {},
   "source": [
    "# Search for and download STAC items\n",
    "\n",
    "Retrieve STAC items from your storage using different search filters and download image assets.\n",
    "\n",
    "You can make a [detailed search request](https://docs.up42.com/developers/api-stac#detailed-search) to find specific STAC items in your storage."
   ]
  },
  {
   "cell_type": "markdown",
   "metadata": {},
   "source": [
    "## Set up the notebook\n",
    "\n",
    "### 1. Install dependencies"
   ]
  },
  {
   "cell_type": "code",
   "execution_count": null,
   "metadata": {},
   "outputs": [],
   "source": [
    "!pip install up42-py --upgrade -q\n",
    "\n",
    "import up42, pathlib"
   ]
  },
  {
   "cell_type": "markdown",
   "metadata": {},
   "source": [
    "### 2. Configure credentials\n",
    "\n",
    "Create a `credentials.json` file in a directory named `.up42` under your home directory by running the cell below. The path to the file will be `~/.up42/credentials.json`."
   ]
  },
  {
   "cell_type": "code",
   "execution_count": null,
   "metadata": {},
   "outputs": [],
   "source": [
    "# Define the credentials file path if it doesn't exist\n",
    "credentials_file_path = pathlib.Path.home().joinpath(\".up42/credentials.json\")\n",
    "credentials_file_path.parent.mkdir(parents=True, exist_ok=True)\n",
    "credentials_file_path.touch(exist_ok=True)"
   ]
  },
  {
   "cell_type": "markdown",
   "metadata": {},
   "source": [
    "1. Click the link above to the created file and paste the following code:\n",
    "    ```json\n",
    "    {\n",
    "        \"username\": \"<your-email-address>\",\n",
    "        \"password\": \"<your-password>\"\n",
    "    }\n",
    "    ```\n",
    "2. Retrieve the email address and password used for logging into the console. Use them as values for `username` and `password`.\n",
    "3. Save the `credentials.json` file."
   ]
  },
  {
   "cell_type": "markdown",
   "metadata": {},
   "source": [
    "### 3. Authenticate and create a PySTAC client connection"
   ]
  },
  {
   "cell_type": "code",
   "execution_count": null,
   "metadata": {},
   "outputs": [],
   "source": [
    "up42.authenticate(cfg_file=credentials_file_path)\n",
    "UP42_client = up42.stac_client()"
   ]
  },
  {
   "cell_type": "markdown",
   "metadata": {},
   "source": [
    "## Search for STAC items\n",
    "\n",
    "### Option 1. Search by STAC item ID"
   ]
  },
  {
   "cell_type": "code",
   "execution_count": null,
   "metadata": {},
   "outputs": [],
   "source": [
    "# Define a STAC item ID\n",
    "item_id = \"68567134-27ad-7bd7-4b65-d61adb11fc78\"\n",
    "\n",
    "# Perform the search\n",
    "item = UP42_client.get_item(item_id)\n",
    "\n",
    "# Print the result\n",
    "print(f\"STAC item ID:   {item.id}\")\n",
    "print(f\"Order ID:       {item.properties.get('up42-order:id', 'Not available')}\")\n",
    "print(f\"User title:     {item.properties.get('up42-user:title', 'Not available')}\")\n",
    "print(f\"User tags:      {item.properties.get('up42-user:tags', 'Not available')}\\n\")"
   ]
  },
  {
   "cell_type": "markdown",
   "metadata": {},
   "source": [
    "### Option 2. Search by order ID"
   ]
  },
  {
   "cell_type": "code",
   "execution_count": null,
   "metadata": {},
   "outputs": [],
   "source": [
    "# Define an order ID\n",
    "order_id = \"68567134-27ad-7bd7-4b65-d61adb11fc78\"\n",
    "\n",
    "# This filter searches for STAC items associated with the defined order ID\n",
    "filter = {\n",
    "    \"op\": \"=\",\n",
    "    \"args\": [\n",
    "        {\"property\": \"up42-order:id\"},\n",
    "        order_id,\n",
    "    ],\n",
    "}\n",
    "\n",
    "# Perform the search\n",
    "stac_items_search = UP42_client.search(filter=filter)\n",
    "\n",
    "# Iterate through each STAC item and print selected details\n",
    "for item in stac_items_search.items():\n",
    "    print(f\"STAC item ID:   {item.id}\")\n",
    "    print(f\"Order ID:       {item.properties.get('up42-order:id', 'Not available')}\")\n",
    "    print(f\"User title:     {item.properties.get('up42-user:title', 'Not available')}\")\n",
    "    print(f\"User tags:      {item.properties.get('up42-user:tags', 'Not available')}\\n\")"
   ]
  },
  {
   "cell_type": "markdown",
   "metadata": {},
   "source": [
    "### Option 3. Search by tags"
   ]
  },
  {
   "cell_type": "code",
   "execution_count": null,
   "metadata": {},
   "outputs": [],
   "source": [
    "# Set up a filter to search for STAC items that contain the \"ortho\" tag\n",
    "filter = {\n",
    "    \"op\": \"a_contains\",\n",
    "    \"args\": [\n",
    "        {\"property\": \"tags\"},\n",
    "        [\"ortho\"],\n",
    "    ],\n",
    "}\n",
    "\n",
    "# Perform the search\n",
    "stac_items_search = UP42_client.search(filter=filter)\n",
    "\n",
    "for item in stac_items_search.items():\n",
    "    properties = item.properties\n",
    "\n",
    "    # Print all results matching the search filter\n",
    "    print(f\"STAC item ID:   {item.id}\")\n",
    "    print(f\"Order ID:       {item.properties.get('up42-order:id', 'Not available')}\")\n",
    "    print(f\"User title:     {item.properties.get('up42-user:title', 'Not available')}\")\n",
    "    print(f\"User tags:      {item.properties.get('up42-user:tags', 'Not available')}\\n\")"
   ]
  },
  {
   "cell_type": "markdown",
   "metadata": {},
   "source": [
    "### Option 4. Search for STAC items from a specific data product"
   ]
  },
  {
   "cell_type": "code",
   "execution_count": null,
   "metadata": {},
   "outputs": [],
   "source": [
    "# Retrieve a list of geospatial collections\n",
    "data_collections = up42.ProductGlossary.get_collections(\n",
    "    collection_type= up42.CollectionType.ARCHIVE,\n",
    ")\n",
    "\n",
    "# Iterate over collections and select SPOT\n",
    "collection = next(c for c in data_collections if c.name == \"spot\")\n",
    "\n",
    "# Find the Display data product\n",
    "data_product = next(\n",
    "    d for d in collection.data_products if d.name == \"spot-display\"\n",
    "    )\n",
    "\n",
    "# Set up a filter to search for spot-display items in storage\n",
    "filter = {\n",
    "    \"op\": \"=\",\n",
    "    \"args\": [\n",
    "        {\n",
    "            \"property\": \"up42-product:product_id\"\n",
    "        },\n",
    "        data_product.id\n",
    "    ]\n",
    "}\n",
    "\n",
    "# Perform the search and iterate to next item\n",
    "stac_items_search = UP42_client.search(filter=filter)\n",
    "for item in stac_items_search.items():\n",
    "    properties = item.properties\n",
    "\n",
    "    # Print all results matching the search filter\n",
    "    print(f\"STAC item ID:   {item.id}\")\n",
    "    print(f\"Order ID:       {item.properties.get('up42-order:id', 'Not available')}\")\n",
    "    print(f\"User title:     {item.properties.get('up42-user:title', 'Not available')}\")\n",
    "    print(f\"User tags:      {item.properties.get('up42-user:tags', 'Not available')}\\n\")"
   ]
  },
  {
   "cell_type": "markdown",
   "metadata": {},
   "source": [
    "### Option 5. Search for all STAC items in storage\n",
    "\n",
    "You can retrieve all STAC items from your storage. Don't use if you have more than 100 STAC items in storage."
   ]
  },
  {
   "cell_type": "code",
   "execution_count": null,
   "metadata": {},
   "outputs": [],
   "source": [
    "# Fetch all STAC items\n",
    "items = UP42_client.get_items()\n",
    "\n",
    "# Print results\n",
    "for item in items:\n",
    "    print(f\"STAC item ID:   {item.id}\")\n",
    "    print(f\"Order ID:       {item.properties.get('up42-order:id', 'Not available')}\")\n",
    "    print(f\"User title:     {item.properties.get('up42-user:title', 'Not available')}\")\n",
    "    print(f\"User tags:      {item.properties.get('up42-user:tags', 'Not available')}\\n\")"
   ]
  },
  {
   "cell_type": "markdown",
   "metadata": {},
   "source": [
    "## Download the image asset\n",
    "\n",
    "STAC items usually contain several assets. Let's select and dowload the RGB multispectral asset."
   ]
  },
  {
   "cell_type": "code",
   "execution_count": null,
   "metadata": {},
   "outputs": [],
   "source": [
    "# Select a STAC item\n",
    "item_id = \"2e20dd4b-7a2c-4197-96e6-69fd8859565c\"\n",
    "item = UP42_client.get_item(item_id)\n",
    "\n",
    "# Find the RGB image asset with desired bands\n",
    "rgb_bands = {\"red\", \"green\", \"blue\"}\n",
    "rgb_key= None\n",
    "for key, asset in item.assets.items():\n",
    "    bands = asset.extra_fields.get(\"eo:bands\")\n",
    "    if not bands:\n",
    "        continue\n",
    "    band_names = set([band[\"name\"] for band in bands])\n",
    "    if rgb_bands.issubset(band_names):\n",
    "        rgb_key = key\n",
    "        break\n",
    "\n",
    "rgb_asset = item.assets[rgb_key]\n",
    "\n",
    "# Download the RGB image asset to your home folder\n",
    "rgb_asset.file.download(output_directory=pathlib.Path.home() / \"Desktop\")"
   ]
  }
 ],
 "metadata": {
  "kernelspec": {
   "display_name": "Python 3",
   "language": "python",
   "name": "python3"
  },
  "language_info": {
   "codemirror_mode": {
    "name": "ipython",
    "version": 3
   },
   "file_extension": ".py",
   "mimetype": "text/x-python",
   "name": "python",
   "nbconvert_exporter": "python",
   "pygments_lexer": "ipython3",
   "version": "3.9.6"
  }
 },
 "nbformat": 4,
 "nbformat_minor": 4
}
