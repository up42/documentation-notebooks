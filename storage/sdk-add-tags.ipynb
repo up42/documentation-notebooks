{
 "cells": [
  {
   "cell_type": "markdown",
   "metadata": {},
   "source": [
    "# Add tags to STAC items\n",
    "\n",
    "Add tags to STAC items in your storage to improve their discoverability."
   ]
  },
  {
   "cell_type": "markdown",
   "metadata": {},
   "source": [
    "## Set up the notebook\n",
    "\n",
    "### 1. Install dependencies"
   ]
  },
  {
   "cell_type": "code",
   "execution_count": 1,
   "metadata": {},
   "outputs": [
    {
     "name": "stdout",
     "output_type": "stream",
     "text": [
      "\n",
      "\u001b[1m[\u001b[0m\u001b[34;49mnotice\u001b[0m\u001b[1;39;49m]\u001b[0m\u001b[39;49m A new release of pip is available: \u001b[0m\u001b[31;49m25.0\u001b[0m\u001b[39;49m -> \u001b[0m\u001b[32;49m25.1.1\u001b[0m\n",
      "\u001b[1m[\u001b[0m\u001b[34;49mnotice\u001b[0m\u001b[1;39;49m]\u001b[0m\u001b[39;49m To update, run: \u001b[0m\u001b[32;49m/Library/Developer/CommandLineTools/usr/bin/python3 -m pip install --upgrade pip\u001b[0m\n"
     ]
    },
    {
     "name": "stderr",
     "output_type": "stream",
     "text": [
      "/Users/daria.lutchenko/Library/Python/3.9/lib/python/site-packages/urllib3/__init__.py:35: NotOpenSSLWarning: urllib3 v2 only supports OpenSSL 1.1.1+, currently the 'ssl' module is compiled with 'LibreSSL 2.8.3'. See: https://github.com/urllib3/urllib3/issues/3020\n",
      "  warnings.warn(\n"
     ]
    }
   ],
   "source": [
    "!pip install up42-py --upgrade -q\n",
    "\n",
    "import up42, pathlib"
   ]
  },
  {
   "cell_type": "markdown",
   "metadata": {},
   "source": [
    "### 2. Configure credentials\n",
    "\n",
    "Create a `credentials.json` file in a directory named `.up42` under your home directory by running the cell below. The path to the file will be `~/.up42/credentials.json`."
   ]
  },
  {
   "cell_type": "code",
   "execution_count": 2,
   "metadata": {},
   "outputs": [],
   "source": [
    "# Define the credentials file path if it doesn't exist\n",
    "credentials_file_path = pathlib.Path.home().joinpath(\".up42/credentials.json\")\n",
    "credentials_file_path.parent.mkdir(parents=True, exist_ok=True)\n",
    "credentials_file_path.touch(exist_ok=True)"
   ]
  },
  {
   "cell_type": "markdown",
   "metadata": {},
   "source": [
    "1. Click the link above to the created file and paste the following code:\n",
    "    ```json\n",
    "    {\n",
    "        \"username\": \"<your-email-address>\",\n",
    "        \"password\": \"<your-password>\"\n",
    "    }\n",
    "    ```\n",
    "2. Retrieve the email address and password used for logging into the console. Use them as values for `username` and `password`.\n",
    "3. Save the `credentials.json` file."
   ]
  },
  {
   "cell_type": "markdown",
   "metadata": {},
   "source": [
    "### 3. Authenticate and create a PySTAC client connection"
   ]
  },
  {
   "cell_type": "code",
   "execution_count": 3,
   "metadata": {},
   "outputs": [
    {
     "name": "stderr",
     "output_type": "stream",
     "text": [
      "2025-06-12 16:38:12,407 - Authentication with UP42 successful!\n"
     ]
    }
   ],
   "source": [
    "up42.authenticate(cfg_file=credentials_file_path)\n",
    "UP42_client = up42.stac_client()"
   ]
  },
  {
   "cell_type": "markdown",
   "metadata": {},
   "source": [
    "## Filter STAC items by existing tags\n",
    "You can make a [detailed search request](https://docs.up42.com/developers/api-stac#detailed-search) to find specific STAC items in your storage."
   ]
  },
  {
   "cell_type": "code",
   "execution_count": null,
   "metadata": {},
   "outputs": [],
   "source": [
    "# Set up a filter to search for STAC items that contain the \"ortho\" tag\n",
    "filter = {\n",
    "    \"op\": \"a_contains\",\n",
    "    \"args\": [\n",
    "        {\"property\": \"tags\"},\n",
    "        [\"ortho\"],\n",
    "    ],\n",
    "}\n",
    "\n",
    "# Perform the search\n",
    "stac_items_search = UP42_client.search(filter=filter)\n",
    "\n",
    "for item in stac_items_search.items():\n",
    "    properties = item.properties\n",
    "\n",
    "    # Print all results matching the search filter\n",
    "    print(f\"STAC item ID:   {item.id}\")\n",
    "    print(f\"Order ID:       {item.properties.get('up42-user:id', 'Not available')}\")\n",
    "    print(f\"User title:     {item.properties.get('up42-user:title', 'Not available')}\")\n",
    "    print(f\"User tags:      {item.properties.get('up42-user:tags', 'Not available')}\\n\")"
   ]
  },
  {
   "cell_type": "markdown",
   "metadata": {},
   "source": [
    "## Add new tags to the STAC items matching the filter"
   ]
  },
  {
   "cell_type": "code",
   "execution_count": null,
   "metadata": {},
   "outputs": [],
   "source": [
    "# Define new tags to add\n",
    "new_tags = [\"ortho-done\"]\n",
    "\n",
    "# Set up a filter to search for STAC items that contain the \"ortho\" tag\n",
    "filter = {\n",
    "    \"op\": \"a_contains\",\n",
    "    \"args\": [\n",
    "        {\"property\": \"tags\"},\n",
    "        [\"ortho\"],\n",
    "    ],\n",
    "}\n",
    "\n",
    "# Perform the search\n",
    "stac_items_search = UP42_client.search(filter=filter)\n",
    "\n",
    "# Iterate through each STAC item and update its tags\n",
    "for item in stac_items_search.items():\n",
    "    updated_tags = item.properties[\"up42-user:tags\"] + new_tags\n",
    "    item.properties.update({\"up42-user:tags\":updated_tags})\n",
    "    item.update() # Essential step: update change in our database\n",
    "\n",
    "for item in stac_items_search.items():\n",
    "    properties = item.properties\n",
    "\n",
    "    # Print all results matching the search filter\n",
    "    print(f\"STAC item ID:   {item.id}\")\n",
    "    print(f\"Order ID:       {item.properties.get('up42-user:id', 'Not available')}\")\n",
    "    print(f\"User title:     {item.properties.get('up42-user:title', 'Not available')}\")\n",
    "    print(f\"User tags:      {item.properties.get('up42-user:tags', 'Not available')}\\n\")"
   ]
  },
  {
   "cell_type": "markdown",
   "metadata": {},
   "source": [
    "## Add new tags to a selected STAC item"
   ]
  },
  {
   "cell_type": "code",
   "execution_count": null,
   "metadata": {},
   "outputs": [],
   "source": [
    "# Define new tags to add\n",
    "new_tags = [\"sentinel-2\"]\n",
    "\n",
    "# Select a STAC item\n",
    "item_id = \"9b919b88-8cec-42d9-b901-0b66240ba282\"\n",
    "item = UP42_client.get_item(item_id)\n",
    "\n",
    "updated_tags = item.properties[\"up42-user:tags\"] + new_tags\n",
    "item.properties.update({\"up42-user:tags\":updated_tags})\n",
    "item.update() # Essential step: update change in our database\n",
    "\n",
    "print(f\"STAC item ID:   {item.id}\")\n",
    "print(f\"Order ID:       {item.properties.get('up42-user:id', 'Not available')}\")\n",
    "print(f\"User title:     {item.properties.get('up42-user:title', 'Not available')}\")\n",
    "print(f\"User tags:      {item.properties.get('up42-user:tags', 'Not available')}\\n\")"
   ]
  }
 ],
 "metadata": {
  "kernelspec": {
   "display_name": "Python 3",
   "language": "python",
   "name": "python3"
  },
  "language_info": {
   "codemirror_mode": {
    "name": "ipython",
    "version": 3
   },
   "file_extension": ".py",
   "mimetype": "text/x-python",
   "name": "python",
   "nbconvert_exporter": "python",
   "pygments_lexer": "ipython3",
   "version": "3.9.6"
  }
 },
 "nbformat": 4,
 "nbformat_minor": 4
}
