{
 "cells": [
  {
   "cell_type": "markdown",
   "metadata": {},
   "source": [
    "# Add tags to your items\n",
    "\n",
    "This tutorial explains how to add tags to your items. Tags improve discoverability if items in your storage."
   ]
  },
  {
   "cell_type": "markdown",
   "metadata": {},
   "source": [
    "## Install dependencies"
   ]
  },
  {
   "cell_type": "code",
   "execution_count": null,
   "metadata": {},
   "outputs": [],
   "source": [
    "!pip install up42-py --upgrade -q\n",
    "\n",
    "import pathlib\n",
    "import up42\n"
   ]
  },
  {
   "cell_type": "markdown",
   "metadata": {},
   "source": [
    "## Setup your credentials\n",
    "\n",
    "Create a `credentials.json` file in a directory named `.up42` under your home directory by running the cell below. The path to the file will be `~/.up42/credentials.json`."
   ]
  },
  {
   "cell_type": "code",
   "execution_count": null,
   "metadata": {},
   "outputs": [],
   "source": [
    "# Define the credentials file path if it doesn't exist\n",
    "credentials_file_path = pathlib.Path.home().joinpath(\".up42/credentials.json\")\n",
    "credentials_file_path.parent.mkdir(parents=True, exist_ok=True)\n",
    "credentials_file_path.touch(exist_ok=True)\n"
   ]
  },
  {
   "cell_type": "markdown",
   "metadata": {},
   "source": [
    "1. Click the link above to the created file and paste the following code:\n",
    "    ```\n",
    "    {\n",
    "    \"username\": \"<your-email-address>\",\n",
    "    \"password\": \"<your-password>\"\n",
    "    }\n",
    "    ```\n",
    "2. Retrieve the email address and password used for logging into the console. Use them as values for `username` and `password`.\n",
    "3. Save the `credentials.json` file."
   ]
  },
  {
   "cell_type": "markdown",
   "metadata": {},
   "source": [
    "## Authenticate and create a PySTAC client connection"
   ]
  },
  {
   "cell_type": "code",
   "execution_count": null,
   "metadata": {},
   "outputs": [],
   "source": [
    "up42.authenticate(cfg_file=credentials_file_path)\n",
    "UP42_client = up42.stac_client()"
   ]
  },
  {
   "cell_type": "markdown",
   "metadata": {},
   "source": [
    "## Filter items by existing tags\n",
    "You can make a [detailed search request](https://docs.up42.com/developers/api-stac#detailed-search) to find specific STAC items in your storage."
   ]
  },
  {
   "cell_type": "code",
   "execution_count": null,
   "metadata": {},
   "outputs": [],
   "source": [
    "# This filter searches for STAC items that contain \"SPOT\" and \"Orthorectified\" tags\n",
    "filter = {\n",
    "    \"op\": \"a_contains\",\n",
    "    \"args\": [\n",
    "        {\"property\": \"tags\"},\n",
    "        [\"SPOT\", \"Orthorectified\"],\n",
    "    ],\n",
    "}\n",
    "\n",
    "# Perform the search\n",
    "stac_items_search = UP42_client.search(filter=filter)"
   ]
  },
  {
   "cell_type": "markdown",
   "metadata": {},
   "source": [
    "## Add new tags to items matching the filter"
   ]
  },
  {
   "cell_type": "code",
   "execution_count": null,
   "metadata": {},
   "outputs": [],
   "source": [
    "\n",
    "# Define new tags to add\n",
    "new_tags = [\"foo\", \"bar\"]\n",
    "\n",
    "# Iterate through each STAC item and update its tags\n",
    "for stac_item in stac_items_search.items():\n",
    "    updated_tags = stac_item.properties[\"up42-user:tags\"] + new_tags\n",
    "    stac_item.properties.update({\"up42-user:tags\":updated_tags})\n",
    "    stac_item.update() # essential step: update change in our database"
   ]
  }
 ],
 "metadata": {
  "kernelspec": {
   "display_name": "Python 3",
   "language": "python",
   "name": "python3"
  },
  "language_info": {
   "codemirror_mode": {
    "name": "ipython",
    "version": 3
   },
   "file_extension": ".py",
   "mimetype": "text/x-python",
   "name": "python",
   "nbconvert_exporter": "python",
   "pygments_lexer": "ipython3",
   "version": "3.9.6"
  }
 },
 "nbformat": 4,
 "nbformat_minor": 4
}
