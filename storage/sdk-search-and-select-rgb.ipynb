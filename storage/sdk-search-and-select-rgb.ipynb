{
 "cells": [
  {
   "cell_type": "markdown",
   "metadata": {},
   "source": [
    "# Discover items in your storage\n",
    "\n",
    "[PySTAC](https://pystac.readthedocs.io/en/stable/) is a library for working with [STAC](https://docs.up42.com/developers/api-assets/stac-about). This tutorial explains how to discover items delivered to your storage in the context of a tasking or archive order in 4 simple steps."
   ]
  },
  {
   "cell_type": "markdown",
   "metadata": {},
   "source": [
    "## Install dependencies"
   ]
  },
  {
   "cell_type": "code",
   "execution_count": null,
   "metadata": {},
   "outputs": [],
   "source": [
    "!pip install up42-py --upgrade -q\n",
    "\n",
    "import pathlib\n",
    "import up42\n"
   ]
  },
  {
   "cell_type": "markdown",
   "metadata": {},
   "source": [
    "## Setup your credentials\n",
    "\n",
    "Create a `credentials.json` file in a directory named `.up42` under your home directory by running the cell below. The path to the file will be `~/.up42/credentials.json`."
   ]
  },
  {
   "cell_type": "code",
   "execution_count": null,
   "metadata": {},
   "outputs": [],
   "source": [
    "# Define the credentials file path if it doesn't exist\n",
    "credentials_file_path = pathlib.Path.home().joinpath(\".up42/credentials.json\")\n",
    "credentials_file_path.parent.mkdir(parents=True, exist_ok=True)\n",
    "credentials_file_path.touch(exist_ok=True)"
   ]
  },
  {
   "cell_type": "markdown",
   "metadata": {},
   "source": [
    "1. Click the link above to the created file and paste the following code:\n",
    "    ```\n",
    "    {\n",
    "    \"username\": \"<your-email-address>\",\n",
    "    \"password\": \"<your-password>\"\n",
    "    }\n",
    "    ```\n",
    "2. Retrieve the email address and password used for logging into the console. Use them as values for `username` and `password`.\n",
    "3. Save the `credentials.json` file.\n",
    "4. Check that the authentication was successful as follows:"
   ]
  },
  {
   "cell_type": "code",
   "execution_count": null,
   "metadata": {},
   "outputs": [],
   "source": [
    "up42.authenticate(cfg_file=credentials_file_path)"
   ]
  },
  {
   "cell_type": "markdown",
   "metadata": {},
   "source": [
    "## Authenticate and create a PySTAC client connection"
   ]
  },
  {
   "cell_type": "code",
   "execution_count": null,
   "metadata": {},
   "outputs": [],
   "source": [
    "up42.authenticate(cfg_file=credentials_file_path)\n",
    "UP42_client = up42.stac_client()"
   ]
  },
  {
   "cell_type": "markdown",
   "metadata": {},
   "source": [
    "## Find an image from a particular provider in your storage\n",
    "\n",
    "First retrieve the UP42 product id for the desired product (in this case SPOT) and search for matching items."
   ]
  },
  {
   "cell_type": "code",
   "execution_count": null,
   "metadata": {},
   "outputs": [],
   "source": [
    "# Retrieve a list of geospatial collections\n",
    "data_collections = up42.ProductGlossary.get_collections(\n",
    "    collection_type= up42.CollectionType.ARCHIVE,\n",
    ")\n",
    "\n",
    "# Iterate over collections and select SPOT\n",
    "collection = next(c for c in data_collections if c.name == \"spot\")\n",
    "\n",
    "# Find the display data product\n",
    "data_product = next(\n",
    "    d for d in collection.data_products if d.name == \"spot-display\"\n",
    "    )\n",
    "\n",
    "# This filter searches for spot-display items in your storage\n",
    "filter = {\n",
    "    \"op\": \"=\",\n",
    "    \"args\": [\n",
    "        {\n",
    "            \"property\": \"up42-product:product_id\"\n",
    "        },\n",
    "        data_product.id\n",
    "    ]\n",
    "}\n",
    "\n",
    "# Perform the search and iterate to next item\n",
    "stac_items_search = UP42_client.search(filter=filter)\n",
    "item = next(stac_items_search.items())\n"
   ]
  },
  {
   "cell_type": "markdown",
   "metadata": {},
   "source": [
    "## Select the RGB image and download it to your home folder\n",
    "\n",
    "The selected item contains several assets (provider metadata, quicklooks, cloud mask, RGB image etc). Now it's time to select the RGB multispectral asset."
   ]
  },
  {
   "cell_type": "code",
   "execution_count": null,
   "metadata": {},
   "outputs": [],
   "source": [
    "# Find asset with desired bands\n",
    "rgb_bands = {\"red\", \"green\", \"blue\"}\n",
    "rgb_key= None\n",
    "for key, asset in item.assets.items():\n",
    "    bands = asset.extra_fields.get(\"eo:bands\")\n",
    "    if not bands:\n",
    "        continue\n",
    "    band_names = set([band[\"name\"] for band in bands])\n",
    "    if rgb_bands.issubset(band_names):\n",
    "        rgb_key = key\n",
    "        break\n",
    "\n",
    "rgb_asset = item.assets[rgb_key]\n",
    "\n",
    "# Download asset to your home folder\n",
    "rgb_asset.file.download(output_directory=pathlib.Path.home())\n"
   ]
  }
 ],
 "metadata": {
  "kernelspec": {
   "display_name": "Python 3",
   "language": "python",
   "name": "python3"
  },
  "language_info": {
   "codemirror_mode": {
    "name": "ipython",
    "version": 3
   },
   "file_extension": ".py",
   "mimetype": "text/x-python",
   "name": "python",
   "nbconvert_exporter": "python",
   "pygments_lexer": "ipython3",
   "version": "3.9.6"
  }
 },
 "nbformat": 4,
 "nbformat_minor": 4
}
