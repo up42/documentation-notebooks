{
 "cells": [
  {
   "cell_type": "markdown",
   "metadata": {},
   "source": [
    "# Get one or all STAC items\n",
    "\n",
    "Retrieve one specific STAC item or all STAC items from your storage."
   ]
  },
  {
   "cell_type": "markdown",
   "metadata": {},
   "source": [
    "## Set up the notebook\n",
    "\n",
    "### 1. Install dependencies"
   ]
  },
  {
   "cell_type": "code",
   "execution_count": null,
   "metadata": {},
   "outputs": [],
   "source": [
    "!pip install up42-py --upgrade -q\n",
    "\n",
    "import up42, pathlib"
   ]
  },
  {
   "cell_type": "markdown",
   "metadata": {},
   "source": [
    "### 2. Configure credentials\n",
    "\n",
    "Create a `credentials.json` file in a directory named `.up42` under your home directory by running the cell below. The path to the file will be `~/.up42/credentials.json`."
   ]
  },
  {
   "cell_type": "code",
   "execution_count": null,
   "metadata": {},
   "outputs": [],
   "source": [
    "# Define the credentials file path if it doesn't exist\n",
    "credentials_file_path = pathlib.Path.home().joinpath(\".up42/credentials.json\")\n",
    "credentials_file_path.parent.mkdir(parents=True, exist_ok=True)\n",
    "credentials_file_path.touch(exist_ok=True)"
   ]
  },
  {
   "cell_type": "markdown",
   "metadata": {},
   "source": [
    "1. Click the link above to the created file and paste the following code:\n",
    "    ```json\n",
    "    {\n",
    "        \"username\": \"<your-email-address>\",\n",
    "        \"password\": \"<your-password>\"\n",
    "    }\n",
    "    ```\n",
    "2. Retrieve the email address and password used for logging into the console. Use them as values for `username` and `password`.\n",
    "3. Save the `credentials.json` file."
   ]
  },
  {
   "cell_type": "markdown",
   "metadata": {},
   "source": [
    "### 3. Authenticate and create a PySTAC client connection"
   ]
  },
  {
   "cell_type": "code",
   "execution_count": null,
   "metadata": {},
   "outputs": [],
   "source": [
    "up42.authenticate(cfg_file=credentials_file_path)\n",
    "UP42_client = up42.stac_client()"
   ]
  },
  {
   "cell_type": "markdown",
   "metadata": {},
   "source": [
    "## Get a STAC item by ID"
   ]
  },
  {
   "cell_type": "code",
   "execution_count": null,
   "metadata": {},
   "outputs": [],
   "source": [
    "item_id = \"68567134-27ad-7bd7-4b65-d61adb11fc78\"\n",
    "item = UP42_client.get_item(item_id)\n",
    "\n",
    "print(f\"STAC item ID:   {item.id}\")\n",
    "print(f\"Order ID:       {item.properties.get('up42-user:id', 'Not available')}\")\n",
    "print(f\"User title:     {item.properties.get('up42-user:title', 'Not available')}\")\n",
    "print(f\"User tags:      {item.properties.get('up42-user:tags', 'Not available')}\\n\")"
   ]
  },
  {
   "cell_type": "markdown",
   "metadata": {},
   "source": [
    "## Get all STAC items in storage\n",
    "\n",
    "You can retrieve all STAC items from your storage. If you have more than 100 STAC items, [use this search notebook](https://github.com/up42/documentation-notebooks/blob/main/storage/sdk-search-items.ipynb) instead."
   ]
  },
  {
   "cell_type": "code",
   "execution_count": null,
   "metadata": {},
   "outputs": [],
   "source": [
    "items = UP42_client.get_items()\n",
    "\n",
    "for item in items:\n",
    "    print(f\"STAC item ID:   {item.id}\")\n",
    "    print(f\"Order ID:       {item.properties.get('up42-user:id', 'Not available')}\")\n",
    "    print(f\"User title:     {item.properties.get('up42-user:title', 'Not available')}\")\n",
    "    print(f\"User tags:      {item.properties.get('up42-user:tags', 'Not available')}\\n\")"
   ]
  }
 ],
 "metadata": {
  "kernelspec": {
   "display_name": "Python 3",
   "language": "python",
   "name": "python3"
  },
  "language_info": {
   "codemirror_mode": {
    "name": "ipython",
    "version": 3
   },
   "file_extension": ".py",
   "mimetype": "text/x-python",
   "name": "python",
   "nbconvert_exporter": "python",
   "pygments_lexer": "ipython3",
   "version": "3.9.6"
  }
 },
 "nbformat": 4,
 "nbformat_minor": 4
}
