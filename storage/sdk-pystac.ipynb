{
 "cells": [
  {
   "cell_type": "markdown",
   "metadata": {},
   "source": [
    "# Access STAC items with PySTAC\n",
    "\n",
    "[PySTAC](https://pystac.readthedocs.io/en/stable/) is a library for working with [STAC](https://docs.up42.com/developers/api-assets/stac-about). This tutorial explains how to get data items associated with your orders using PySTAC and visualize them on a map."
   ]
  },
  {
   "cell_type": "markdown",
   "metadata": {},
   "source": [
    "## Step 1. Set up the notebook\n",
    "\n",
    "### 1. Install dependencies"
   ]
  },
  {
   "cell_type": "code",
   "execution_count": null,
   "metadata": {},
   "outputs": [],
   "source": [
    "!pip install up42-py --upgrade rasterio geopandas matplotlib contextily -q\n",
    "\n",
    "import pathlib\n",
    "\n",
    "import up42\n",
    "\n",
    "import rasterio\n",
    "import geopandas as gpd\n",
    "import matplotlib.pyplot as plt\n",
    "import contextily as ctx"
   ]
  },
  {
   "cell_type": "markdown",
   "metadata": {},
   "source": [
    "### 2. Authenticate\n",
    "\n",
    "Create a `credentials.json` file in a directory named `.up42` under your home directory by running the cell below. The path to the file will be `~/.up42/credentials.json`."
   ]
  },
  {
   "cell_type": "code",
   "execution_count": null,
   "metadata": {},
   "outputs": [],
   "source": [
    "# Define the credentials file path if it doesn't exist\n",
    "credentials_file_path = pathlib.Path.home().joinpath(\".up42/credentials.json\")\n",
    "credentials_file_path.parent.mkdir(parents=True, exist_ok=True)\n",
    "credentials_file_path.touch(exist_ok=True)\n",
    "\n",
    "# Print the path to the file\n",
    "print(f\"Credentials file is located at: {credentials_file_path}\")"
   ]
  },
  {
   "cell_type": "markdown",
   "metadata": {},
   "source": [
    "1. Click the link above to the created file and paste the following code:\n",
    "    ```\n",
    "    {\n",
    "    \"username\": \"<your-email-address>\",\n",
    "    \"password\": \"<your-password>\"\n",
    "    }\n",
    "    ```\n",
    "2. Retrieve the email address and password used for logging into the console. Use them as values for `username` and `password`.\n",
    "3. Save the `credentials.json` file.\n",
    "4. Check that the authentication was successful as follows:"
   ]
  },
  {
   "cell_type": "code",
   "execution_count": null,
   "metadata": {},
   "outputs": [],
   "source": [
    "up42.authenticate(cfg_file=credentials_file_path)"
   ]
  },
  {
   "cell_type": "markdown",
   "metadata": {},
   "source": [
    "### 3. Create a PySTAC client connection"
   ]
  },
  {
   "cell_type": "code",
   "execution_count": null,
   "metadata": {},
   "outputs": [],
   "source": [
    "UP42_client = up42.stac_client()"
   ]
  },
  {
   "cell_type": "markdown",
   "metadata": {},
   "source": [
    "## Step 2. Search for STAC items\n",
    "\n",
    "You can make a [detailed search request](https://docs.up42.com/developers/api-stac#detailed-search) to find specific STAC items in your storage."
   ]
  },
  {
   "cell_type": "markdown",
   "metadata": {},
   "source": [
    "### Search by tags"
   ]
  },
  {
   "cell_type": "code",
   "execution_count": null,
   "metadata": {},
   "outputs": [],
   "source": [
    "# This filter searches for STAC items that contain \"SPOT\" and \"Orthorectified\" tags\n",
    "filter = {\n",
    "    \"op\": \"a_contains\",\n",
    "    \"args\": [\n",
    "        {\"property\": \"tags\"},\n",
    "        [\"SPOT\", \"Orthorectified\"],\n",
    "    ],\n",
    "}\n",
    "\n",
    "# Perform the search\n",
    "stac_items_search = UP42_client.search(filter=filter)\n",
    "\n",
    "# Iterate through each STAC item and print selected details\n",
    "for stac_item in stac_items_search.items():\n",
    "    print(f\"STAC item ID:        {stac_item.id}\")\n",
    "    print(f\"Tags:                {stac_item.properties['up42-user:tags']}\\n\")"
   ]
  },
  {
   "cell_type": "markdown",
   "metadata": {},
   "source": [
    "### Search by order ID"
   ]
  },
  {
   "cell_type": "code",
   "execution_count": null,
   "metadata": {},
   "outputs": [],
   "source": [
    "# Define an order ID\n",
    "order_id = \"68567134-27ad-7bd7-4b65-d61adb11fc78\"\n",
    "\n",
    "# This filter searches for STAC items associated with the defined order ID\n",
    "filter = {\n",
    "    \"op\": \"=\",\n",
    "    \"args\": [\n",
    "        {\"property\": \"order_id\"},\n",
    "        order_id,\n",
    "    ],\n",
    "}\n",
    "\n",
    "# Perform the search\n",
    "stac_items_search = UP42_client.search(filter=filter)\n",
    "\n",
    "# Iterate through each STAC item and print selected details\n",
    "for stac_item in stac_items_search.items():\n",
    "    print(f\"STAC item ID:        {stac_item.id}\")\n",
    "    print(f\"Order ID:            {stac_item.properties['up42-order:id']}\\n\")"
   ]
  },
  {
   "cell_type": "markdown",
   "metadata": {},
   "source": [
    "### Search by date"
   ]
  },
  {
   "cell_type": "code",
   "execution_count": null,
   "metadata": {},
   "outputs": [],
   "source": [
    "# This filter searches for STAC items acquired between March 21, 2023, and April 18, 2023\n",
    "filter = {\n",
    "    \"op\": \"t_overlaps\",\n",
    "    \"args\": [\n",
    "      {\n",
    "        \"property\": \"datetime\"\n",
    "      },\n",
    "      {\n",
    "        \"interval\": [\"2023-03-21T00:00:00.000Z\", \"2023-04-18T00:00:00.000Z\"]\n",
    "      }\n",
    "    ]\n",
    "  }\n",
    "\n",
    "# Perform the search\n",
    "stac_items_search = UP42_client.search(filter=filter)\n",
    "\n",
    "# Iterate through each STAC item and print selected details\n",
    "for stac_item in stac_items_search.items():\n",
    "    print(f\"STAC item ID:        {stac_item.id}\")\n",
    "    print(f\"Acquisition date:    {stac_item.properties['datetime']}\\n\")\n"
   ]
  },
  {
   "cell_type": "markdown",
   "metadata": {},
   "source": [
    "### Search by cloud coverage"
   ]
  },
  {
   "cell_type": "code",
   "execution_count": null,
   "metadata": {},
   "outputs": [],
   "source": [
    "# This filter searches for STAC items with cloud coverage between 4% and 5%\n",
    "filter = {\n",
    "    \"op\": \"and\",\n",
    "    \"args\": [\n",
    "      {\n",
    "        \"op\": \">=\",\n",
    "        \"args\": [\n",
    "          {\n",
    "            \"property\": \"eo:cloud_cover\"\n",
    "          },\n",
    "          4.0\n",
    "        ]\n",
    "      },\n",
    "      {\n",
    "        \"op\": \"<=\",\n",
    "        \"args\": [\n",
    "          {\n",
    "            \"property\": \"eo:cloud_cover\"\n",
    "          },\n",
    "          5.0\n",
    "        ]\n",
    "      }\n",
    "    ]\n",
    "  }\n",
    "\n",
    "# Perform the search\n",
    "stac_items_search = UP42_client.search(filter=filter)\n",
    "\n",
    "# Iterate through each STAC item and print selected details\n",
    "for stac_item in stac_items_search.items():\n",
    "    print(f\"STAC item ID:      {stac_item.id}\")\n",
    "    print(f\"Cloud coverage:    {stac_item.properties['eo:cloud_cover']}\\n\")\n"
   ]
  },
  {
   "cell_type": "markdown",
   "metadata": {},
   "source": [
    "## Step 3. Download and visualize results\n",
    "\n",
    "### 1. Download results\n",
    "\n",
    "Select desired bands and download respective asset."
   ]
  },
  {
   "cell_type": "code",
   "execution_count": null,
   "metadata": {},
   "outputs": [],
   "source": [
    "from pathlib import Path\n",
    "\n",
    "selected_bands = {\"red\", \"green\", \"blue\"}\n",
    "assets_with_bands = []\n",
    "for asset in stac_item.assets.values():\n",
    "    bands = asset.extra_fields.get(\"eo:bands\", None)\n",
    "    if not bands:\n",
    "        continue\n",
    "    band_names = [band.get(\"name\") for band in bands]    \n",
    "    if selected_bands.issubset(set(band_names)):\n",
    "        matching_asset = asset\n",
    "        break\n",
    "\n",
    "rgb_file = matching_asset.file\n",
    "local_rgb = rgb_file.download(output_directory=Path.home()) # download asset to your home directory"
   ]
  },
  {
   "cell_type": "markdown",
   "metadata": {},
   "source": [
    "### 2. Visualize results\n",
    "\n",
    "To visualize results on a map, retrieve the TIF files paths from the asset folder."
   ]
  },
  {
   "cell_type": "code",
   "execution_count": null,
   "metadata": {},
   "outputs": [],
   "source": [
    "aoi_geojson = {\n",
    "  \"type\": \"FeatureCollection\",\n",
    "  \"features\": [\n",
    "    {\n",
    "      \"type\": \"Feature\",\n",
    "      \"properties\": {},\n",
    "      \"geometry\": {\n",
    "        \"coordinates\": [\n",
    "          [\n",
    "            [ -74.8500, 10.950 ],\n",
    "            [ -74.8500, 11.050 ],\n",
    "            [ -74.7900, 11.050 ],\n",
    "            [ -74.7900, 10.950 ],\n",
    "            [ -74.8500, 10.950 ]\n",
    "          ]\n",
    "        ],\n",
    "        \"type\": \"Polygon\"\n",
    "      }\n",
    "    }\n",
    "  ]\n",
    "}\n",
    "\n",
    "gdf = gpd.GeoDataFrame.from_features(aoi_geojson)\n",
    "gdf = gdf.set_crs('EPSG:4326')\n",
    "gdf_proj = gdf.to_crs(epsg=stac_item.properties[\"proj:code\"])\n",
    "\n",
    "f, ax = plt.subplots(1, 1)\n",
    "with rasterio.open(local_rgb) as src:\n",
    "    gdf_proj.plot(ax=ax, alpha=0.5) # AOI used for search\n",
    "    ctx.add_basemap(ax, crs=stac_item.properties[\"proj:code\"], source=ctx.providers.CartoDB.Positron)\n",
    "    rasterio.plot.show(src, ax=ax, alpha=0.6) # Resulting asset from the search\n",
    "    plt.show()\n",
    "\n",
    "# Read raster file with rasterio\n",
    "raster = rasterio.open(rgb_file)\n",
    "rasterio.plot.show(raster)"
   ]
  }
 ],
 "metadata": {
  "kernelspec": {
   "display_name": "Python 3",
   "language": "python",
   "name": "python3"
  },
  "language_info": {
   "codemirror_mode": {
    "name": "ipython",
    "version": 3
   },
   "file_extension": ".py",
   "mimetype": "text/x-python",
   "name": "python",
   "nbconvert_exporter": "python",
   "pygments_lexer": "ipython3",
   "version": "3.9.6"
  }
 },
 "nbformat": 4,
 "nbformat_minor": 4
}
