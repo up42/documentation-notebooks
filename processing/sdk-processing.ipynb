{
 "cells": [
  {
   "cell_type": "markdown",
   "metadata": {},
   "source": [
    "# Run processing\n",
    "\n",
    "Augment your data with processing algorithms."
   ]
  },
  {
   "cell_type": "markdown",
   "metadata": {},
   "source": [
    "## Step 1. Set up the notebook"
   ]
  },
  {
   "cell_type": "markdown",
   "metadata": {},
   "source": [
    "### 1. Install dependencies"
   ]
  },
  {
   "cell_type": "code",
   "execution_count": null,
   "metadata": {},
   "outputs": [],
   "source": [
    "!pip install up42-py --upgrade -q\n",
    "\n",
    "import up42, pathlib\n",
    "from up42 import processing_templates"
   ]
  },
  {
   "cell_type": "markdown",
   "metadata": {},
   "source": [
    "### 2. Authenticate\n",
    "\n",
    "Create a `credentials.json` file in a directory named `.up42` under your home directory by running the cell below. The path to the file will be `~/.up42/credentials.json`."
   ]
  },
  {
   "cell_type": "code",
   "execution_count": null,
   "metadata": {},
   "outputs": [],
   "source": [
    "# Define the credentials file path if it doesn't exist\n",
    "credentials_file_path = pathlib.Path.home().joinpath(\".up42/credentials.json\")\n",
    "credentials_file_path.parent.mkdir(parents=True, exist_ok=True)\n",
    "credentials_file_path.touch(exist_ok=True)\n",
    "\n",
    "# Print the path to the file\n",
    "print(f\"Credentials file is located at: {credentials_file_path}\")"
   ]
  },
  {
   "cell_type": "markdown",
   "metadata": {},
   "source": [
    "1. Click the link above to the created file and paste the following code:\n",
    "    ```json\n",
    "    {\n",
    "        \"username\": \"<your-email-address>\",\n",
    "        \"password\": \"<your-password>\"\n",
    "    }\n",
    "    ```\n",
    "2. Retrieve the email address and password used for logging into the console. Use them as values for username and password.\n",
    "3. Save the `credentials.json` file.\n",
    "4. Check that the authentication was successful as follows:"
   ]
  },
  {
   "cell_type": "code",
   "execution_count": null,
   "metadata": {},
   "outputs": [],
   "source": [
    "up42.authenticate(cfg_file=credentials_file_path)"
   ]
  },
  {
   "cell_type": "markdown",
   "metadata": {},
   "source": [
    "## Step 2. Select a process\n",
    "\n",
    "[Processes](https://docs.up42.com/processing/processes) are algorithms that you can apply to STAC items in your storage. There are two types of processes:\n",
    "\n",
    "- Enhancement processes that pre-process imagery to improve its visual quality.\n",
    "- Analytics processes that extract insights from imagery.\n",
    "\n",
    "[Retrieve the class name](https://docs.up42.com/sdk/reference/sdk-processing-templates) of the process you want to run.\n",
    "\n",
    "If you want to run the chosen process for the first time, review and accept its end-user license agreement (EULA) in one of the following ways:\n",
    "\n",
    "- [Via the console](https://docs.up42.com/getting-started/account/eulas)\n",
    "- [Via the API](https://docs.up42.com/developers/api-eulas)\n",
    "\n",
    "If a EULA is updated, you need to re-accept it before creating your next job."
   ]
  },
  {
   "cell_type": "markdown",
   "metadata": {},
   "source": [
    "## Step 3. Prepare input parameters\n",
    "\n",
    "### 1. Select input STAC items\n",
    "\n",
    "Select input STAC items and add a title to your job template."
   ]
  },
  {
   "cell_type": "code",
   "execution_count": null,
   "metadata": {},
   "outputs": [],
   "source": [
    "# Add a job title, required for all processes\n",
    "title = \"Processing data over Berlin\"\n",
    "\n",
    "# For processes with one input item, select a single item\n",
    "stac_item_id = \"a32d4e56-2dd2-4094-981f-00d73edb7c45\"\n",
    "\n",
    "# Get a single item from the STAC client\n",
    "stac_client = up42.stac_client()\n",
    "stac_item = next(stac_client.get_items(stac_item_id))\n",
    "\n",
    "# For processes with several input items, select multiple items\n",
    "# stac_item1_id = \"68567134-27ad-7bd7-4b65-d61adb11fc78\"\n",
    "# stac_item2_id = \"c3de9ed8-f6e5-4bb5-a157-f6430ba756da\"\n",
    "\n",
    "# Get multiple items from the STAC client\n",
    "# stac_client = up42.stac_client()\n",
    "# stac_item1 = next(stac_client.get_items(stac_item1_id))\n",
    "# stac_item2 = next(stac_client.get_items(stac_item2_id))"
   ]
  },
  {
   "cell_type": "markdown",
   "metadata": {},
   "source": [
    "### 2. Create a job template\n",
    "\n",
    "Create a template by specifying the values of the input parameters for the process you have selected."
   ]
  },
  {
   "cell_type": "code",
   "execution_count": null,
   "metadata": {},
   "outputs": [],
   "source": [
    "# Processes have different input parameters, but most of them only require a job title and a STAC item as DetectionAircraftOI\n",
    "job_template = processing_templates.DetectionAircraftOI(\n",
    "    title=title,\n",
    "    item=stac_item\n",
    ")\n",
    "\n",
    "# This example required 2 input STAC items\n",
    "# job_template = processing_templates.DetectionChangePleiadesHyperverge(\n",
    "#    title=title,\n",
    "#    items=[stac_item1, stac_item2]\n",
    "# )"
   ]
  },
  {
   "cell_type": "markdown",
   "metadata": {},
   "source": [
    "### 3. Validate your input\n",
    "\n",
    "Check the validity of your job template."
   ]
  },
  {
   "cell_type": "code",
   "execution_count": null,
   "metadata": {},
   "outputs": [],
   "source": [
    "# Assert that the job is valid, print errors if not\n",
    "if not job_template.is_valid:\n",
    "  for error in job_template.errors:\n",
    "    print(f\"{error}\\n\")"
   ]
  },
  {
   "cell_type": "markdown",
   "metadata": {},
   "source": [
    "## Step 4. Determine the cost\n",
    "\n",
    "Check the cost of a valid job template."
   ]
  },
  {
   "cell_type": "code",
   "execution_count": null,
   "metadata": {},
   "outputs": [],
   "source": [
    "# Verify that the template cost is less than or equal to the price you selected\n",
    "# This example checks the job estimation is below 100 credits\n",
    "acceptable_cost = 100\n",
    "\n",
    "if job_template.cost <= acceptable_cost:\n",
    "  print(f\"Template cost:       {job_template.cost.credits} credits\")\n",
    "  print(f\"Template strategy:   {job_template.cost.strategy}\")\n",
    "  print(f\"STAC item size:      {job_template.cost.size}\")\n",
    "  print(f\"Unit of measurement: {job_template.cost.unit}\")\n",
    "\n",
    "else:\n",
    "  print(f\"Template cost is higher than {acceptable_cost} credits\")\n"
   ]
  },
  {
   "cell_type": "markdown",
   "metadata": {},
   "source": [
    "## Step 5. Run a process"
   ]
  },
  {
   "cell_type": "code",
   "execution_count": null,
   "metadata": {},
   "outputs": [],
   "source": [
    "job = job_template.execute()\n",
    "\n",
    "print(f\"Job details for ID: {job.id}\")\n",
    "print(f\"Process ID:         {job.process_id}\")\n",
    "print(f\"Status:             {job.status.value}\")\n",
    "print(f\"Price:              {job.credits or 'N/A'} credits\")\n",
    "print(f\"Created at:         {job.created}\")"
   ]
  },
  {
   "cell_type": "markdown",
   "metadata": {},
   "source": [
    "## Step 6. Monitor a job\n",
    "\n",
    "### Track job statuses\n",
    "\n",
    "The `track` instance method allows you to track the job status until it changes to `CAPTURED` or `RELEASED`."
   ]
  },
  {
   "cell_type": "code",
   "execution_count": null,
   "metadata": {},
   "outputs": [],
   "source": [
    "# This will print a status log to your console every 20 seconds\n",
    "# and will PAUSE the script here until the job is done\n",
    "job.track(wait=20)\n",
    "\n",
    "# This line will only run AFTER the job has finished tracking\n",
    "print(\"\\nTracking complete!\")\n",
    "print(f\"The final job status is: {job.status.value}\")"
   ]
  },
  {
   "cell_type": "markdown",
   "metadata": {},
   "source": [
    "## Step 7. Download processing results\n",
    "\n",
    "In a successfully completed job, get the resulting STAC collection."
   ]
  },
  {
   "cell_type": "code",
   "execution_count": null,
   "metadata": {},
   "outputs": [],
   "source": [
    "if job.status == up42.JobStatus.CAPTURED:\n",
    "    print(f\"STAC collection ID: {job.collection.id}\")"
   ]
  }
 ],
 "metadata": {
  "colab": {
   "provenance": []
  },
  "kernelspec": {
   "display_name": "Python 3",
   "language": "python",
   "name": "python3"
  },
  "language_info": {
   "codemirror_mode": {
    "name": "ipython",
    "version": 3
   },
   "file_extension": ".py",
   "mimetype": "text/x-python",
   "name": "python",
   "nbconvert_exporter": "python",
   "pygments_lexer": "ipython3",
   "version": "3.9.6"
  }
 },
 "nbformat": 4,
 "nbformat_minor": 4
}
