{
 "cells": [
  {
   "cell_type": "markdown",
   "metadata": {},
   "source": [
    "# Run processing\n",
    "\n",
    "Augment your data with processing algorithms.\n",
    "\n",
    "- <a href=\"#step-1\">1. Set up the notebook</a>\n",
    "- <a href=\"#step-2\">2. Select a process</a>\n",
    "- <a href=\"#step-3\">3. Prepare input parameters</a>\n",
    "- <a href=\"#step-4\">4. Determine the cost</a>\n",
    "- <a href=\"#step-5\">5. Run a process</a>\n",
    "- <a href=\"#step-6\">6. Monitor a job</a>\n",
    "- <a href=\"#step-7\">7. Download processing results</a>"
   ]
  },
  {
   "cell_type": "markdown",
   "metadata": {},
   "source": [
    "## <a id=\"step-1\"></a> 1. Set up the notebook"
   ]
  },
  {
   "cell_type": "markdown",
   "metadata": {},
   "source": [
    "### 1. Install prerequisites"
   ]
  },
  {
   "cell_type": "code",
   "execution_count": 1,
   "metadata": {},
   "outputs": [],
   "source": [
    "!pip install up42-py\n",
    "\n",
    "import up42, os\n",
    "from up42 import processing_templates"
   ]
  },
  {
   "cell_type": "markdown",
   "metadata": {},
   "source": [
    "### 2. Authenticate\n",
    "\n",
    "Create a `credentials.json` file in a directory named `.up42` under your home directory by running the cell below. The path to the file will be `~/.up42/credentials.json`."
   ]
  },
  {
   "cell_type": "code",
   "execution_count": 2,
   "metadata": {},
   "outputs": [
    {
     "name": "stdout",
     "output_type": "stream",
     "text": [
      "The file /Users/max.mustermann/.up42/credentials.json already exists.\n"
     ]
    }
   ],
   "source": [
    "# Define the directory path\n",
    "up42_directory = os.path.expanduser(\"~/.up42\")\n",
    "\n",
    "# Create the directory if it doesn't exist\n",
    "if not os.path.exists(up42_directory):\n",
    "    os.makedirs(up42_directory)\n",
    "\n",
    "# Specify the file path\n",
    "credentials_file_path = os.path.join(up42_directory, \"credentials.json\")\n",
    "\n",
    "# Check if the file already exists before creating it\n",
    "if not os.path.exists(credentials_file_path):\n",
    "    # Create an empty credentials.json file\n",
    "    with open(credentials_file_path, \"w\") as credentials_file:\n",
    "        print(f\"The file {credentials_file_path} has been created.\")\n",
    "        pass\n",
    "else:\n",
    "    print(f\"The file {credentials_file_path} already exists.\")"
   ]
  },
  {
   "cell_type": "markdown",
   "metadata": {},
   "source": [
    "1. Click the link above to the created file and paste the following code:\n",
    "    ```json\n",
    "    {\n",
    "        \"username\": \"<your-email-address>\",\n",
    "        \"password\": \"<your-password>\"\n",
    "    }\n",
    "    ```\n",
    "2. Retrieve the email address and password used for logging into the console. Use them as values for username and password.\n",
    "3. Save the `credentials.json` file.\n",
    "4. Check that the authentication was successful as follows:"
   ]
  },
  {
   "cell_type": "code",
   "execution_count": 3,
   "metadata": {},
   "outputs": [
    {
     "name": "stderr",
     "output_type": "stream",
     "text": [
      "2024-07-17 14:23:31,579 - Authentication with UP42 successful!\n"
     ]
    }
   ],
   "source": [
    "up42.authenticate(cfg_file=credentials_file_path)"
   ]
  },
  {
   "cell_type": "markdown",
   "metadata": {},
   "source": [
    "## <a id=\"step-2\"></a> 2. Select a process\n",
    "\n",
    "[Processes](https://docs.up42.com/processing/processes) are algorithms that you can apply to [STAC items](https://docs.up42.com/developers/api-stac#items) in your storage. There are two types of processes:\n",
    "\n",
    "- [Enhancement](https://docs.up42.com/processing/processes/enhancement) processes that pre-process imagery to improve its visual quality.\n",
    "- [Analytics](https://docs.up42.com/processing/processes/analytics) processes that extract insights from imagery.\n",
    "\n",
    "[Retrieve the class name](https://github.com/up42/up42-py/blob/master/up42/processing_templates.py) of the process you want to run.\n",
    "\n",
    "If you want to run the chosen process for the first time, review and accept its end-user license agreement (EULA) in one of the following ways:\n",
    "\n",
    "- [Via the console](https://docs.up42.com/getting-started/account/eulas)\n",
    "- [Via the API](https://docs.up42.com/developers/api-eulas)\n",
    "\n",
    "If a EULA is updated, you need to re-accept it before creating your next job."
   ]
  },
  {
   "cell_type": "markdown",
   "metadata": {},
   "source": [
    "## <a id=\"step-3\"></a> 3. Prepare input parameters\n",
    "\n",
    "### 1. Select input STAC items\n",
    "\n",
    "You need asset IDs of one or several input STAC items you will apply the selected process to. Retrieve asset IDs in one of the following ways:\n",
    "\n",
    "- [Retrieve IDs of specific assets](https://github.com/up42/documentation-notebooks/blob/main/storage/sdk-storage-assets.ipynb)\n",
    "- [Retrieve IDs of assets delivered as part of a specific order](https://github.com/up42/documentation-notebooks/blob/main/storage/sdk-order-assets.ipynb)"
   ]
  },
  {
   "cell_type": "code",
   "execution_count": 4,
   "metadata": {},
   "outputs": [],
   "source": [
    "item_id = \"68567134-27ad-7bd7-4b65-d61adb11fc78\"\n",
    "title = \"Process_example_SDK\"\n",
    "\n",
    "# If you have selected a process with 1 input STAC item\n",
    "stac_client = up42.stac_client()\n",
    "stac_item = next(stac_client.get_items(item_id))\n",
    "\n",
    "\n",
    "# If you have selected a process with 2 input STAC items\n",
    "# stac_item1 = next(stac_client.get_items(item_id))\n",
    "# stac_item2 = next(stac_client.get_items(another_item_id))"
   ]
  },
  {
   "cell_type": "markdown",
   "metadata": {},
   "source": [
    "### 2. Create a job template\n",
    "\n",
    "Create a template by specifying the values of the [input parameters](https://github.com/up42/up42-py/blob/master/up42/processing_templates.py) for the process you have selected."
   ]
  },
  {
   "cell_type": "code",
   "execution_count": 5,
   "metadata": {},
   "outputs": [],
   "source": [
    "# Processes have different input parameters, but most of them only require a job title and a STAC item as DetectionAircraftOI\n",
    "template = processing_templates.DetectionAircraftOI(\n",
    "    title=title,\n",
    "    item=stac_item\n",
    ")\n",
    "\n",
    "# template = processing_templates.DetectionChangePleiadesHyperverge(\n",
    "#    title=title,\n",
    "#    items=[stac_item1, stac_item2]\n",
    "# )"
   ]
  },
  {
   "cell_type": "markdown",
   "metadata": {},
   "source": [
    "### 3. Validate your input\n",
    "\n",
    "Check the validity of your job template."
   ]
  },
  {
   "cell_type": "code",
   "execution_count": 6,
   "metadata": {},
   "outputs": [],
   "source": [
    "if not template.is_valid:\n",
    "    print(template.errors)"
   ]
  },
  {
   "cell_type": "markdown",
   "metadata": {},
   "source": [
    "## <a id=\"step-4\"></a> 4. Determine the cost\n",
    "\n",
    "Check the cost of a valid job template."
   ]
  },
  {
   "cell_type": "code",
   "execution_count": 7,
   "metadata": {},
   "outputs": [
    {
     "data": {
      "text/plain": [
       "Cost(strategy='area', credits=21, size=5.039398810389698, unit='SQ_KM')"
      ]
     },
     "execution_count": 7,
     "metadata": {},
     "output_type": "execute_result"
    }
   ],
   "source": [
    "acceptable_cost = 100 # In UP42 credits\n",
    "assert template.cost <= acceptable_cost\n",
    "template.cost"
   ]
  },
  {
   "cell_type": "markdown",
   "metadata": {},
   "source": [
    "## <a id=\"step-5\"></a> 5. Run a process"
   ]
  },
  {
   "cell_type": "code",
   "execution_count": 8,
   "metadata": {},
   "outputs": [],
   "source": [
    "job = template.execute()\n",
    "job"
   ]
  },
  {
   "cell_type": "markdown",
   "metadata": {},
   "source": [
    "## <a id=\"step-6\"></a> 6. Monitor a job\n",
    "\n",
    "### Track job statuses\n",
    "\n",
    "The `track` instance method allows you to track the job status until it changes to `CAPTURED` or `RELEASED`. It will query the job status every 60 seconds for 3 days."
   ]
  },
  {
   "cell_type": "code",
   "execution_count": 9,
   "metadata": {},
   "outputs": [],
   "source": [
    "job.track()"
   ]
  },
  {
   "cell_type": "markdown",
   "metadata": {},
   "source": [
    "### Search for specific jobs"
   ]
  },
  {
   "cell_type": "code",
   "execution_count": 10,
   "metadata": {},
   "outputs": [],
   "source": [
    "workspace_id = \"a0d443a2-41e8-4995-8b54-a5cc4c448227\" # Your workspace ID\n",
    "process_filter = [ # List of processes to search among\n",
    "    processing_templates.Pansharpening.process_id,\n",
    "    processing_templates.DetectionChangeSpacept.process_id,\n",
    "]\n",
    "\n",
    "# Sort by credit amount, from the least to the most expensive\n",
    "sort_filter = up42.JobSorting.credits.asc\n",
    "\n",
    "jobs = up42.Job.all(\n",
    "#    process_id=process_filter,\n",
    "#    workspace_id=workspace_id,\n",
    "#    sort_by=sort_filter,\n",
    "#    min_duration=20, # In seconds\n",
    "#    max_duration=1000, # In seconds\n",
    ")\n",
    "for job in jobs:\n",
    "    print(job)"
   ]
  },
  {
   "cell_type": "markdown",
   "metadata": {},
   "source": [
    "### Retrieve a job by its ID"
   ]
  },
  {
   "cell_type": "code",
   "execution_count": 11,
   "metadata": {},
   "outputs": [],
   "source": [
    "queried_job = up42.Job.get(job.id)\n",
    "queried_job"
   ]
  },
  {
   "cell_type": "markdown",
   "metadata": {},
   "source": [
    "## <a id=\"step-6\"></a> 7. Download processing results\n",
    "\n",
    "In a successfully completed job, use its `collection_url` to get the resulting STAC collection."
   ]
  },
  {
   "cell_type": "code",
   "execution_count": 12,
   "metadata": {},
   "outputs": [],
   "source": [
    "if job.status == up42.JobStatus.CAPTURED:\n",
    "    print(job.collection_url)"
   ]
  },
  {
   "cell_type": "markdown",
   "metadata": {},
   "source": [
    "Alternatively, use `job.collection` to obtain the `pystac.Collection` object directly."
   ]
  },
  {
   "cell_type": "code",
   "execution_count": 13,
   "metadata": {},
   "outputs": [],
   "source": [
    "job.collection"
   ]
  }
 ],
 "metadata": {
  "colab": {
   "provenance": []
  },
  "kernelspec": {
   "display_name": "Python 3 (ipykernel)",
   "language": "python",
   "name": "python3"
  },
  "language_info": {
   "codemirror_mode": {
    "name": "ipython",
    "version": 3
   },
   "file_extension": ".py",
   "mimetype": "text/x-python",
   "name": "python",
   "nbconvert_exporter": "python",
   "pygments_lexer": "ipython3",
   "version": "3.11.3"
  }
 },
 "nbformat": 4,
 "nbformat_minor": 4
}
