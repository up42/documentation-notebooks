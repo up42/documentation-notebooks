{
 "cells": [
  {
   "cell_type": "markdown",
   "id": "7fdb6b64-a9d6-4010-a926-a215016ec1ca",
   "metadata": {},
   "source": [
    "# Pansharpening\n",
    "\n",
    "A fusion algorithm that upsamples the image to the resolution of the panchromatic band. For more information, see [Pansharpening](https://docs.up42.com/processing-platform/advanced/pansharpening).\n",
    "\n",
    "## Step 1. Set up the notebook\n",
    "\n",
    "### 1. Install prerequisites"
   ]
  },
  {
   "cell_type": "code",
   "execution_count": 1,
   "id": "25b11806-1e4c-44f6-9248-90af4f1d4364",
   "metadata": {},
   "outputs": [
    {
     "name": "stdout",
     "output_type": "stream",
     "text": [
      "Requirement already satisfied: requests in /opt/homebrew/lib/python3.11/site-packages (2.31.0)\n",
      "Requirement already satisfied: charset-normalizer<4,>=2 in /opt/homebrew/lib/python3.11/site-packages (from requests) (3.1.0)\n",
      "Requirement already satisfied: idna<4,>=2.5 in /opt/homebrew/lib/python3.11/site-packages (from requests) (3.4)\n",
      "Requirement already satisfied: urllib3<3,>=1.21.1 in /opt/homebrew/lib/python3.11/site-packages (from requests) (1.26.14)\n",
      "Requirement already satisfied: certifi>=2017.4.17 in /opt/homebrew/lib/python3.11/site-packages (from requests) (2022.12.7)\n",
      "Note: you may need to restart the kernel to use updated packages.\n"
     ]
    }
   ],
   "source": [
    "%pip install requests\n",
    "\n",
    "import requests, json, os"
   ]
  },
  {
   "cell_type": "markdown",
   "id": "fc6e3342",
   "metadata": {},
   "source": [
    "### 2. Authenticate\n",
    "\n",
    "Create a `credentials.json` file in a directory named `.up42` under your home directory by running the cell below. The path to the file will be `~/.up42/credentials.json`."
   ]
  },
  {
   "cell_type": "code",
   "execution_count": 2,
   "id": "8203557c",
   "metadata": {},
   "outputs": [
    {
     "name": "stdout",
     "output_type": "stream",
     "text": [
      "The file /Users/max.mustermann/.up42/credentials.json already exists.\n"
     ]
    }
   ],
   "source": [
    "# Define the directory path\n",
    "up42_directory = os.path.expanduser(\"~/.up42\")\n",
    "\n",
    "# Create the directory if it doesn't exist\n",
    "if not os.path.exists(up42_directory):\n",
    "    os.makedirs(up42_directory)\n",
    "\n",
    "# Specify the file path\n",
    "credentials_file_path = os.path.join(up42_directory, \"credentials.json\")\n",
    "\n",
    "# Check if the file already exists before creating it\n",
    "if not os.path.exists(credentials_file_path):\n",
    "    # Create an empty credentials.json file\n",
    "    with open(credentials_file_path, \"w\") as credentials_file:\n",
    "        print(f\"The file {credentials_file_path} has been created.\")\n",
    "        pass\n",
    "else:\n",
    "    print(f\"The file {credentials_file_path} already exists.\")\n"
   ]
  },
  {
   "cell_type": "markdown",
   "id": "09e55038",
   "metadata": {},
   "source": [
    "1. Click the link above to the created file and paste the following code:\n",
    "    ```json\n",
    "    {\n",
    "      \"username\": \"<your-email-address>\",\n",
    "      \"password\": \"<your-password>\"\n",
    "    }\n",
    "    ```\n",
    "2. Retrieve the [email address and password](https://docs.up42.com/getting-started/account/management) used for logging into the [console](https://console.up42.com/?utm_source=documentation). Use them as values for `username` and `password`.\n",
    "3. Save the `credentials.json` file.\n",
    "4. Check that the authentication was successful as follows:"
   ]
  },
  {
   "cell_type": "code",
   "execution_count": 3,
   "id": "18376624",
   "metadata": {},
   "outputs": [],
   "source": [
    "# Load credentials\n",
    "with open(credentials_file_path, \"r\") as f:\n",
    "    credentials = json.load(f)\n",
    "\n",
    "# Check that authentication works\n",
    "def auth(username, password):\n",
    "\n",
    "    response = requests.post(\n",
    "        f\"https://api.up42.com/oauth/token\",\n",
    "        data=dict(grant_type=\"password\",\n",
    "                  username=username,\n",
    "                  password=password)\n",
    "    )\n",
    "\n",
    "    result = response.json()\n",
    "    return result[\"data\"][\"accessToken\"]\n",
    "\n",
    "class BearerAuth(requests.auth.AuthBase):\n",
    "    def __init__(self, token):\n",
    "        self.token = token\n",
    "    def __call__(self, r):\n",
    "        r.headers[\"authorization\"] = \"Bearer \" + self.token\n",
    "        return r\n",
    "\n",
    "token = auth(credentials[\"username\"], credentials[\"password\"])"
   ]
  },
  {
   "cell_type": "markdown",
   "id": "df6db9a4-8c32-4e59-8558-64f1719959c6",
   "metadata": {},
   "source": [
    "## Step 2. Define input"
   ]
  },
  {
   "cell_type": "markdown",
   "id": "403eca95-ce39-4c91-ade3-eadde9852597",
   "metadata": {},
   "source": [
    "Before selecting a STAC item, check the [requirements for input imagery](https://docs.up42.com/processing-platform/advanced/pansharpening#requirements-for-input-imagery).\n",
    "\n",
    "The process is performed at a STAC item level. To run the process, you need to have a link to the STAC item you want to apply the algorithm to, in the following format: `https://api.up42.com/v2/assets/stac/collections/{collection-id}/items/{item-id}`. "
   ]
  },
  {
   "cell_type": "code",
   "execution_count": 4,
   "id": "23d1a9af",
   "metadata": {},
   "outputs": [],
   "source": [
    "# If you have a STAC item link, define it here\n",
    "self_href = \"https://api.up42.com/v2/assets/stac/collections/{collection-id}/items/{item-id}\""
   ]
  },
  {
   "cell_type": "markdown",
   "id": "bad8687b",
   "metadata": {},
   "source": [
    "If you don't already have a STAC item link, retrieve it using one of following options:\n",
    "\n",
    "1. If you have a STAC collection ID\n",
    "2. If you have an asset ID\n",
    "3. If you want to search for specific STAC items"
   ]
  },
  {
   "cell_type": "markdown",
   "id": "043438ed",
   "metadata": {},
   "source": [
    "### Option 1. If you have a STAC collection ID"
   ]
  },
  {
   "cell_type": "code",
   "execution_count": 5,
   "id": "04eff53b",
   "metadata": {},
   "outputs": [],
   "source": [
    "# Define a STAC collection ID\n",
    "stac_collection_id = \"14371401-97a3-4b23-9b55-c3ac10d47750\""
   ]
  },
  {
   "cell_type": "code",
   "execution_count": 6,
   "id": "d3fc886e-ae7c-45da-a44e-416545f93d86",
   "metadata": {},
   "outputs": [
    {
     "name": "stdout",
     "output_type": "stream",
     "text": [
      "Workspace ID: a0d443a2-41e8-4995-8b54-a5cc4c448227\n",
      "STAC item link: https://api.up42.com/v2/assets/stac/collections/14371401-97a3-4b23-9b55-c3ac10d47750/items/033b4a5a-c492-4eba-915e-2000a0a84049\n"
     ]
    }
   ],
   "source": [
    "# Define STAC search\n",
    "def STAC_search(stac_collection_id):\n",
    "\n",
    "    # Authenticate\n",
    "    token = auth(credentials[\"username\"], credentials[\"password\"])\n",
    "\n",
    "    # Search for item\n",
    "    response = requests.get(\n",
    "        f\"https://api.up42.com/v2/assets/stac/collections/{stac_collection_id}/items\",\n",
    "        auth=BearerAuth(token),\n",
    "    )\n",
    "\n",
    "    return response\n",
    "\n",
    "# Get the search result\n",
    "search_result = STAC_search(stac_collection_id).json()\n",
    "\n",
    "# Extract the href value of the link with the \"self\" relation\n",
    "self_href = next(link[\"href\"] for link in search_result[\"features\"][0][\"links\"] if link[\"rel\"] == \"self\")\n",
    "\n",
    "# Save and print the workspace ID\n",
    "workspace_id = search_result[\"features\"][0][\"properties\"][\"up42-system:workspace_id\"]\n",
    "print(\"Workspace ID:\", workspace_id)\n",
    "\n",
    "# Print the result\n",
    "print(\"STAC item link:\", self_href)\n"
   ]
  },
  {
   "cell_type": "markdown",
   "id": "1db4ab74",
   "metadata": {},
   "source": [
    "### Option 2. If you have an asset ID"
   ]
  },
  {
   "cell_type": "code",
   "execution_count": 7,
   "id": "dcd2ca42",
   "metadata": {},
   "outputs": [],
   "source": [
    "# Define an asset ID\n",
    "asset_id = \"68567134-27ad-7bd7-4b65-d61adb11fc78\""
   ]
  },
  {
   "cell_type": "code",
   "execution_count": 8,
   "id": "c5d11e08",
   "metadata": {},
   "outputs": [
    {
     "name": "stdout",
     "output_type": "stream",
     "text": [
      "Workspace ID: a0d443a2-41e8-4995-8b54-a5cc4c448227\n",
      "STAC item link: https://api.up42.com/v2/assets/stac/collections/14371401-97a3-4b23-9b55-c3ac10d47750/items/033b4a5a-c492-4eba-915e-2000a0a84049\n"
     ]
    }
   ],
   "source": [
    "# Define STAC search\n",
    "def STAC_search(search):\n",
    "\n",
    "    # Authenticate\n",
    "    token = auth(credentials[\"username\"], credentials[\"password\"])\n",
    "\n",
    "    # Search for item\n",
    "    response = requests.post(\n",
    "        f\"https://api.up42.com/v2/assets/stac/search\",\n",
    "        auth=BearerAuth(token),\n",
    "        json=search,\n",
    "    )\n",
    "\n",
    "    return response\n",
    "\n",
    "# Search by asset ID\n",
    "search_by_asset_id = {\n",
    "  \"filter\": {\n",
    "        \"args\": [\n",
    "          {\n",
    "            \"property\": \"asset_id\"\n",
    "          },\n",
    "          asset_id\n",
    "        ],\n",
    "        \"op\": \"=\"\n",
    "      }\n",
    "}\n",
    "\n",
    "# Get the search result\n",
    "search_result = STAC_search(search_by_asset_id).json()\n",
    "\n",
    "# Extract the href value of the link with the \"self\" relation\n",
    "self_href = next(link[\"href\"] for link in search_result[\"features\"][0][\"links\"] if link[\"rel\"] == \"self\")\n",
    "\n",
    "# Save and print the workspace ID\n",
    "workspace_id = search_result[\"features\"][0][\"properties\"][\"up42-system:workspace_id\"]\n",
    "print(\"Workspace ID:\", workspace_id)\n",
    "\n",
    "# Print the result\n",
    "print(\"STAC item link:\", self_href)"
   ]
  },
  {
   "cell_type": "markdown",
   "id": "ea39c9a5",
   "metadata": {},
   "source": [
    "### Option 3. If you want to search for specific STAC items\n",
    "\n",
    "For more information on how to search for specific STAC items, see [CQL2 filters for STAC item search](https://docs.up42.com/developers/api-assets/stac-cql)."
   ]
  },
  {
   "cell_type": "code",
   "execution_count": 9,
   "id": "d302dd86",
   "metadata": {},
   "outputs": [
    {
     "name": "stdout",
     "output_type": "stream",
     "text": [
      "Workspace ID: a0d443a2-41e8-4995-8b54-a5cc4c448227\n",
      "STAC item link: https://api.up42.com/v2/assets/stac/collections/14371401-97a3-4b23-9b55-c3ac10d47750/items/033b4a5a-c492-4eba-915e-2000a0a84049\n"
     ]
    }
   ],
   "source": [
    "# Define STAC search\n",
    "def STAC_search(search):\n",
    "\n",
    "    # Authenticate\n",
    "    token = auth(credentials[\"username\"], credentials[\"password\"])\n",
    "\n",
    "    # Search for item\n",
    "    response = requests.post(\n",
    "        f\"https://api.up42.com/v2/assets/stac/search\",\n",
    "        auth=BearerAuth(token),\n",
    "        json=search,\n",
    "    )\n",
    "\n",
    "    return response\n",
    "\n",
    "# For example, search by tags\n",
    "search = {\n",
    "  \"filter\": {\n",
    "        \"args\": [\n",
    "          {\n",
    "            \"property\": \"tags\"\n",
    "          },\n",
    "          [\"pan-ready\"]\n",
    "        ],\n",
    "        \"op\": \"a_contains\"\n",
    "      }\n",
    "}\n",
    "\n",
    "# Get the search result\n",
    "search_result = STAC_search(search).json()\n",
    "\n",
    "# Extract the href value of the link with the \"self\" relation\n",
    "self_href = next(link[\"href\"] for link in search_result[\"features\"][0][\"links\"] if link[\"rel\"] == \"self\")\n",
    "\n",
    "# Save and print the workspace ID\n",
    "workspace_id = search_result[\"features\"][0][\"properties\"][\"up42-system:workspace_id\"]\n",
    "print(\"Workspace ID:\", workspace_id)\n",
    "\n",
    "# Print the result\n",
    "print(\"STAC item link:\", self_href)"
   ]
  },
  {
   "attachments": {},
   "cell_type": "markdown",
   "id": "56e7ce36-fdc9-4d52-b236-0be2a70eafac",
   "metadata": {},
   "source": [
    "## Step 3. Check your input data\n",
    "\n",
    "To check whether the STAC item has [panchromatic and multispectral bands](https://docs.up42.com/data/reference/spectral-bands), check its STAC assets with the `data` role.\n"
   ]
  },
  {
   "cell_type": "code",
   "execution_count": 10,
   "id": "98f2a127",
   "metadata": {},
   "outputs": [
    {
     "name": "stdout",
     "output_type": "stream",
     "text": [
      "Panchromatic data\n",
      "[{'name': 'pan', 'common_name': 'pan', 'center_wavelength': 0.65, 'full_width_half_max': 0.32}] \n",
      "\n",
      "Multispectral data\n",
      "[{'name': 'blue', 'common_name': 'blue', 'center_wavelength': 0.495, 'full_width_half_max': 0.07}, {'name': 'green', 'common_name': 'green', 'center_wavelength': 0.56, 'full_width_half_max': 0.08}, {'name': 'red', 'common_name': 'red', 'center_wavelength': 0.65, 'full_width_half_max': 0.08}, {'name': 'nir', 'common_name': 'nir', 'center_wavelength': 0.83, 'full_width_half_max': 0.12}] \n",
      "\n"
     ]
    }
   ],
   "source": [
    "# Extract the STAC assets\n",
    "features = search_result.get(\"features\", [])\n",
    "\n",
    "if features:\n",
    "    first_feature = features[0]\n",
    "    assets = first_feature.get(\"assets\", [])\n",
    "\n",
    "    for asset_key, asset_info in assets.items():\n",
    "        roles = asset_info.get(\"roles\", [])\n",
    "\n",
    "        # Check for \"data\" role\n",
    "        if \"data\" in roles:\n",
    "            title = asset_info.get(\"title\", \"\")\n",
    "            bands = asset_info.get(\"eo:bands\", [],)\n",
    "\n",
    "            # Print information\n",
    "            print(title)\n",
    "            print(bands, \"\\n\")\n",
    "\n",
    "else:\n",
    "    print(\"No STAC assets found in the search result.\")"
   ]
  },
  {
   "cell_type": "markdown",
   "id": "48d3e59b-c690-46fa-8d78-aacd2d8e7f12",
   "metadata": {},
   "source": [
    "## Step 4. Run a process\n",
    "\n",
    "### 1. Prepare your request\n",
    "\n",
    "The following body parameters are required:\n",
    "\n",
    "- **Input imagery**: already stored in `self_href`.\n",
    "- **Output title**: define it below.\n",
    "\n",
    "You can also specify [optional parameters](https://docs.up42.com/processing-platform/advanced/pansharpening#input-parameters).\n"
   ]
  },
  {
   "cell_type": "code",
   "execution_count": 12,
   "id": "495a6842",
   "metadata": {},
   "outputs": [],
   "source": [
    "# Define the process\n",
    "process_id = \"pansharpening\"\n",
    "\n",
    "# Define required parameters\n",
    "input_imagery = self_href\n",
    "output_title = \"Pansharpening notebook\"\n",
    "\n",
    "# Define optional parameters\n",
    "# grey_weights = [\n",
    "#    {\"band\": \"blue\", \"weight\": 0.2},\n",
    "#    {\"band\": \"green\", \"weight\": 0.34},\n",
    "#    {\"band\": \"red\", \"weight\": 0.23}\n",
    "# ]\n",
    "\n",
    "# Define job composition\n",
    "job_input = {\n",
    "    \"inputs\": {\n",
    "        \"item\": input_imagery,\n",
    "        \"title\": output_title\n",
    "        }\n",
    "    }"
   ]
  },
  {
   "cell_type": "markdown",
   "id": "4ae5a331-20c8-4f44-a362-7a048686c619",
   "metadata": {},
   "source": [
    "### 2. Validate your input\n",
    "\n",
    "Check the validity of your input against the process schema to ensure that the job can be created with these parameters."
   ]
  },
  {
   "cell_type": "code",
   "execution_count": 13,
   "id": "ab68b8af",
   "metadata": {},
   "outputs": [
    {
     "name": "stdout",
     "output_type": "stream",
     "text": [
      "The input is valid.\n"
     ]
    }
   ],
   "source": [
    "def validate_job(job_input, process_id):\n",
    "\n",
    "    # Authenticate\n",
    "    token = auth(credentials[\"username\"], credentials[\"password\"])\n",
    "\n",
    "    # Make the POST request\n",
    "    response = requests.post(\n",
    "        url=f\"https://api.up42.com/v2/processing/processes/{process_id}/validation\",\n",
    "        auth=BearerAuth(token),\n",
    "        json=job_input\n",
    "    )\n",
    "\n",
    "    return response\n",
    "\n",
    "# Print the response\n",
    "validation = validate_job(job_input, process_id)\n",
    "\n",
    "if validation.status_code == 200:\n",
    "    print(\"The input is valid.\")\n",
    "else:\n",
    "    print(f\"Status code: {validation.status_code}\")\n",
    "    print(f\"Status code: {validation.text}\")"
   ]
  },
  {
   "cell_type": "markdown",
   "id": "c13bb11f",
   "metadata": {},
   "source": [
    "### 3. Estimate the cost\n",
    "\n",
    "Check the cost of a processing job before creating it.\n",
    "\n",
    "You will receive an overview of the overall UP42 credit amount that will be deducted from your credit balance if you decide to run the selected process."
   ]
  },
  {
   "cell_type": "code",
   "execution_count": 14,
   "id": "015e7e7f",
   "metadata": {},
   "outputs": [
    {
     "name": "stdout",
     "output_type": "stream",
     "text": [
      "The cost is 0 UP42 credits. The size of the STAC item is 0.1502011413661941 SQ_KM.\n"
     ]
    }
   ],
   "source": [
    "def estimate_job(item_input, process_id):\n",
    "\n",
    "    # Authenticate\n",
    "    token = auth(credentials[\"username\"], credentials[\"password\"])\n",
    "\n",
    "    # Make the POST request\n",
    "    response = requests.post(\n",
    "        url=f\"https://api.up42.com/v2/processing/processes/{process_id}/cost\",\n",
    "        auth=BearerAuth(token),\n",
    "        json=item_input\n",
    "    )\n",
    "\n",
    "    return response\n",
    "\n",
    "# Define the STAC item, no other parameters are needed\n",
    "item_input = {\n",
    "    \"inputs\": {\n",
    "        \"item\": input_imagery\n",
    "        }\n",
    "    }\n",
    "\n",
    "# Print the response\n",
    "estimation = estimate_job(item_input, process_id)\n",
    "\n",
    "if estimation.status_code == 200:\n",
    "    totalCredits = estimation.json().get(\"totalCredits\")\n",
    "    if totalCredits is not None:\n",
    "        print(f\"The cost is {totalCredits} UP42 credits. The size of the STAC item is {estimation.json().get('totalSize')} {estimation.json().get('unit')}.\")\n",
    "    else:\n",
    "        print(\"No cost found.\")\n",
    "else:\n",
    "    print(f\"Status code: {estimation.status_code}\")\n",
    "    print(f\"Status text: {estimation.text}\")"
   ]
  },
  {
   "cell_type": "markdown",
   "id": "0a58c82e-a15d-4a11-ac4e-375cf3fa5f54",
   "metadata": {
    "tags": []
   },
   "source": [
    "### 4. Create a new processing job\n",
    "\n",
    "Create a new processing job by running the process.\n",
    "\n",
    "**Warning:** Credits will be deducted upon successful completion of the created processing job. The transaction can't be reversed."
   ]
  },
  {
   "cell_type": "code",
   "execution_count": 15,
   "id": "f1c0de60",
   "metadata": {},
   "outputs": [
    {
     "name": "stdout",
     "output_type": "stream",
     "text": [
      "A new processing job has been created.\n",
      "The job ID: 55434287-31bc-3ad7-1a63-d61aac11ac55\n"
     ]
    }
   ],
   "source": [
    "def execute_job(job_input, process_id, workspace_id):\n",
    "\n",
    "    # Authenticate\n",
    "    token = auth(credentials[\"username\"], credentials[\"password\"])\n",
    "\n",
    "    # Make the POST request\n",
    "    response = requests.post(\n",
    "        url=f\"https://api.up42.com/v2/processing/processes/{process_id}/execution\",\n",
    "        params={\"workspaceId\": workspace_id},\n",
    "        auth=BearerAuth(token),\n",
    "        json=job_input\n",
    "    )\n",
    "\n",
    "    return response\n",
    "\n",
    "# Print the response\n",
    "execution = execute_job(job_input, process_id, workspace_id)\n",
    "\n",
    "if execution.status_code == 201:\n",
    "    print(\"A new processing job has been created.\")\n",
    "    job_id = json.loads(execution.text)[\"jobID\"]\n",
    "    print(\"The job ID:\", job_id)\n",
    "else:\n",
    "    print(f\"Status code: {execution.status_code}\")\n",
    "    print(f\"Status code: {execution.text}\")"
   ]
  },
  {
   "cell_type": "markdown",
   "id": "8f112903-ee36-4cc3-895a-195f11d5dc97",
   "metadata": {},
   "source": [
    "## Step 5. Monitor your processing job\n",
    "\n",
    "Check the [status](https://docs.up42.com/developers/api-processing/processing-monitor#job-statuses) of your job."
   ]
  },
  {
   "cell_type": "code",
   "execution_count": 16,
   "id": "2cc96de5-35c1-4f9e-bccd-a73273d9d0f5",
   "metadata": {
    "tags": []
   },
   "outputs": [
    {
     "name": "stdout",
     "output_type": "stream",
     "text": [
      "The status of the job: successful\n",
      "The job ID: 55434287-31bc-3ad7-1a63-d61aac11ac55\n"
     ]
    }
   ],
   "source": [
    "def get_job_status(job_id):\n",
    "\n",
    "    # Authenticate\n",
    "    token = auth(credentials[\"username\"], credentials[\"password\"])\n",
    "\n",
    "    # Get job status\n",
    "    response = requests.get(\n",
    "        url=f\"https://api.up42.com/v2/processing/jobs/{job_id}\",\n",
    "        auth=BearerAuth(token)\n",
    "    )\n",
    "\n",
    "    return response\n",
    "\n",
    "# Print the response\n",
    "job_status = get_job_status(job_id).json()\n",
    "print(\"The status of the job:\", job_status[\"status\"])\n",
    "print(\"The job ID:\", job_id)"
   ]
  },
  {
   "cell_type": "markdown",
   "id": "c4dcc9a0",
   "metadata": {},
   "source": [
    "The `successful` status means you can access processing results."
   ]
  },
  {
   "cell_type": "markdown",
   "id": "adaf4d98-84d8-41d8-9f17-0717a3f0cb1b",
   "metadata": {},
   "source": [
    "## Step 6. Download processing results\n",
    "\n",
    "### 1. Retrieve download links"
   ]
  },
  {
   "cell_type": "code",
   "execution_count": 17,
   "id": "482ff397",
   "metadata": {},
   "outputs": [
    {
     "name": "stdout",
     "output_type": "stream",
     "text": [
      "Title: Pansharpened multispectral data\n",
      "Href: https://api.up42.com/v2/assets/ea36dee9-fed6-457e-8400-2c20ebd30f44\n",
      "\n",
      "\n"
     ]
    }
   ],
   "source": [
    "# Search by job ID\n",
    "search_by_job_id = {\n",
    "  \"filter\": {\n",
    "        \"args\": [\n",
    "          {\n",
    "            \"property\": \"job_id\"\n",
    "          },\n",
    "          job_id\n",
    "        ],\n",
    "        \"op\": \"=\"\n",
    "      }\n",
    "}\n",
    "\n",
    "# Get the search result\n",
    "search_result = STAC_search(search_by_job_id).json()\n",
    "\n",
    "if \"features\" in search_result and len(search_result[\"features\"]) > 0:\n",
    "    features = search_result[\"features\"][0]\n",
    "\n",
    "    # Check if \"assets\" key exists in the first feature\n",
    "    if \"assets\" in features:\n",
    "        assets = features[\"assets\"]\n",
    "\n",
    "        # Variables to store title and href values of the first asset with \"data\" role\n",
    "        data_asset_title = \"No title\"\n",
    "        data_asset_href = None\n",
    "\n",
    "       # Iterate over assets and find the first one with \"data\" role\n",
    "        for asset_key, asset_info in assets.items():\n",
    "            roles = asset_info.get(\"roles\", [])\n",
    "            if \"data\" in roles:\n",
    "                data_asset_title = asset_info.get(\"title\", \"No title\")  # Default value if title is not present\n",
    "                data_asset_href = asset_info.get(\"href\")\n",
    "\n",
    "                # Stop searching after the first asset with \"data\" role is found\n",
    "                break\n",
    "\n",
    "        # Check if any asset with \"data\" role was found\n",
    "        if data_asset_href is not None:\n",
    "            print(f\"Title: {data_asset_title}\\nHref: {data_asset_href}\\n\\n\")\n",
    "        else:\n",
    "            print(\"No data assets found.\")\n",
    "    else:\n",
    "        print(\"No assets found in \\\"features\\\".\")\n",
    "else:\n",
    "    print(\"No \\\"features\\\" found.\")"
   ]
  },
  {
   "cell_type": "markdown",
   "id": "c130e8bf",
   "metadata": {},
   "source": [
    "### 2. Download assets"
   ]
  },
  {
   "cell_type": "code",
   "execution_count": 18,
   "id": "11be9856",
   "metadata": {},
   "outputs": [],
   "source": [
    "output_directory = \"/Users/max.mustermann/Desktop/\" # Add an existing directory"
   ]
  },
  {
   "cell_type": "code",
   "execution_count": 19,
   "id": "00610f27",
   "metadata": {},
   "outputs": [
    {
     "name": "stdout",
     "output_type": "stream",
     "text": [
      "Asset downloaded successfully: /Users/max.mustermann/Desktop/ea36dee9-fed6-457e-8400-2c20ebd30f44.tiff\n",
      "Visualize the asset using QGIS: https://docs.up42.com/help/visualize\n"
     ]
    }
   ],
   "source": [
    "def download_assets(data_asset_href, output_directory):\n",
    "\n",
    "    # Authenticate\n",
    "    token = auth(credentials[\"username\"], credentials[\"password\"])\n",
    "\n",
    "    # Get the asset\n",
    "    response = requests.get(\n",
    "        url=data_asset_href,\n",
    "        auth=BearerAuth(token),\n",
    "        stream=True  # Set stream=True to download large files efficiently\n",
    "    )\n",
    "\n",
    "    # Check if the request was successful\n",
    "    if response.status_code == 200:\n",
    "        # Extract the file name from the URL\n",
    "        file_name = os.path.basename(data_asset_href)\n",
    "\n",
    "        # Append \".tiff\" extension to the file name\n",
    "        file_name_with_extension = f\"{file_name}.tiff\"\n",
    "\n",
    "        # Combine the output directory and file name with extension\n",
    "        output_file_path = os.path.join(output_directory, file_name_with_extension)\n",
    "\n",
    "        # Open the file for writing in binary mode\n",
    "        with open(output_file_path, \"wb\") as output_file:\n",
    "            # Iterate over the content in chunks and write to the file\n",
    "            for chunk in response.iter_content(chunk_size=128):\n",
    "                output_file.write(chunk)\n",
    "\n",
    "        print(f\"Asset downloaded successfully: {output_file_path}\\nVisualize the asset using QGIS: https://docs.up42.com/help/visualize\")\n",
    "    else:\n",
    "        print(f\"Failed to download.\\nStatus code: {response.status_code}\\nText: {response.text}\")\n",
    "\n",
    "download_assets(data_asset_href, output_directory)\n"
   ]
  }
 ],
 "metadata": {
  "kernelspec": {
   "display_name": "Python 3 (ipykernel)",
   "language": "python",
   "name": "python3"
  },
  "language_info": {
   "codemirror_mode": {
    "name": "ipython",
    "version": 3
   },
   "file_extension": ".py",
   "mimetype": "text/x-python",
   "name": "python",
   "nbconvert_exporter": "python",
   "pygments_lexer": "ipython3",
   "version": "3.11.3"
  }
 },
 "nbformat": 4,
 "nbformat_minor": 5
}
